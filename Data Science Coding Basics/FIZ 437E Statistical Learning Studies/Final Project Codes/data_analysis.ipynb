{
 "cells": [
  {
   "cell_type": "markdown",
   "metadata": {},
   "source": [
    "# Data Analysis\n",
    "\n",
    "## A Brief Introduction to Data\n",
    "\n",
    "As mentioned in the introduction, IceCube Project gathers data about neutrinos via observing Cherenkov radiation. This radiation is catched by PMTs and afterwards, DOMs process and send information to DOM-HUBs. DOM-HUBs, finally, connect with computers to record the data. \n",
    "\n",
    "These data recorded may contain information about different experimental topics, such as search for dark matter or point sources. IceCube also has simulated neutrino events and opened the data for public use, an example is the data labeled as three year high-statistics neutrino oscillation samples. Data for different year intervals and different string numbers are also present.\n",
    "\n",
    "For the purposes of this study, we will focus on point source data taken from IceCube Project website. \n",
    "\n",
    "Experiment data are stored in different types of files such as hd5, text or sometimes csv files. Every row in the data contains an event, which is an observed neutrino signal coming from PMTs. \n",
    "\n",
    "Some concepts have importance in order to further analyze point source data. Point source locations are recorded as astronomical coordinates. Astronomical coordinates -right ascension and declination angle- is used to find objects and sources of light in the night sky. Similar to longitudes, right ascension is measured in hours, minutes and seconds, but some data contains right ascension as angles. Declination on the other hand, is measured in degrees, arcminutes and arcseconds, just like latitudes. It tells us how far overhead an object will be in the sky. Some data also contains angular error for declination angle and right ascension angle -if right ascension is provided with angle-. Time is included in the data as MJD (Modified Julian Day), and can be converted to day/month/year format from there. \n",
    "\n",
    "## Poisson Behavior of IceCube Project Point-Source Data\n",
    "\n",
    "A little glance at the data will reveal that neutrinos that are observed, come from all space. There is no specific correlation between neutrino events, meaning that this experiment is a stochastic process. \n",
    "\n",
    "Stochastic processes are in a deep relation with Poisson distribution. Poisson Processes are random and discrete. Poisson distributions relates the time needed to be taken for occurance of another event where events have no relationship between each other, with a probability distribution. In other words, the poisson process gives a probability of an event to happen after another event. \n",
    "\n",
    "IceCube data should obey Poisson behaviour, as there is no relation between one muon neutrino detected with another one. We can show randomness of the location of an event by plotting all of any of the astronomical coordinate data. Data here will be taken from IceCube 40 string data present in the website. We do expect that this plot will be -as an expression- 'chaotic'.\n",
    "\n",
    "*** all data plotted figure ***\n",
    "\n",
    "Scatter plot of all right ascencion data does not explain anything to us as expected. This is due to events being totally unrelated to each other, so there is no any specific value of right ascencion, which contains more events. This concludes to a plot which is highly populated in all areas, with help of how big our data is.\n",
    "\n",
    "Yet another way to show our data is Poissonian is to plot a Poisson Distribution using astronomical coordinates. As Poisson behaviour describes how many times an event happens in a certain time, this time we expect a relatively nice-looking Poisson plot describing how many times a muon neutrino is detected on PMTs in a particular interval of time.\n",
    "\n",
    "*** Poisson plot example figure ***\n",
    "\n",
    "Poisson behaviour of IceCube data is clear, but one might ask, what about Gaussion Distribution plot with the same data? As right ascension data have many events happening, a continuous behavior may be expected. Even if discrete, a big number of events can show Gauissian behavior. Figure below shows Gaussian distribution plot of the same data.\n",
    "\n",
    "*** Gaussian plot example figure ***\n",
    "\n",
    "It is important to notice the number of data we have in our hand to analyze correctly using the right behavioral model. This plot shows if the data is big enough, it behaves close to Gaussian distribution. \n",
    "\n",
    "## Brief Discussion on Error\n",
    "\n",
    "Error propagation and analysis will be deeply included in the future article, though we have started to analyze some of the error. One of which includes angular error is the IceCube 59 string data on search for point sources using muon events. \n",
    "\n",
    "Again, plotting all our data would not be convenient as it would not give us enough information. Also if we were to plot error bars on that data, resultant plot would be even worse. What we begin with is the head of the declination angle data. We have taken time in MJD format and plotted it with declination angle, which have contained error bars. But since our angular error on this data set is too small compared to actual values of our data, error bars stood really small on the plot. So we have changed the plotting type of errors to dashed lines following our actual data.\n",
    "\n",
    "*** data head figure ***\n",
    "\n",
    "As can be seen in the figure above, values differ by massive amount relative to each other. So our dashed line error plot looks a lot nicer in a sense.\n",
    "\n",
    "*** dashed error plot figure ***\n",
    "\n",
    "Plot shows clearly that angles of coordinates are well measured with the devices in hand. Though if we are to simulate or predict any values using these data, we will have to include error propagation for error of calculated/simulated resultant data.\n",
    "\n",
    "## Relationship Between IceCube Data and Bayesian Analysis\n",
    "\n",
    "Assumption of Bayesian analysis is that all parameters are random quantities. We have showed that our neutrino data also is random and discrete. "
   ]
  },
  {
   "cell_type": "markdown",
   "metadata": {},
   "source": [
    "# References\n",
    "\n",
    "IceCube Project website"
   ]
  }
 ],
 "metadata": {
  "kernelspec": {
   "display_name": "Python 3",
   "language": "python",
   "name": "python3"
  },
  "language_info": {
   "codemirror_mode": {
    "name": "ipython",
    "version": 3
   },
   "file_extension": ".py",
   "mimetype": "text/x-python",
   "name": "python",
   "nbconvert_exporter": "python",
   "pygments_lexer": "ipython3",
   "version": "3.8.0"
  }
 },
 "nbformat": 4,
 "nbformat_minor": 4
}
