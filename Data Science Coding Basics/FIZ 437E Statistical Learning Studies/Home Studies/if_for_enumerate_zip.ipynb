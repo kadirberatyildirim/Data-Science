{
 "cells": [
  {
   "cell_type": "code",
   "execution_count": 2,
   "metadata": {},
   "outputs": [
    {
     "name": "stdout",
     "output_type": "stream",
     "text": [
      "1 is equal to 1\n"
     ]
    }
   ],
   "source": [
    "x = 1\n",
    "\n",
    "if x == 1:\n",
    "    print(x, 'is equal to 1')\n",
    "else:\n",
    "    print(x, 'is not equal to 1')"
   ]
  },
  {
   "cell_type": "markdown",
   "metadata": {},
   "source": [
    "We can give user an option to enter x."
   ]
  },
  {
   "cell_type": "code",
   "execution_count": 3,
   "metadata": {},
   "outputs": [
    {
     "name": "stdin",
     "output_type": "stream",
     "text": [
      "Enter your desired number 3\n"
     ]
    },
    {
     "name": "stdout",
     "output_type": "stream",
     "text": [
      "3 is not equal to 1\n"
     ]
    }
   ],
   "source": [
    "x = int(input('Enter your desired number'))\n",
    "\n",
    "if x == 1:\n",
    "    print(x, 'is equal to 1')\n",
    "else:\n",
    "    print(x, 'is not equal to 1')"
   ]
  },
  {
   "cell_type": "code",
   "execution_count": 4,
   "metadata": {},
   "outputs": [
    {
     "name": "stdout",
     "output_type": "stream",
     "text": [
      "4 is positive\n"
     ]
    }
   ],
   "source": [
    "x = 4\n",
    "\n",
    "if x > 0 :\n",
    "    print(x, 'is positive')\n",
    "else:\n",
    "    print(x, 'is negative')"
   ]
  },
  {
   "cell_type": "code",
   "execution_count": 5,
   "metadata": {},
   "outputs": [
    {
     "name": "stdout",
     "output_type": "stream",
     "text": [
      "4 is even\n"
     ]
    }
   ],
   "source": [
    "if x%2 == 0:\n",
    "    print(x, 'is even')\n",
    "else:\n",
    "    print(x, 'is odd')"
   ]
  },
  {
   "cell_type": "code",
   "execution_count": 6,
   "metadata": {},
   "outputs": [
    {
     "name": "stdout",
     "output_type": "stream",
     "text": [
      "4 is smaller than 5\n"
     ]
    }
   ],
   "source": [
    "x = 4\n",
    "y = 5\n",
    "\n",
    "if x > y :\n",
    "    print(x, 'is greater than', y)\n",
    "elif x < y :\n",
    "    print(x, 'is smaller than', y)\n",
    "else:\n",
    "    print('They are equal')"
   ]
  },
  {
   "cell_type": "code",
   "execution_count": 7,
   "metadata": {},
   "outputs": [
    {
     "name": "stdout",
     "output_type": "stream",
     "text": [
      "The grade is B\n"
     ]
    }
   ],
   "source": [
    "points = 80\n",
    "\n",
    "if points >= 85:\n",
    "    print('The grade is A')\n",
    "elif points >= 70 and points <= 85:\n",
    "    print('The grade is B')\n",
    "elif points >= 60 and points <= 70:\n",
    "    print('The grade is C')\n",
    "elif points >= 45 and points <= 60:\n",
    "    print('The grade is D')\n",
    "else:\n",
    "    print('This guy failed!')"
   ]
  },
  {
   "cell_type": "code",
   "execution_count": 8,
   "metadata": {},
   "outputs": [
    {
     "name": "stdout",
     "output_type": "stream",
     "text": [
      "Jacke\n",
      "John\n",
      "Marry\n",
      "Jessie\n",
      "Jacke\n",
      "John\n",
      "Marry\n",
      "Jessie\n"
     ]
    }
   ],
   "source": [
    "k = ['Jacke', 'John', 'Marry', 'Jessie']\n",
    "\n",
    "for i in range(0, len(k)):\n",
    "    print(k[i])\n",
    "    \n",
    "for name in k:\n",
    "    print(name)\n"
   ]
  },
  {
   "cell_type": "code",
   "execution_count": 10,
   "metadata": {},
   "outputs": [
    {
     "name": "stdout",
     "output_type": "stream",
     "text": [
      "1 ocak  Berat\n",
      "2 ocak  Efe\n",
      "3 ocak  Berrak\n",
      "4 ocak  Masuk\n",
      "5 ocak  Cem\n",
      "6 ocak  Can\n",
      "7 ocak  Berat\n",
      "8 ocak  Efe\n",
      "9 ocak  Berrak\n",
      "10 ocak  Masuk\n",
      "11 ocak  Cem\n",
      "12 ocak  Can\n",
      "13 ocak  Berat\n",
      "14 ocak  Efe\n",
      "15 ocak  Berrak\n",
      "16 ocak  Masuk\n",
      "17 ocak  Cem\n",
      "18 ocak  Can\n",
      "19 ocak  Berat\n",
      "20 ocak  Efe\n",
      "21 ocak  Berrak\n",
      "22 ocak  Masuk\n",
      "23 ocak  Cem\n",
      "24 ocak  Can\n",
      "25 ocak  Berat\n",
      "26 ocak  Efe\n",
      "27 ocak  Berrak\n",
      "28 ocak  Masuk\n",
      "29 ocak  Cem\n",
      "30 ocak  Can\n"
     ]
    }
   ],
   "source": [
    "namelist = ['Berat', 'Efe', 'Berrak', 'Masuk', 'Cem', 'Can']\n",
    "\n",
    "for i in range(0, 30):\n",
    "    if i%6 == 0:\n",
    "        print(i+1, 'ocak ', namelist[0])\n",
    "    elif i%6 == 1:\n",
    "        print(i+1, 'ocak ', namelist[1])\n",
    "    elif i%6 == 2:\n",
    "        print(i+1, 'ocak ', namelist[2])\n",
    "    elif i%6 == 3:\n",
    "        print(i+1, 'ocak ', namelist[3])\n",
    "    elif i%6 == 4:\n",
    "        print(i+1, 'ocak ', namelist[4])\n",
    "    elif i%6 == 5:\n",
    "        print(i+1, 'ocak ', namelist[5])"
   ]
  },
  {
   "cell_type": "code",
   "execution_count": 11,
   "metadata": {},
   "outputs": [
    {
     "name": "stdout",
     "output_type": "stream",
     "text": [
      "1 ocak  Ahmet\n",
      "2 ocak  Ali\n",
      "3 ocak  Ayşe\n",
      "4 ocak  Gökhan\n",
      "5 ocak  Zeynep\n",
      "6 ocak  Fatih\n",
      "7 ocak  Ahmet\n",
      "8 ocak  Ali\n",
      "9 ocak  Ayşe\n",
      "10 ocak  Gökhan\n",
      "11 ocak  Zeynep\n",
      "12 ocak  Fatih\n",
      "13 ocak  Ahmet\n",
      "14 ocak  Ali\n",
      "15 ocak  Ayşe\n",
      "16 ocak  Gökhan\n",
      "17 ocak  Zeynep\n",
      "18 ocak  Fatih\n",
      "19 ocak  Ahmet\n",
      "20 ocak  Ali\n",
      "21 ocak  Ayşe\n",
      "22 ocak  Gökhan\n",
      "23 ocak  Zeynep\n",
      "24 ocak  Fatih\n",
      "25 ocak  Ahmet\n",
      "26 ocak  Ali\n",
      "27 ocak  Ayşe\n",
      "28 ocak  Gökhan\n",
      "29 ocak  Zeynep\n",
      "30 ocak  Fatih\n"
     ]
    }
   ],
   "source": [
    "namelist = {0:'Ahmet', 1:'Ali', 2:'Ayşe', 3:'Gökhan', 4:'Zeynep', 5:'Fatih'}\n",
    "\n",
    "for i in range(0, 30):\n",
    "    x = i%6\n",
    "    print(i+1, 'ocak ', namelist[x])"
   ]
  },
  {
   "cell_type": "code",
   "execution_count": 12,
   "metadata": {},
   "outputs": [
    {
     "name": "stdout",
     "output_type": "stream",
     "text": [
      "(1, 2)\n",
      "1 2\n",
      "3 4\n",
      "5 6\n"
     ]
    }
   ],
   "source": [
    "T = [(1, 2), (3, 4), (5, 6)]\n",
    "\n",
    "print(T[0])\n",
    "\n",
    "for (a, b) in T:\n",
    "    print(a, b)"
   ]
  },
  {
   "cell_type": "code",
   "execution_count": 13,
   "metadata": {},
   "outputs": [
    {
     "name": "stdout",
     "output_type": "stream",
     "text": [
      "a ==> 1\n",
      "b ==> 2\n",
      "c ==> 3\n",
      "dict_items([('a', 1), ('b', 2), ('c', 3)])\n",
      "[('a', 1), ('b', 2), ('c', 3)]\n",
      "a ==> 1\n",
      "b ==> 2\n",
      "c ==> 3\n"
     ]
    }
   ],
   "source": [
    "D = {'a': 1, 'b': 2, 'c': 3}\n",
    "\n",
    "for key in D:\n",
    "    print(key, '==>', D[key])\n",
    "    \n",
    "print(D.items())\n",
    "\n",
    "print(list(D.items()))\n",
    "\n",
    "for (key, value) in D.items():\n",
    "    print(key, '==>', value)"
   ]
  },
  {
   "cell_type": "code",
   "execution_count": 14,
   "metadata": {},
   "outputs": [
    {
     "name": "stdout",
     "output_type": "stream",
     "text": [
      "0\n",
      "1\n",
      "4\n",
      "9\n",
      "16\n",
      "25\n",
      "36\n",
      "49\n",
      "64\n",
      "81\n"
     ]
    }
   ],
   "source": [
    "x = 0\n",
    "\n",
    "while x < 10 :\n",
    "    y = x**2\n",
    "    print(y)\n",
    "    x = x + 1"
   ]
  },
  {
   "cell_type": "code",
   "execution_count": 15,
   "metadata": {},
   "outputs": [
    {
     "name": "stdout",
     "output_type": "stream",
     "text": [
      "The number of iteration is  84\n",
      "The last x number generated is  45\n"
     ]
    }
   ],
   "source": [
    "import random\n",
    "\n",
    "x = 0\n",
    "counter = 0\n",
    "\n",
    "while x != 45:\n",
    "    x = random.randint(0, 100)\n",
    "    counter += 1\n",
    "\n",
    "print('The number of iteration is ', counter)\n",
    "print('The last x number generated is ', x)"
   ]
  },
  {
   "cell_type": "code",
   "execution_count": 16,
   "metadata": {},
   "outputs": [
    {
     "name": "stdout",
     "output_type": "stream",
     "text": [
      "4 is a positive number\n"
     ]
    }
   ],
   "source": [
    "x=4\n",
    "if x<0:\n",
    "    print(x,\"is a negative counter\")\n",
    "elif x==0:\n",
    "        pass\n",
    "else:\n",
    "    print(x,\"is a positive number\")"
   ]
  },
  {
   "cell_type": "code",
   "execution_count": 17,
   "metadata": {},
   "outputs": [
    {
     "name": "stdout",
     "output_type": "stream",
     "text": [
      "86420"
     ]
    }
   ],
   "source": [
    "x = 10\n",
    "\n",
    "while x >=0:\n",
    "    x = x-1\n",
    "    if x%2 != 0:\n",
    "        continue\n",
    "    print(x, end = '')"
   ]
  },
  {
   "cell_type": "code",
   "execution_count": 21,
   "metadata": {},
   "outputs": [
    {
     "name": "stdout",
     "output_type": "stream",
     "text": [
      "square of  0 is  0\n",
      "square of  1 is  1\n",
      "square of  3 is  9\n",
      "square of  4 is  16\n",
      "square of  6 is  36\n",
      "square of  7 is  49\n",
      "square of  9 is  81\n"
     ]
    }
   ],
   "source": [
    "mylist=[2,5,8]\n",
    "\n",
    "for i in range(10):\n",
    "    if i in mylist:\n",
    "        continue\n",
    "    x=i**2\n",
    "    print(\"square of \", i, \"is \", x)"
   ]
  },
  {
   "cell_type": "code",
   "execution_count": 22,
   "metadata": {},
   "outputs": [
    {
     "name": "stdout",
     "output_type": "stream",
     "text": [
      "Berat\n",
      "Efe\n",
      "Berrak\n",
      "Masuk\n",
      "Cem\n",
      "Can\n"
     ]
    }
   ],
   "source": [
    "namelist = ['Berat', 'Efe', 'Berrak', 'Masuk', 'Cem', 'Can']\n",
    "\n",
    "for i in range(len(namelist)):\n",
    "    if namelist[i] == 'Gökhan':\n",
    "        break\n",
    "    else:\n",
    "        print(namelist[i])"
   ]
  },
  {
   "cell_type": "code",
   "execution_count": 23,
   "metadata": {},
   "outputs": [
    {
     "name": "stdout",
     "output_type": "stream",
     "text": [
      "Ahmet\n",
      "Ali\n",
      "Ayşe\n"
     ]
    }
   ],
   "source": [
    "namelist=[\"Ahmet\",\"Ali\",\"Ayşe\",\"Gökhan\",\"Zeynep\",\"Fatih\"]\n",
    "\n",
    "for name in namelist:\n",
    "    if name == \"Gökhan\":\n",
    "        break\n",
    "    else:\n",
    "        print(name)"
   ]
  },
  {
   "cell_type": "code",
   "execution_count": 24,
   "metadata": {},
   "outputs": [
    {
     "name": "stdout",
     "output_type": "stream",
     "text": [
      "Serhat was not found\n",
      "Zeynep was found\n",
      "Akif was not found\n"
     ]
    }
   ],
   "source": [
    "namelist=[\"Ahmet\",\"Ali\",\"Ayşe\",\"Gökhan\",\"Zeynep\",\"Fatih\"]\n",
    "\n",
    "searchlist = ['Serhat', 'Zeynep', 'Akif']\n",
    "\n",
    "for search in searchlist:\n",
    "    for name in namelist:\n",
    "        if search==name:\n",
    "            print(search, 'was found')\n",
    "            break\n",
    "    else:\n",
    "        print(search, 'was not found')"
   ]
  },
  {
   "cell_type": "code",
   "execution_count": 25,
   "metadata": {},
   "outputs": [
    {
     "name": "stdout",
     "output_type": "stream",
     "text": [
      "[(0, 'P'), (1, 'y'), (2, 't'), (3, 'h'), (4, 'o'), (5, 'n')]\n",
      "(0, 'P')\n",
      "[(0, [1, 2]), (1, [[1, 2], [2, 3]])]\n"
     ]
    }
   ],
   "source": [
    "s = 'Python'\n",
    "k = list(enumerate(s))\n",
    "print(k)\n",
    "print(k[0])\n",
    "a = [[1, 2], [[1, 2], [2, 3]]]\n",
    "b = list(enumerate(a))\n",
    "print(b)"
   ]
  },
  {
   "cell_type": "code",
   "execution_count": 26,
   "metadata": {},
   "outputs": [
    {
     "name": "stdout",
     "output_type": "stream",
     "text": [
      "[(11, 'P'), (15, 'y'), (20, 't'), (30, 'h'), (45, 'o'), (60, 'n')]\n",
      "[(11, 'P', 'Name1'), (15, 'y', 'Name2'), (20, 't', 'Name3'), (30, 'h', 'Name4'), (45, 'o', 'Name5'), (60, 'n', 'Name6')]\n",
      "6\n"
     ]
    }
   ],
   "source": [
    "s = 'Python'\n",
    "r = [11, 15, 20, 30, 45, 60]\n",
    "k = list(zip(r, s))\n",
    "print(k)\n",
    "v = ('Name1', 'Name2', 'Name3', 'Name4', 'Name5', 'Name6')\n",
    "k2 = list(zip(r, s, v))\n",
    "print(k2)\n",
    "print(len(k2))"
   ]
  },
  {
   "cell_type": "code",
   "execution_count": 27,
   "metadata": {},
   "outputs": [
    {
     "name": "stdout",
     "output_type": "stream",
     "text": [
      "[11, 12, 13, 14, 15]\n",
      "[21, 22, 23, 24, 25]\n"
     ]
    }
   ],
   "source": [
    "l = [1, 2, 3, 4, 5]\n",
    "\n",
    "for i in range(len(l)):\n",
    "    l[i] += 10\n",
    "\n",
    "print(l)\n",
    "\n",
    "l2 = [x+10 for x in l]\n",
    "print(l2)"
   ]
  },
  {
   "cell_type": "code",
   "execution_count": 28,
   "metadata": {},
   "outputs": [
    {
     "name": "stdout",
     "output_type": "stream",
     "text": [
      "['al', 'am', 'an', 'bl', 'bm', 'bn', 'cl', 'cm', 'cn']\n",
      "['al', 'am', 'an', 'bl', 'bm', 'bn', 'cl', 'cm', 'cn']\n"
     ]
    }
   ],
   "source": [
    "print([x + y for x in 'abc' for y in 'lmn'])\n",
    "\n",
    "res = []\n",
    "\n",
    "for x in 'abc':\n",
    "    for y in 'lmn':\n",
    "        res.append(x+y)\n",
    "print(res)"
   ]
  },
  {
   "cell_type": "code",
   "execution_count": 29,
   "metadata": {},
   "outputs": [
    {
     "name": "stdout",
     "output_type": "stream",
     "text": [
      "500\n"
     ]
    }
   ],
   "source": [
    "l = [random.randint(0, 100) for x in range(500)]\n",
    "\n",
    "print(len(l))"
   ]
  },
  {
   "cell_type": "code",
   "execution_count": 30,
   "metadata": {},
   "outputs": [
    {
     "name": "stdout",
     "output_type": "stream",
     "text": [
      "[[3, 2, 3, 4, 1, 4, 1, 3, 1, 4], [3, 1, 4, 2, 2, 2, 4, 1, 1, 4], [4, 4, 2, 1, 3, 2, 4, 2, 1, 1], [3, 3, 2, 1, 3, 2, 2, 2, 4, 4], [2, 3, 3, 3, 2, 4, 3, 2, 3, 2], [1, 3, 2, 4, 4, 2, 3, 4, 1, 1], [3, 3, 4, 4, 4, 4, 2, 4, 1, 2], [3, 4, 1, 1, 1, 3, 3, 2, 1, 4], [1, 4, 4, 1, 1, 2, 4, 4, 2, 3], [3, 3, 2, 3, 3, 3, 1, 4, 1, 3]]\n"
     ]
    }
   ],
   "source": [
    "import random\n",
    "\n",
    "dimension = 10\n",
    "randomlist = []\n",
    "\n",
    "for i in range(dimension):\n",
    "    eachrow = []\n",
    "    for j in range(dimension):\n",
    "        eachrow.append(random.randint(1, 4))\n",
    "    randomlist.append(eachrow)\n",
    "print(randomlist)"
   ]
  },
  {
   "cell_type": "code",
   "execution_count": 31,
   "metadata": {},
   "outputs": [
    {
     "name": "stdout",
     "output_type": "stream",
     "text": [
      "{3: 27, 2: 23, 4: 27, 1: 23}\n"
     ]
    }
   ],
   "source": [
    "dimension = 10\n",
    "numberdict = {}\n",
    "\n",
    "for i in range(dimension):\n",
    "    for j in range(dimension):\n",
    "        number = randomlist[i][j]\n",
    "        if numberdict.get(number):\n",
    "            numberdict[number] += 1\n",
    "        else:\n",
    "            numberdict[number] = 1\n",
    "print(numberdict)"
   ]
  },
  {
   "cell_type": "code",
   "execution_count": 32,
   "metadata": {},
   "outputs": [
    {
     "name": "stdout",
     "output_type": "stream",
     "text": [
      "[[23, 1], [23, 2], [27, 3], [27, 4]]\n",
      "[[27, 4], [27, 3], [23, 2], [23, 1]]\n",
      "the number 4  is found 27  times in the list\n",
      "the number 3  is found 27  times in the list\n",
      "the number 2  is found 23  times in the list\n"
     ]
    }
   ],
   "source": [
    "pairs = list(numberdict.items())\n",
    "\n",
    "pairs.sort()\n",
    "\n",
    "newpairs = []\n",
    "\n",
    "for pair in pairs:\n",
    "    newpairs.append([pair[1], pair[0]])\n",
    "\n",
    "print(newpairs)\n",
    "newpairs.sort(reverse = True)\n",
    "print(newpairs)\n",
    "\n",
    "for i in range(3):\n",
    "    print('the number', newpairs[i][1], ' is found', newpairs[i][0], ' times in the list')"
   ]
  },
  {
   "cell_type": "code",
   "execution_count": 33,
   "metadata": {},
   "outputs": [
    {
     "name": "stdout",
     "output_type": "stream",
     "text": [
      "{0, 1, 2, 3, 4, 5, 6, 7, 8, 9, 10}\n",
      "[(16, 0), (8, 1), (9, 2), (8, 3), (10, 4), (8, 5), (10, 6), (8, 7), (6, 8), (5, 9), (12, 10)]\n"
     ]
    }
   ],
   "source": [
    "randomlist = [random.randint(0, 10) for x in range(100)]\n",
    "\n",
    "uniques = set(randomlist)\n",
    "\n",
    "print(uniques)\n",
    "\n",
    "freqs = [randomlist.count(i) for i in uniques]\n",
    "\n",
    "freqslist = list(zip(freqs, uniques))\n",
    "\n",
    "print(freqslist)"
   ]
  }
 ],
 "metadata": {
  "kernelspec": {
   "display_name": "Python 3",
   "language": "python",
   "name": "python3"
  },
  "language_info": {
   "codemirror_mode": {
    "name": "ipython",
    "version": 3
   },
   "file_extension": ".py",
   "mimetype": "text/x-python",
   "name": "python",
   "nbconvert_exporter": "python",
   "pygments_lexer": "ipython3",
   "version": "3.7.4"
  }
 },
 "nbformat": 4,
 "nbformat_minor": 4
}
