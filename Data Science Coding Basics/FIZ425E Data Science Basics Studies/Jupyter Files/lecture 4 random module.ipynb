{
 "cells": [
  {
   "cell_type": "markdown",
   "metadata": {},
   "source": [
    "# Random module"
   ]
  },
  {
   "cell_type": "code",
   "execution_count": 1,
   "metadata": {},
   "outputs": [
    {
     "name": "stdout",
     "output_type": "stream",
     "text": [
      "random() :  0.9102514320018852\n"
     ]
    }
   ],
   "source": [
    "import random\n",
    "\n",
    "print(\"random() : \", random.random())"
   ]
  },
  {
   "cell_type": "code",
   "execution_count": 2,
   "metadata": {},
   "outputs": [
    {
     "name": "stdout",
     "output_type": "stream",
     "text": [
      "choice([1, 2, 3, 4, 5, 9]) :  3\n"
     ]
    }
   ],
   "source": [
    "print(\"choice([1, 2, 3, 4, 5, 9]) : \", random.choice([1, 2, 3, 4, 5, 9]))"
   ]
  },
  {
   "cell_type": "code",
   "execution_count": 3,
   "metadata": {},
   "outputs": [
    {
     "name": "stdout",
     "output_type": "stream",
     "text": [
      "choice([1, 2, 3, 4, 5, 9]) :  5\n"
     ]
    }
   ],
   "source": [
    "print(\"choice([1, 2, 3, 4, 5, 9]) : \", random.choice([1, 2, 3, 4, 5, 9]))"
   ]
  },
  {
   "cell_type": "code",
   "execution_count": 5,
   "metadata": {},
   "outputs": [
    {
     "data": {
      "text/plain": [
       "920"
      ]
     },
     "execution_count": 5,
     "metadata": {},
     "output_type": "execute_result"
    }
   ],
   "source": [
    "random.randrange(100, 1000, 2) # 100 ile 1000 arasında 2şer 2şer giden sayılardan seçer"
   ]
  },
  {
   "cell_type": "code",
   "execution_count": 6,
   "metadata": {},
   "outputs": [
    {
     "data": {
      "text/plain": [
       "439"
      ]
     },
     "execution_count": 6,
     "metadata": {},
     "output_type": "execute_result"
    }
   ],
   "source": [
    "random.randrange(100, 1000, 3) # 100 ile 1000 arasında 3er 3er giden sayılardan seçer"
   ]
  },
  {
   "cell_type": "markdown",
   "metadata": {},
   "source": [
    "---\n",
    "\n",
    "### seed([x])\n",
    "\n",
    "The method seed() sets the integer starting value used in generating random numbers. Call this function before calling any other random module function."
   ]
  },
  {
   "cell_type": "code",
   "execution_count": 7,
   "metadata": {},
   "outputs": [
    {
     "name": "stdout",
     "output_type": "stream",
     "text": [
      "Random number with seed 10 :  0.5714025946899135\n"
     ]
    }
   ],
   "source": [
    "random.seed(10)\n",
    "print(\"Random number with seed 10 : \", random.random())"
   ]
  },
  {
   "cell_type": "code",
   "execution_count": 8,
   "metadata": {},
   "outputs": [
    {
     "name": "stdout",
     "output_type": "stream",
     "text": [
      "Random number with seed 10 :  0.5714025946899135\n"
     ]
    }
   ],
   "source": [
    "random.seed(10)\n",
    "print(\"Random number with seed 10 : \", random.random())"
   ]
  },
  {
   "cell_type": "markdown",
   "metadata": {},
   "source": [
    "---\n",
    "\n",
    "### shuffle(list)\n",
    "\n",
    "Verilen listeyi karıştırır."
   ]
  },
  {
   "cell_type": "code",
   "execution_count": 10,
   "metadata": {},
   "outputs": [
    {
     "data": {
      "text/plain": [
       "[20, 10, 5, 16]"
      ]
     },
     "execution_count": 10,
     "metadata": {},
     "output_type": "execute_result"
    }
   ],
   "source": [
    "list = [20, 16, 10, 5]\n",
    "random.shuffle(list)\n",
    "list"
   ]
  },
  {
   "cell_type": "code",
   "execution_count": 11,
   "metadata": {},
   "outputs": [
    {
     "data": {
      "text/plain": [
       "[10, 20, 16, 5]"
      ]
     },
     "execution_count": 11,
     "metadata": {},
     "output_type": "execute_result"
    }
   ],
   "source": [
    "random.shuffle(list)\n",
    "list"
   ]
  },
  {
   "cell_type": "markdown",
   "metadata": {},
   "source": [
    "---\n",
    "\n",
    "### uniform(x, y)\n",
    "\n",
    "The method uniform() returns a random float r, such that x is less than or equal to r and r is less than y."
   ]
  },
  {
   "cell_type": "code",
   "execution_count": 12,
   "metadata": {},
   "outputs": [
    {
     "data": {
      "text/plain": [
       "5.17201786937823"
      ]
     },
     "execution_count": 12,
     "metadata": {},
     "output_type": "execute_result"
    }
   ],
   "source": [
    "random.uniform(5, 10)"
   ]
  },
  {
   "cell_type": "code",
   "execution_count": 13,
   "metadata": {},
   "outputs": [
    {
     "data": {
      "text/plain": [
       "10.430599073278977"
      ]
     },
     "execution_count": 13,
     "metadata": {},
     "output_type": "execute_result"
    }
   ],
   "source": [
    "random.uniform(7, 14)"
   ]
  },
  {
   "cell_type": "code",
   "execution_count": 14,
   "metadata": {},
   "outputs": [
    {
     "data": {
      "text/plain": [
       "7"
      ]
     },
     "execution_count": 14,
     "metadata": {},
     "output_type": "execute_result"
    }
   ],
   "source": [
    "int(random.uniform(7, 14))"
   ]
  },
  {
   "cell_type": "markdown",
   "metadata": {},
   "source": [
    "---\n",
    "\n",
    "# Random vectors & matrices"
   ]
  },
  {
   "cell_type": "code",
   "execution_count": 15,
   "metadata": {},
   "outputs": [
    {
     "data": {
      "text/plain": [
       "array([[0.32898421, 0.36905087, 0.42362543],\n",
       "       [0.38094508, 0.5152688 , 0.65777255],\n",
       "       [0.80875884, 0.88434786, 0.34458441]])"
      ]
     },
     "execution_count": 15,
     "metadata": {},
     "output_type": "execute_result"
    }
   ],
   "source": [
    "import numpy as np\n",
    "\n",
    "a = np.random.rand(3, 3)\n",
    "a"
   ]
  },
  {
   "cell_type": "markdown",
   "metadata": {},
   "source": [
    "---\n",
    "\n",
    "# Exercise 1-1"
   ]
  },
  {
   "cell_type": "markdown",
   "metadata": {},
   "source": [
    "* Solution 1 "
   ]
  },
  {
   "cell_type": "code",
   "execution_count": 16,
   "metadata": {},
   "outputs": [
    {
     "name": "stdin",
     "output_type": "stream",
     "text": [
      "How many points?...  10000\n"
     ]
    },
    {
     "name": "stdout",
     "output_type": "stream",
     "text": [
      "The value of pi for 10000 points is 3.149600\n"
     ]
    }
   ],
   "source": [
    "from random import random\n",
    "\n",
    "all = eval(input(\"How many points?... \"))\n",
    "\n",
    "inside = 0\n",
    "\n",
    "for i in range(all):\n",
    "    x, y = random(), random()\n",
    "    if(x**2 + y**2)**(0.5) < 1 : inside = inside + 1\n",
    "\n",
    "mypi = 4.0 * (float(inside)/all)\n",
    "print(\"The value of pi for %d points is %f\"%(all, mypi))"
   ]
  },
  {
   "cell_type": "markdown",
   "metadata": {},
   "source": [
    "* Solution 1 with time measurement"
   ]
  },
  {
   "cell_type": "code",
   "execution_count": 19,
   "metadata": {},
   "outputs": [
    {
     "name": "stdin",
     "output_type": "stream",
     "text": [
      "How many points?...  10000\n"
     ]
    },
    {
     "name": "stdout",
     "output_type": "stream",
     "text": [
      "The value of pi for 10000 points is 3.150400 and the time is 0.016482 seconds\n"
     ]
    }
   ],
   "source": [
    "from random import random\n",
    "import time\n",
    "\n",
    "all = eval(input(\"How many points?... \"))\n",
    "\n",
    "starttime = time.perf_counter()\n",
    "inside = 0\n",
    "\n",
    "for i in range(all):\n",
    "    x, y = random(), random()\n",
    "    if(x**2 + y**2)**(0.5) < 1: inside += 1\n",
    "    \n",
    "mypi = 4.0 * (float(inside)/all)\n",
    "\n",
    "elapsedtime = (time.perf_counter() - starttime)\n",
    "print(\"The value of pi for %d points is %f and the time is %f seconds\"%(all, mypi, elapsedtime))"
   ]
  },
  {
   "cell_type": "markdown",
   "metadata": {},
   "source": [
    "* Solution 2"
   ]
  },
  {
   "cell_type": "code",
   "execution_count": 1,
   "metadata": {},
   "outputs": [
    {
     "name": "stdin",
     "output_type": "stream",
     "text": [
      "How many points?...  10000\n"
     ]
    },
    {
     "name": "stdout",
     "output_type": "stream",
     "text": [
      "The value of pi for 10000 points is 3.163600 and the time is 0.093768 seconds\n"
     ]
    }
   ],
   "source": [
    "import numpy as np\n",
    "import time\n",
    "\n",
    "all = eval(input(\"How many points?... \"))\n",
    "\n",
    "starttime = time.perf_counter()\n",
    "inside = 0\n",
    "\n",
    "x = np.random.rand(all)\n",
    "y = np.random.rand(all)\n",
    "\n",
    "for i in range(all):\n",
    "    if(x[i]**2 + y[i]**2)**(0.5) < 1: inside -= -1\n",
    "        \n",
    "mypi = 4.0 * (float(inside)/all)\n",
    "\n",
    "elapsedtime = (time.perf_counter() - starttime)\n",
    "print(\"The value of pi for %d points is %f and the time is %f seconds\"%(all, mypi, elapsedtime))"
   ]
  },
  {
   "cell_type": "markdown",
   "metadata": {},
   "source": [
    "* Solution 2 with vectorization"
   ]
  },
  {
   "cell_type": "code",
   "execution_count": 1,
   "metadata": {},
   "outputs": [
    {
     "name": "stdin",
     "output_type": "stream",
     "text": [
      "How many points?...  10000\n"
     ]
    },
    {
     "name": "stdout",
     "output_type": "stream",
     "text": [
      "The value of pi for 10000 points is 3.168400 and the time is 0.004465 seconds\n"
     ]
    }
   ],
   "source": [
    "import numpy as np\n",
    "from time import perf_counter\n",
    "\n",
    "all = eval(input(\"How many points?... \"))\n",
    "\n",
    "starttime = perf_counter()\n",
    "inside = 0\n",
    "\n",
    "x = np.random.rand(all)\n",
    "y = np.random.rand(all)\n",
    "\n",
    "inside = np.where((x**2 + y**2)**(0.5) < 1,1,0).sum()\n",
    "\n",
    "mypi = 4.0*(inside/all)\n",
    "\n",
    "elapsedtime = (perf_counter() - starttime)\n",
    "print(\"The value of pi for %d points is %f and the time is %f seconds\"%(all, mypi, elapsedtime))"
   ]
  },
  {
   "cell_type": "markdown",
   "metadata": {},
   "source": [
    "---\n",
    "\n",
    "# Exercise 1-2"
   ]
  },
  {
   "cell_type": "code",
   "execution_count": 9,
   "metadata": {},
   "outputs": [
    {
     "data": {
      "image/png": "[encoded data removed]",
      "text/plain": [
       "<Figure size 432x288 with 1 Axes>"
      ]
     },
     "metadata": {},
     "output_type": "display_data"
    },
    {
     "data": {
      "image/png": "[encoded data removed]",
      "text/plain": [
       "<Figure size 432x288 with 1 Axes>"
      ]
     },
     "metadata": {},
     "output_type": "display_data"
    }
   ],
   "source": [
    "import numpy as np\n",
    "import time\n",
    "import matplotlib.pyplot as plt\n",
    "\n",
    "def withoutVectorization(all):\n",
    "    starttime = time.perf_counter()\n",
    "    inside = 0\n",
    "\n",
    "    x = np.random.rand(all)\n",
    "    y = np.random.rand(all)\n",
    "\n",
    "    for i in range(all):\n",
    "        if(x[i]**2 + y[i]**2)**(0.5) < 1: inside -= -1\n",
    "\n",
    "    mypi = 4.0 * (float(inside)/all)\n",
    "\n",
    "    elapsedtime = (time.perf_counter() - starttime)\n",
    "    return mypi, elapsedtime\n",
    "\n",
    "def withVectorization(all):\n",
    "    starttime = perf_counter()\n",
    "    inside = 0\n",
    "\n",
    "    x = np.random.rand(all)\n",
    "    y = np.random.rand(all)\n",
    "\n",
    "    inside = np.where((x**2 + y**2)**(0.5) < 1,1,0).sum()\n",
    "\n",
    "    mypi = 4.0*(inside/all)\n",
    "\n",
    "    elapsedtime = (perf_counter() - starttime)\n",
    "    return mypi, elapsedtime\n",
    "\n",
    "calcpi1 = []\n",
    "mytime1 = []\n",
    "\n",
    "for i in range(0, 7):\n",
    "    tempcalcpi, tempmytime = withoutVectorization(10**(i+1))\n",
    "    calcpi1.append(tempcalcpi)\n",
    "    mytime1.append(tempmytime)\n",
    "    \n",
    "calcpi2 = []\n",
    "mytime2 = []\n",
    "    \n",
    "for i in range(0, 7):\n",
    "    tempcalcpi, tempmytime = withVectorization(10**(i+1))\n",
    "    calcpi2.append(tempcalcpi)\n",
    "    mytime2.append(tempmytime)\n",
    "\n",
    "xaxis = range(1, 8)\n",
    "\n",
    "plt.plot(xaxis, calcpi1, label = 'Without Vectorization')\n",
    "plt.plot(xaxis, calcpi2, label = 'With Vectorization', color = 'r')\n",
    "plt.xlabel('k')\n",
    "plt.ylabel('Calculated Pi')\n",
    "plt.title('Calculated Pi Comparison')\n",
    "plt.legend()\n",
    "plt.show()\n",
    "\n",
    "plt.plot(xaxis, mytime1, label = 'Without Vectorization')\n",
    "plt.plot(xaxis, mytime2, label = 'With Vectorization', color = 'r')\n",
    "plt.xlabel('k')\n",
    "plt.ylabel('Elapsed Time')\n",
    "plt.title('Time Comparison')\n",
    "plt.legend()\n",
    "plt.show()"
   ]
  },
  {
   "cell_type": "markdown",
   "metadata": {},
   "source": [
    "---\n",
    "\n",
    "# Exercise 2"
   ]
  },
  {
   "cell_type": "code",
   "execution_count": 30,
   "metadata": {},
   "outputs": [
    {
     "name": "stdout",
     "output_type": "stream",
     "text": [
      "It took 5029297 monkeys to write berat.\n"
     ]
    }
   ],
   "source": [
    "import random\n",
    "import string\n",
    "\n",
    "letters = string.ascii_lowercase\n",
    "count = 0\n",
    "a = 0\n",
    "\n",
    "while a == 0:\n",
    "    if ''.join(random.choice(letters) for i in range (5)) == 'berat': \n",
    "        print(\"It took %d monkeys to write berat.\"%(count))\n",
    "        a = 1\n",
    "    else: \n",
    "        count += 1"
   ]
  },
  {
   "cell_type": "markdown",
   "metadata": {},
   "source": [
    "---\n",
    "\n",
    "# Exercise 3"
   ]
  },
  {
   "cell_type": "code",
   "execution_count": 29,
   "metadata": {},
   "outputs": [
    {
     "name": "stdout",
     "output_type": "stream",
     "text": [
      "Ladies goes first so Angelica starts the game.\n",
      "Brad wins the game after 12 rolls.\n"
     ]
    }
   ],
   "source": [
    "import random\n",
    "\n",
    "def rollDice(times = 3):\n",
    "    x = []\n",
    "    for i in range(times):\n",
    "        x.append(random.choice([-4, -3, -1, 1, 2, 4]))\n",
    "    return x\n",
    "\n",
    "counter = 0\n",
    "winner = False\n",
    "\n",
    "print(\"Ladies goes first so Angelica starts the game.\")\n",
    "\n",
    "while winner != True:\n",
    "    counter += 1\n",
    "    numbers = rollDice()\n",
    "    if sum(numbers) == 0:\n",
    "        winner = True\n",
    "        if counter%2 == 0:\n",
    "            print(\"Brad wins the game after %d rolls.\"%(counter))\n",
    "        else:\n",
    "            print(\"Angelica wins the game after %d rolls.\"%(counter))\n",
    "    else:\n",
    "        pass"
   ]
  },
  {
   "cell_type": "code",
   "execution_count": null,
   "metadata": {},
   "outputs": [],
   "source": []
  }
 ],
 "metadata": {
  "kernelspec": {
   "display_name": "Python 3",
   "language": "python",
   "name": "python3"
  },
  "language_info": {
   "codemirror_mode": {
    "name": "ipython",
    "version": 3
   },
   "file_extension": ".py",
   "mimetype": "text/x-python",
   "name": "python",
   "nbconvert_exporter": "python",
   "pygments_lexer": "ipython3",
   "version": "3.8.1"
  }
 },
 "nbformat": 4,
 "nbformat_minor": 4
}
