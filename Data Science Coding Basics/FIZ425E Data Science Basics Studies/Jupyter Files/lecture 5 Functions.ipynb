{
 "cells": [
  {
   "cell_type": "markdown",
   "metadata": {},
   "source": [
    "# Functions"
   ]
  },
  {
   "cell_type": "code",
   "execution_count": 1,
   "metadata": {},
   "outputs": [
    {
     "name": "stdout",
     "output_type": "stream",
     "text": [
      "Name:  Mahmut\n",
      "Age:  20\n"
     ]
    }
   ],
   "source": [
    "def printinfo(name, age):\n",
    "    print(\"Name: \", name)\n",
    "    print(\"Age: \", age)\n",
    "    \n",
    "printinfo(\"Mahmut\", 20)"
   ]
  },
  {
   "cell_type": "code",
   "execution_count": 2,
   "metadata": {},
   "outputs": [
    {
     "name": "stdout",
     "output_type": "stream",
     "text": [
      "Name:  Mahmut\n",
      "Age:  20\n"
     ]
    }
   ],
   "source": [
    "printinfo(age = 20, name = \"Mahmut\")"
   ]
  },
  {
   "cell_type": "code",
   "execution_count": 3,
   "metadata": {},
   "outputs": [
    {
     "ename": "TypeError",
     "evalue": "printinfo() missing 1 required positional argument: 'age'",
     "output_type": "error",
     "traceback": [
      "\u001b[0;31m---------------------------------------------------------------------------\u001b[0m",
      "\u001b[0;31mTypeError\u001b[0m                                 Traceback (most recent call last)",
      "\u001b[0;32m<ipython-input-3-a402cfc8ccba>\u001b[0m in \u001b[0;36m<module>\u001b[0;34m\u001b[0m\n\u001b[0;32m----> 1\u001b[0;31m \u001b[0mprintinfo\u001b[0m\u001b[0;34m(\u001b[0m\u001b[0;34m\"Mahmut\"\u001b[0m\u001b[0;34m)\u001b[0m\u001b[0;34m\u001b[0m\u001b[0;34m\u001b[0m\u001b[0m\n\u001b[0m",
      "\u001b[0;31mTypeError\u001b[0m: printinfo() missing 1 required positional argument: 'age'"
     ]
    }
   ],
   "source": [
    "printinfo(\"Mahmut\")"
   ]
  },
  {
   "cell_type": "code",
   "execution_count": 4,
   "metadata": {},
   "outputs": [
    {
     "name": "stdout",
     "output_type": "stream",
     "text": [
      "6\n",
      "10\n",
      "15\n",
      "19\n"
     ]
    }
   ],
   "source": [
    "def addnums(*nums):\n",
    "    result = 0\n",
    "    for i in nums:\n",
    "        result += i\n",
    "    return result\n",
    "\n",
    "print(addnums(1, 2, 3))\n",
    "print(addnums(1, 2, 3, 4))\n",
    "a, b, c = 7, 8, 4\n",
    "print(addnums(a, b))\n",
    "print(addnums(a, b, c))"
   ]
  },
  {
   "cell_type": "code",
   "execution_count": 5,
   "metadata": {},
   "outputs": [
    {
     "name": "stdout",
     "output_type": "stream",
     "text": [
      "n is an odd number\n",
      "n is an even number\n"
     ]
    }
   ],
   "source": [
    "def myfunc(n):\n",
    "    if n%2 == 0:\n",
    "        return \"n is an even number\"\n",
    "    else:\n",
    "        return \"n is an odd number\"\n",
    "a = myfunc(5)\n",
    "print(a)\n",
    "print(myfunc(8))"
   ]
  },
  {
   "cell_type": "markdown",
   "metadata": {},
   "source": [
    "# Lambda Function"
   ]
  },
  {
   "cell_type": "code",
   "execution_count": 7,
   "metadata": {},
   "outputs": [
    {
     "name": "stdout",
     "output_type": "stream",
     "text": [
      "Value of total:  30\n"
     ]
    }
   ],
   "source": [
    "Mysum = lambda arg1, arg2: arg1 + arg2\n",
    "\n",
    "print(\"Value of total: \", Mysum(10, 20))"
   ]
  },
  {
   "cell_type": "code",
   "execution_count": 8,
   "metadata": {},
   "outputs": [
    {
     "name": "stdout",
     "output_type": "stream",
     "text": [
      "6\n"
     ]
    }
   ],
   "source": [
    "def myfunc(n):\n",
    "    return lambda a : a * n\n",
    "\n",
    "mytripler = myfunc(2)\n",
    "\n",
    "print(mytripler(3))"
   ]
  },
  {
   "cell_type": "markdown",
   "metadata": {},
   "source": [
    "---\n",
    "\n",
    "# Exercise"
   ]
  },
  {
   "cell_type": "code",
   "execution_count": 4,
   "metadata": {},
   "outputs": [
    {
     "name": "stdin",
     "output_type": "stream",
     "text": [
      "Enter x 3\n",
      "Enter y 4\n"
     ]
    },
    {
     "name": "stdout",
     "output_type": "stream",
     "text": [
      "5.0\n"
     ]
    }
   ],
   "source": [
    "\n",
    "def myfunc(x, y):\n",
    "    return (x**2 + y**2)**0.5\n",
    "\n",
    "x = int(input('Enter x'))\n",
    "y = int(input('Enter y'))\n",
    "\n",
    "if x <= 0 or y <= 0:\n",
    "    print('No triangle possible')\n",
    "else:\n",
    "    print(myfunc(x, y))\n",
    "    "
   ]
  },
  {
   "cell_type": "code",
   "execution_count": 9,
   "metadata": {},
   "outputs": [
    {
     "name": "stdout",
     "output_type": "stream",
     "text": [
      "9.0 1.0\n"
     ]
    }
   ],
   "source": [
    "import numpy as np\n",
    "\n",
    "def minmaxvectors(matrix):\n",
    "    vmax = []\n",
    "    for i in range(0, 3):\n",
    "        vmax.append(np.max(matrix[i,:]))\n",
    "    vmin = []\n",
    "    for i in range(0, 3):\n",
    "        vmin.append(np.min(matrix[i,:]))\n",
    "    maxminofall(vmax, vmin)\n",
    "\n",
    "def maxminofall(vmax, vmin):\n",
    "    print(np.max(vmax), np.min(vmin))\n",
    "    \n",
    "mymatrix = np.array([[1., 2., 3.],[4., 5., 6.],[7.,8.,9.]])\n",
    "minmaxvectors(mymatrix)"
   ]
  },
  {
   "cell_type": "code",
   "execution_count": null,
   "metadata": {},
   "outputs": [],
   "source": []
  }
 ],
 "metadata": {
  "kernelspec": {
   "display_name": "Python 3",
   "language": "python",
   "name": "python3"
  },
  "language_info": {
   "codemirror_mode": {
    "name": "ipython",
    "version": 3
   },
   "file_extension": ".py",
   "mimetype": "text/x-python",
   "name": "python",
   "nbconvert_exporter": "python",
   "pygments_lexer": "ipython3",
   "version": "3.8.1"
  }
 },
 "nbformat": 4,
 "nbformat_minor": 4
}
