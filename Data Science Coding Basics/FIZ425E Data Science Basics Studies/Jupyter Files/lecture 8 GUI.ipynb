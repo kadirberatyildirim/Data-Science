{
 "cells": [
  {
   "cell_type": "markdown",
   "metadata": {},
   "source": [
    "# TKinter\n",
    "\n",
    "* Boş pencere"
   ]
  },
  {
   "cell_type": "code",
   "execution_count": 1,
   "metadata": {},
   "outputs": [],
   "source": [
    "import tkinter\n",
    "\n",
    "top = tkinter.Tk()\n",
    "\n",
    "top.mainloop()"
   ]
  },
  {
   "cell_type": "markdown",
   "metadata": {},
   "source": [
    "* Check Button"
   ]
  },
  {
   "cell_type": "code",
   "execution_count": 4,
   "metadata": {},
   "outputs": [],
   "source": [
    "from tkinter import *\n",
    "\n",
    "top = Tk()\n",
    "CheckVar1 = IntVar()\n",
    "CheckVar2 = IntVar()\n",
    "C1 = Checkbutton(top, text = \"Music\", variable = CheckVar1, \\\n",
    "                onvalue = 1, offvalue = 0, height = 5, width = 20)\n",
    "C2 = Checkbutton(top, text = \"Video\", variable = CheckVar2, \\\n",
    "                onvalue = 1, offvalue = 0, height = 5, width = 20)\n",
    "C1.pack()\n",
    "C2.pack()\n",
    "top.mainloop()"
   ]
  },
  {
   "cell_type": "markdown",
   "metadata": {},
   "source": [
    "* Entry"
   ]
  },
  {
   "cell_type": "code",
   "execution_count": 5,
   "metadata": {},
   "outputs": [],
   "source": [
    "from tkinter import *\n",
    "\n",
    "top = Tk()\n",
    "L1 = Label(top, text = \"User Name\")\n",
    "L1.pack(side = LEFT)\n",
    "E1 = Entry(top, bd = 5)\n",
    "E1.pack(side = RIGHT)\n",
    "\n",
    "top.mainloop()"
   ]
  },
  {
   "cell_type": "markdown",
   "metadata": {},
   "source": [
    "* Example - Monte Carlo pi calculator"
   ]
  },
  {
   "cell_type": "code",
   "execution_count": 7,
   "metadata": {},
   "outputs": [],
   "source": [
    "from tkinter import *\n",
    "from random import random\n",
    "\n",
    "def montecarlo():\n",
    "    all = int(E1.get())\n",
    "    inside = 0\n",
    "    for i in range(all):\n",
    "        x, y = random(), random()\n",
    "        if(x**2 + y**2)**0.5 < 1: inside += 1\n",
    "    mypi = 4.0*(inside/all)\n",
    "    mytext = \"My pi value = \" + str(mypi)\n",
    "    label.config(text = mytext)\n",
    "    \n",
    "top = Tk()\n",
    "L1 = Label(top, text=\"Number of points\")\n",
    "L1.pack()\n",
    "E1 = Entry(top)\n",
    "E1.pack()\n",
    "B1 = Button(top, text=\"FIND MY PI\", width=10, command=montecarlo)\n",
    "B1.pack()\n",
    "label = Label(top)\n",
    "label.pack()\n",
    "mainloop()"
   ]
  },
  {
   "cell_type": "markdown",
   "metadata": {},
   "source": [
    "* Example - Monte Carlo with radio buttons"
   ]
  },
  {
   "cell_type": "code",
   "execution_count": 13,
   "metadata": {},
   "outputs": [],
   "source": [
    "from tkinter import *\n",
    "from random import random\n",
    "\n",
    "def montecarlo():\n",
    "    all = int(var.get())\n",
    "    inside = 0\n",
    "    for i in range(all):\n",
    "        x, y = random(), random()\n",
    "        if(x**2 + y**2)**0.5 < 1: inside += 1\n",
    "    mypi = 4.0*(inside/all)\n",
    "    mytext = \"My pi value = \" + str(mypi)\n",
    "    label.config(text = mytext)\n",
    "    \n",
    "top = Tk()\n",
    "var = IntVar()\n",
    "R1 = Radiobutton(top, text = \"1000\", variable = var, value = 1000, command = montecarlo)\n",
    "R1.pack()\n",
    "R2 = Radiobutton(top, text = \"10000\", variable = var, value = 10000, command = montecarlo)\n",
    "R2.pack()\n",
    "R3 = Radiobutton(top, text = \"100000\", variable = var, value = 100000, command = montecarlo)\n",
    "R3.pack()\n",
    "R4 = Radiobutton(top, text = \"1000000\", variable = var, value = 1000000, command = montecarlo)\n",
    "R4.pack()\n",
    "label = Label(top)\n",
    "label.pack()\n",
    "mainloop()"
   ]
  },
  {
   "cell_type": "markdown",
   "metadata": {},
   "source": [
    "* Example - Monte Carlo with Scale"
   ]
  },
  {
   "cell_type": "code",
   "execution_count": 22,
   "metadata": {},
   "outputs": [],
   "source": [
    "from tkinter import *\n",
    "from random import random\n",
    "\n",
    "def montecarlo():\n",
    "    all = 10**int(var2.get())\n",
    "    inside = 0\n",
    "    for i in range(all):\n",
    "        x, y = random(), random()\n",
    "        if(x**2 + y**2)**0.5 < 1: inside += 1\n",
    "    mypi = 4.0*(inside/all)\n",
    "    mytext = \"My pi value = \" + str(mypi)\n",
    "    label.config(text = mytext)\n",
    "    \n",
    "top = Tk()\n",
    "\n",
    "var2 = DoubleVar()\n",
    "scale = Scale(top, variable = var2, from_=1, to=6)\n",
    "scale.pack()\n",
    "button = Button(top, text = \"Choose k value\", command = montecarlo)\n",
    "button.pack()\n",
    "label = Label(top)\n",
    "label.pack()\n",
    "\n",
    "mainloop()"
   ]
  }
 ],
 "metadata": {
  "kernelspec": {
   "display_name": "Python 3",
   "language": "python",
   "name": "python3"
  },
  "language_info": {
   "codemirror_mode": {
    "name": "ipython",
    "version": 3
   },
   "file_extension": ".py",
   "mimetype": "text/x-python",
   "name": "python",
   "nbconvert_exporter": "python",
   "pygments_lexer": "ipython3",
   "version": "3.8.1"
  }
 },
 "nbformat": 4,
 "nbformat_minor": 4
}
