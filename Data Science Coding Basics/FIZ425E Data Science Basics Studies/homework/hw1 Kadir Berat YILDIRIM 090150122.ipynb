{
 "cells": [
  {
   "cell_type": "markdown",
   "metadata": {},
   "source": [
    "<h3 align=\"center\"> FIZ425E - Computational Analysis of Physical Systems </h3>\n",
    "\n",
    "<h3 align=\"center\"> Homework 1 </h3>\n",
    "\n",
    "<h3 align=\"center\"> Kadir Berat YILDIRIM </h3>\n",
    "\n",
    "* Newton-Raphson Method\n",
    "\n",
    "Let us say we need to find the roots of a complicated polynomial. Newton-Raphson method helps us to successively try and get better approximations to the roots (where $ f(x) = 0 $ ).\n",
    "\n",
    "For example, let us have a look at figure 1 below. We take a random point $ f(x_0) $, then draw a tangent line through $ x_0 $ , $ f(x_0) $ , using the derivative $ f'(x_0) $ . The point $ x_1 $ where this tangent line crosses the x axis will become the next proposal we check.\n",
    "\n",
    "![Polynomial](polynomial.png)\n",
    "<h3 align=\"center\"> Figure 1 : Polynomial with tangents </h3>\n",
    "\n",
    "We calculate the tangent line at $ f'(x_1) $ to find $ x_2 $ and so on. In theory, our aim is to continue this process for $ |f(x_n)| \\to 0 $ . But in practice, this process might take too long for computers so we calculate the point really close to the zero. \n",
    "\n",
    "We can derive the formula below for $ x_{n+1} $ from definition of derivatives, for the next point's tangent crossing the $ x-axis $ .\n",
    "\n",
    "<h3 align=\"center\"> $ x_{n+1} = x_{n} - \\frac{f(x_n)}{f'(x_n)} $ </h3>\n",
    "\n",
    "* Python Example:"
   ]
  },
  {
   "cell_type": "markdown",
   "metadata": {},
   "source": [
    "For ease of use, we can write Newton-Raphson method as a user defined function in python so that it can be called for different values easily."
   ]
  },
  {
   "cell_type": "code",
   "execution_count": 1,
   "metadata": {},
   "outputs": [],
   "source": [
    "def dx(f, x):\n",
    "    return abs(0-f(x))\n",
    " \n",
    "def newtons_method(f, df, x0, e):\n",
    "    delta = dx(f, x0)\n",
    "    while delta > e:\n",
    "        x0 = x0 - f(x0)/df(x0)\n",
    "        delta = dx(f, x0)\n",
    "    print ('Root is at: ', x0)\n",
    "    print ('f(x) at root is: ', f(x0))"
   ]
  },
  {
   "cell_type": "markdown",
   "metadata": {},
   "source": [
    "In our function, e defines a stopping value in which we approximate to zero. We can increase or decrease its value according to how close we want to get to zero.\n",
    "\n",
    "Delta calculates the value and then compares it with our given 'e' value to determine if the program should calculate one more x point or stop at this one. \n",
    "\n",
    "Rest is our Newton-Raphson method. Now we need to define our function."
   ]
  },
  {
   "cell_type": "code",
   "execution_count": 2,
   "metadata": {},
   "outputs": [],
   "source": [
    "def f(x):\n",
    "    return 2*x**3 + 3*x**2 - 11*x - 6\n",
    " \n",
    "def df(x):\n",
    "    return 6*x**2 + 6*x - 11"
   ]
  },
  {
   "cell_type": "markdown",
   "metadata": {},
   "source": [
    "Now since we have more than one root, we would need to use our method multiple times to find different roots. More than one try can still give the same root."
   ]
  },
  {
   "cell_type": "code",
   "execution_count": 3,
   "metadata": {},
   "outputs": [
    {
     "name": "stdout",
     "output_type": "stream",
     "text": [
      "Root is at:  -0.5000000000000088\n",
      "f(x) at root is:  1.1013412404281553e-13\n",
      "Root is at:  -3.0000000000004072\n",
      "f(x) at root is:  -1.0182077403442236e-11\n",
      "Root is at:  2.0000000523696375\n",
      "f(x) at root is:  1.309240975189141e-06\n",
      "Root is at:  2.0000000000001044\n",
      "f(x) at root is:  2.611244553918368e-12\n"
     ]
    }
   ],
   "source": [
    "x0s = [0, -4, 1, 1.5]\n",
    "for x0 in x0s:\n",
    "    newtons_method(f, df, x0, 1e-5)"
   ]
  },
  {
   "cell_type": "markdown",
   "metadata": {},
   "source": [
    "As seen above, inputs 1 and 1.5 gives the root located at $ x = 2 $. Other inputs give us other roots. Since this is a qubic polynomial, we did expect it to have 3 roots, and all roots are found using Newton-Raphson method in this example. "
   ]
  },
  {
   "cell_type": "markdown",
   "metadata": {},
   "source": [
    "* References\n",
    "    - Danielhomola. (2016, February 9). Newton's method with 10 lines of Python. Retrieved from http://danielhomola.com/2016/02/09/newtons-method-with-10-lines-of-python/ "
   ]
  }
 ],
 "metadata": {
  "kernelspec": {
   "display_name": "Python 3",
   "language": "python",
   "name": "python3"
  },
  "language_info": {
   "codemirror_mode": {
    "name": "ipython",
    "version": 3
   },
   "file_extension": ".py",
   "mimetype": "text/x-python",
   "name": "python",
   "nbconvert_exporter": "python",
   "pygments_lexer": "ipython3",
   "version": "3.8.1"
  }
 },
 "nbformat": 4,
 "nbformat_minor": 4
}
