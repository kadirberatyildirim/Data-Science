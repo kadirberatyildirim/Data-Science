{
 "cells": [
  {
   "cell_type": "markdown",
   "id": "4b3a1b74",
   "metadata": {},
   "source": [
    "# Regression - Case Studies"
   ]
  },
  {
   "cell_type": "code",
   "execution_count": 1,
   "id": "8cc4a7e3",
   "metadata": {},
   "outputs": [],
   "source": [
    "import numpy as np\n",
    "import matplotlib.pyplot as plt"
   ]
  },
  {
   "cell_type": "markdown",
   "id": "3b920967",
   "metadata": {},
   "source": [
    "### Regression Class"
   ]
  },
  {
   "cell_type": "code",
   "execution_count": 2,
   "id": "d05df17e",
   "metadata": {},
   "outputs": [],
   "source": [
    "class regression():\n",
    "    def __init__(self, degree):\n",
    "        self.degree = degree\n",
    "            \n",
    "    def random_data(self, X=None, c=None, b=None, \n",
    "                         degree=3, num_points=300, \n",
    "                         X_lower=-10, X_higher=10, \n",
    "                         c_lower=-3, c_higher=3,\n",
    "                         noise=True, noise_mu=0, \n",
    "                         noise_sigma=50, plot=False):\n",
    "\n",
    "        def func(x, c): \n",
    "            return sum([c[i] * x**i for i in range(len(c))])\n",
    "\n",
    "        if X == None: \n",
    "            self.X = np.random.uniform(X_lower, X_higher, num_points)\n",
    "        if c == None: \n",
    "            self.c = [np.random.uniform(c_lower, c_higher) for _ in range(degree + 1)]\n",
    "\n",
    "        self.y = np.array( [func(self.X[i], self.c) for i in range(num_points)] )\n",
    "\n",
    "        if noise: \n",
    "            noise = np.random.normal(noise_mu, noise_sigma, num_points)\n",
    "            self.y = [i + j for i, j in zip(self.y, noise)]\n",
    "\n",
    "        if plot:\n",
    "            plt.scatter(self.X, self.y, s = 5)\n",
    "            plt.show()\n",
    "        \n",
    "        return self.X, self.y\n",
    "            \n",
    "    def split(self, X, y):\n",
    "        x_tr, y_tr = np.array(X[:len(X)*3//4]), np.array(y[:len(y)*3//4])\n",
    "        x_val, y_val = np.array(X[len(X)*3//4:]), np.array(y[len(y)*3//4:])\n",
    "        \n",
    "        return x_tr, y_tr, x_val, y_val\n",
    "\n",
    "    def train(self, x, y):\n",
    "        A = np.linalg.inv(np.array( \n",
    "            [ [sum(np.power(x, i)) for i in range(j, self.degree + 1 + j)] for j in range(self.degree + 1) ]\n",
    "        ))\n",
    "\n",
    "        self.W = np.dot(A, np.array( [ sum(y * np.power(x, i)) for i in range(self.degree+1) ] ))\n",
    "    \n",
    "    def predict(self, x):\n",
    "        self.pred = sum([self.W[i] * x**i for i in range(len(self.W))])\n",
    "        return self.pred\n",
    "    \n",
    "    def plot_data_vs_estimation(self, x, y, pred):\n",
    "        plt.scatter(x, y, s = 3, label = 'True Value')\n",
    "        plt.scatter(x, pred, s = 5, label = 'Prediction')\n",
    "        plt.legend()\n",
    "        plt.show()\n",
    "        \n",
    "    def RSE(self, y, g): \n",
    "        return sum(np.square(y - g)) / sum(np.square(y - 1 / len(y)*sum(y)))"
   ]
  },
  {
   "cell_type": "markdown",
   "id": "0f98ea6d",
   "metadata": {},
   "source": [
    "## Working with Small Dataset\n",
    "\n",
    "Let us create a small set of data which would obey to a 3rd degree polynomial function, but with some added noise."
   ]
  },
  {
   "cell_type": "code",
   "execution_count": 5,
   "id": "128217ed",
   "metadata": {},
   "outputs": [
    {
     "data": {
      "text/plain": [
       "<matplotlib.collections.PathCollection at 0x1e8d31605b0>"
      ]
     },
     "execution_count": 5,
     "metadata": {},
     "output_type": "execute_result"
    },
    {
     "data": {
      "image/png": "[encoded data removed]",
      "text/plain": [
       "<Figure size 432x288 with 1 Axes>"
      ]
     },
     "metadata": {
      "needs_background": "light"
     },
     "output_type": "display_data"
    }
   ],
   "source": [
    "def func(x):\n",
    "    return x**3 - 2 * x**2 + 4 * x - 5\n",
    "\n",
    "X = np.linspace(-10, 10, 3)\n",
    "y = np.array( [func(x) for x in X] )\n",
    "\n",
    "plt.scatter(X, y, s = 3)"
   ]
  },
  {
   "cell_type": "markdown",
   "id": "bfb28bd4",
   "metadata": {},
   "source": [
    "### Sinusoidal Data"
   ]
  },
  {
   "cell_type": "code",
   "execution_count": 9,
   "id": "e0fe6594",
   "metadata": {},
   "outputs": [
    {
     "data": {
      "text/plain": [
       "<matplotlib.collections.PathCollection at 0x2596f763460>"
      ]
     },
     "execution_count": 9,
     "metadata": {},
     "output_type": "execute_result"
    },
    {
     "data": {
      "image/png": "[encoded data removed]",
      "text/plain": [
       "<Figure size 432x288 with 1 Axes>"
      ]
     },
     "metadata": {
      "needs_background": "light"
     },
     "output_type": "display_data"
    }
   ],
   "source": [
    "X = np.random.uniform(-7, 7, 1000)\n",
    "y = 2 * np.sin(X)\n",
    "\n",
    "y = y + np.random.normal(0, 0.8, 1000)\n",
    "\n",
    "plt.scatter(X, y, s = 3)"
   ]
  },
  {
   "cell_type": "code",
   "execution_count": 12,
   "id": "2d488fca",
   "metadata": {},
   "outputs": [
    {
     "data": {
      "text/plain": [
       "<matplotlib.collections.PathCollection at 0x259708a2af0>"
      ]
     },
     "execution_count": 12,
     "metadata": {},
     "output_type": "execute_result"
    },
    {
     "data": {
      "image/png": "[encoded data removed]",
      "text/plain": [
       "<Figure size 432x288 with 1 Axes>"
      ]
     },
     "metadata": {
      "needs_background": "light"
     },
     "output_type": "display_data"
    }
   ],
   "source": [
    "r = regression(degree = 3)\n",
    "r.train(X, y)\n",
    "g = r.predict(X)\n",
    "\n",
    "plt.scatter(X, y, s = 3)\n",
    "plt.scatter(X, g, s = 3)"
   ]
  },
  {
   "cell_type": "markdown",
   "id": "e1aa3fde",
   "metadata": {},
   "source": [
    "### Fibonacci Data"
   ]
  },
  {
   "cell_type": "code",
   "execution_count": 35,
   "id": "fef5aec7",
   "metadata": {},
   "outputs": [
    {
     "name": "stdout",
     "output_type": "stream",
     "text": [
      "Error: 0.030341911869131266\n"
     ]
    },
    {
     "data": {
      "image/png": "[encoded data removed]",
      "text/plain": [
       "<Figure size 432x288 with 1 Axes>"
      ]
     },
     "metadata": {
      "needs_background": "light"
     },
     "output_type": "display_data"
    }
   ],
   "source": [
    "from functools import reduce\n",
    "fib = lambda n: reduce(lambda x,n:[x[1],x[0]+x[1]], range(n),[0,1])[0]\n",
    "\n",
    "X = np.linspace(1, 30, 30)\n",
    "y = np.array([fib(int(i)) for i in X])\n",
    "\n",
    "r = regression(degree = 4)\n",
    "r.train(X, y)\n",
    "g = r.predict(X)\n",
    "\n",
    "plt.scatter(X, y, s = 10)\n",
    "plt.plot(X, g, 'r')\n",
    "\n",
    "print('Error: {}'.format(r.RSE(y, g)))"
   ]
  },
  {
   "cell_type": "markdown",
   "id": "64aa93a4",
   "metadata": {},
   "source": [
    "### Projectile Motion Data"
   ]
  },
  {
   "cell_type": "code",
   "execution_count": null,
   "id": "25b99e22",
   "metadata": {},
   "outputs": [],
   "source": []
  }
 ],
 "metadata": {
  "kernelspec": {
   "display_name": "Python 3 (ipykernel)",
   "language": "python",
   "name": "python3"
  },
  "language_info": {
   "codemirror_mode": {
    "name": "ipython",
    "version": 3
   },
   "file_extension": ".py",
   "mimetype": "text/x-python",
   "name": "python",
   "nbconvert_exporter": "python",
   "pygments_lexer": "ipython3",
   "version": "3.9.12"
  }
 },
 "nbformat": 4,
 "nbformat_minor": 5
}
