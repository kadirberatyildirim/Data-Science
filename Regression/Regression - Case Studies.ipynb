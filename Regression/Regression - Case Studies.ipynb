{
 "cells": [
  {
   "cell_type": "markdown",
   "id": "4b3a1b74",
   "metadata": {},
   "source": [
    "# Regression - Case Studies"
   ]
  },
  {
   "cell_type": "code",
   "execution_count": 1,
   "id": "8cc4a7e3",
   "metadata": {},
   "outputs": [],
   "source": [
    "import numpy as np\n",
    "import matplotlib.pyplot as plt"
   ]
  },
  {
   "cell_type": "markdown",
   "id": "0f98ea6d",
   "metadata": {},
   "source": [
    "## Working with Small Dataset\n",
    "\n",
    "Let us create a small set of data which would obey to a 3rd degree polynomial function, but with some added noise."
   ]
  },
  {
   "cell_type": "code",
   "execution_count": 5,
   "id": "128217ed",
   "metadata": {},
   "outputs": [
    {
     "data": {
      "text/plain": [
       "<matplotlib.collections.PathCollection at 0x1e8d31605b0>"
      ]
     },
     "execution_count": 5,
     "metadata": {},
     "output_type": "execute_result"
    },
    {
     "data": {
      "image/png": "[encoded data removed]",
      "text/plain": [
       "<Figure size 432x288 with 1 Axes>"
      ]
     },
     "metadata": {
      "needs_background": "light"
     },
     "output_type": "display_data"
    }
   ],
   "source": [
    "def func(x):\n",
    "    return x**3 - 2 * x**2 + 4 * x - 5\n",
    "\n",
    "X = np.linspace(-10, 10, 3)\n",
    "y = np.array( [func(x) for x in X] )\n",
    "\n",
    "plt.scatter(X, y, s = 3)"
   ]
  },
  {
   "cell_type": "code",
   "execution_count": null,
   "id": "ef6710ef",
   "metadata": {},
   "outputs": [],
   "source": []
  }
 ],
 "metadata": {
  "kernelspec": {
   "display_name": "Python 3 (ipykernel)",
   "language": "python",
   "name": "python3"
  },
  "language_info": {
   "codemirror_mode": {
    "name": "ipython",
    "version": 3
   },
   "file_extension": ".py",
   "mimetype": "text/x-python",
   "name": "python",
   "nbconvert_exporter": "python",
   "pygments_lexer": "ipython3",
   "version": "3.9.12"
  }
 },
 "nbformat": 4,
 "nbformat_minor": 5
}
