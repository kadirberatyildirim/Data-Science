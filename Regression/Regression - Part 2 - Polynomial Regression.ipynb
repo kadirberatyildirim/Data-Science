{
 "cells": [
  {
   "cell_type": "markdown",
   "id": "5f971bad",
   "metadata": {},
   "source": [
    "# Polynomial Regression\n",
    "\n",
    "Polynomial regression is a type of linear regression, known as a special case of multiple linear regression. It again makes predictions using only one independent variable, but assumes a nth degree polynomial relation between said independent variable and the dependent one.\n",
    "\n",
    "Our assumption is also valid (just as is for linear regression) that the data that is to be predicted, is the sum of a deterministic function of the input and a random noise.\n",
    "\n",
    "$$ r = f(x) + \\epsilon $$\n",
    "\n",
    "where r is the dependent variable, x is the independent variable and $\\epsilon$ is the random noise.\n",
    "\n",
    "Generalizing our estimator used in linear regression, we have\n",
    "\n",
    "$$ g(x | W_k,...,W_1, W_0) = W_0 + W_1 \\cdot x + ... + W_k \\cdot x^k $$\n",
    "\n",
    "which can also be written as\n",
    "\n",
    "$$ g(x | W_k,...,W_1, W_0) = \\sum_{i=0}^k W_i \\cdot x^i $$"
   ]
  },
  {
   "cell_type": "code",
   "execution_count": 70,
   "id": "01b2e190",
   "metadata": {},
   "outputs": [],
   "source": [
    "import numpy as np\n",
    "import matplotlib.pyplot as plt\n",
    "\n",
    "np.random.seed(3)"
   ]
  },
  {
   "cell_type": "markdown",
   "id": "240ff03b",
   "metadata": {},
   "source": [
    "### Creating random polynomial data with noise\n",
    "\n",
    "Generally, our function for the polynomial data can be written similarly to our estimator function.\n",
    "\n",
    "$$ f(x) = \\sum_{i=0}^k c_i \\cdot x^i $$\n",
    "\n",
    "where $c_i$ are the constants for every term in the function. \n",
    "\n",
    "Remember that we only write this here because we are generating the data that is going to be used in this tutorial. In a real world case, we would not know what type of function our data best fits, which is what we aim to find with our estimator function."
   ]
  },
  {
   "cell_type": "code",
   "execution_count": 52,
   "id": "df0e8dc4",
   "metadata": {},
   "outputs": [],
   "source": [
    "def func(x, c): \n",
    "    return sum([c[i] * x**i for i in range(len(c))])\n",
    "\n",
    "num_data_points = 300\n",
    "degree = 3\n",
    "\n",
    "X = np.random.uniform(-10, 10, num_data_points)\n",
    "c = [np.random.uniform(-3, 3) for _ in range(degree + 1)]\n",
    "y = np.array( [func(X[i], c) for i in range(num_data_points)] )\n",
    "\n",
    "mu, sigma = 0, 50\n",
    "noise = np.random.normal(mu, sigma, num_data_points)\n",
    "\n",
    "y = np.add(y, noise)"
   ]
  },
  {
   "cell_type": "markdown",
   "id": "dcb1e0fb",
   "metadata": {},
   "source": [
    "Let us plot the data."
   ]
  },
  {
   "cell_type": "code",
   "execution_count": 54,
   "id": "955d5726",
   "metadata": {},
   "outputs": [
    {
     "data": {
      "text/plain": [
       "<matplotlib.collections.PathCollection at 0x19b75a73280>"
      ]
     },
     "execution_count": 54,
     "metadata": {},
     "output_type": "execute_result"
    },
    {
     "data": {
      "image/png": "[encoded data removed]",
      "text/plain": [
       "<Figure size 432x288 with 1 Axes>"
      ]
     },
     "metadata": {
      "needs_background": "light"
     },
     "output_type": "display_data"
    }
   ],
   "source": [
    "plt.scatter(X, y, s = 5)"
   ]
  },
  {
   "cell_type": "markdown",
   "id": "b66a0133",
   "metadata": {},
   "source": [
    "We can methodize data creation part to use easily later."
   ]
  },
  {
   "cell_type": "code",
   "execution_count": 71,
   "id": "0f3b207b",
   "metadata": {},
   "outputs": [
    {
     "data": {
      "image/png": "[encoded data removed]",
      "text/plain": [
       "<Figure size 432x288 with 1 Axes>"
      ]
     },
     "metadata": {
      "needs_background": "light"
     },
     "output_type": "display_data"
    }
   ],
   "source": [
    "def create_poly_data(X=None, c=None, b=None, \n",
    "                     degree=3, num_points=300, \n",
    "                     X_lower=-10, X_higher=10, \n",
    "                     c_lower=-3, c_higher=3,\n",
    "                     noise=True, noise_mu=0, \n",
    "                     noise_sigma=50, plot=False):\n",
    "    \n",
    "    def func(x, c): \n",
    "        return sum([c[i] * x**i for i in range(len(c))])\n",
    "    \n",
    "    if X == None: \n",
    "        X = np.random.uniform(X_lower, X_higher, num_points)\n",
    "    if c == None: \n",
    "        c = [np.random.uniform(c_lower, c_higher) for _ in range(degree + 1)]\n",
    "    \n",
    "    y = np.array( [func(X[i], c) for i in range(num_points)] )\n",
    "    \n",
    "    if noise: \n",
    "        noise = np.random.normal(noise_mu, noise_sigma, num_points)\n",
    "        y = [i + j for i, j in zip(y, noise)]\n",
    "    \n",
    "    if plot:\n",
    "        plt.scatter(X, y, s = 5)\n",
    "        plt.show()\n",
    "        \n",
    "    return X, c, y\n",
    "\n",
    "X, c, y = create_poly_data(degree = 3, plot = True)"
   ]
  },
  {
   "cell_type": "markdown",
   "id": "debddc1f",
   "metadata": {},
   "source": [
    "### Generating Training and Validation Sets"
   ]
  },
  {
   "cell_type": "code",
   "execution_count": 72,
   "id": "a1337746",
   "metadata": {},
   "outputs": [
    {
     "name": "stdout",
     "output_type": "stream",
     "text": [
      "Training set length: 225\n",
      "Validation set length: 75\n"
     ]
    }
   ],
   "source": [
    "x_tr, y_tr = np.array(X[:len(X)*3//4]), np.array(y[:len(y)*3//4])\n",
    "x_val, y_val = np.array(X[len(X)*3//4:]), np.array(y[len(y)*3//4:])\n",
    "\n",
    "print('Training set length: {}\\nValidation set length: {}'.format(len(x_tr), len(x_val)))"
   ]
  },
  {
   "cell_type": "markdown",
   "id": "726b53d1",
   "metadata": {},
   "source": [
    "### Random Initialization of Weights"
   ]
  },
  {
   "cell_type": "code",
   "execution_count": 159,
   "id": "2c3e3ef1",
   "metadata": {},
   "outputs": [],
   "source": [
    "W = [np.random.random() for _ in range(degree + 1)] #+1 is for W_0"
   ]
  },
  {
   "cell_type": "code",
   "execution_count": 160,
   "id": "a946af7d",
   "metadata": {},
   "outputs": [
    {
     "data": {
      "text/plain": [
       "<matplotlib.collections.PathCollection at 0x19b78da1af0>"
      ]
     },
     "execution_count": 160,
     "metadata": {},
     "output_type": "execute_result"
    },
    {
     "data": {
      "image/png": "[encoded data removed]",
      "text/plain": [
       "<Figure size 432x288 with 1 Axes>"
      ]
     },
     "metadata": {
      "needs_background": "light"
     },
     "output_type": "display_data"
    }
   ],
   "source": [
    "g = sum([W[i] * x_tr**i for i in range(len(W))])\n",
    "\n",
    "plt.scatter(x_tr, y_tr)\n",
    "plt.scatter(x_tr, g)"
   ]
  },
  {
   "cell_type": "markdown",
   "id": "3511b576",
   "metadata": {},
   "source": [
    "### Updating Weights\n",
    "\n",
    "In order to update our weights, we are going to use the equation\n",
    "\n",
    "$$ A \\cdot W = y \\Longrightarrow W = A^{-1} \\cdot y $$ \n",
    "\n",
    "which is the same used for linear regression. Though now, we can generalize these matrices as follows.\n",
    "\n",
    "$$ \n",
    "A = \\begin{bmatrix} N & \\sum x_i & ... & \\sum x_i^k \\\\ \n",
    "    \\sum x_i & \\sum x_i^2 & ... & \\sum x_i^{k+1} \\\\\n",
    "    . & . & . & . \\\\\n",
    "    . & . & . & . \\\\\n",
    "    \\sum x_i^k & ... & ... & \\sum x_i^{2k}\\end{bmatrix}, \\quad\n",
    "W = \\begin{bmatrix} W_0 \\\\ W_1 \\\\ . \\\\ . \\\\ W_k \\end{bmatrix}, \\quad\n",
    "y = \\begin{bmatrix} \\sum y_i \\\\ \\sum y_i \\cdot x_i \\\\ . \\\\ . \\\\ \\sum y_i \\cdot x_i^k \\end{bmatrix}\n",
    "$$"
   ]
  },
  {
   "cell_type": "code",
   "execution_count": 161,
   "id": "93818bee",
   "metadata": {},
   "outputs": [],
   "source": [
    "#Update weights\n",
    "A = np.linalg.inv(np.array( \n",
    "    [ [sum(np.power(x_tr, i)) for i in range(j, degree + 1 + j)] for j in range(degree + 1) ]\n",
    "))\n",
    "\n",
    "W = np.dot(A, np.array( [ sum(y_tr * np.power(x_tr, i)) for i in range(degree+1) ] ))\n",
    "\n",
    "#Predictions\n",
    "g = sum([W[i] * x_tr**i for i in range(len(W))])"
   ]
  },
  {
   "cell_type": "markdown",
   "id": "3d43bc12",
   "metadata": {},
   "source": [
    "Once again we create our plot to see if this time, our predictions does fit. Let us make two plots, one to see every training data predicted, and the other for validation data."
   ]
  },
  {
   "cell_type": "code",
   "execution_count": 167,
   "id": "233ec0b9",
   "metadata": {},
   "outputs": [
    {
     "data": {
      "text/plain": [
       "Text(0.5, 1.0, 'Validation Set')"
      ]
     },
     "execution_count": 167,
     "metadata": {},
     "output_type": "execute_result"
    },
    {
     "data": {
      "image/png": "[encoded data removed]",
      "text/plain": [
       "<Figure size 432x288 with 2 Axes>"
      ]
     },
     "metadata": {
      "needs_background": "light"
     },
     "output_type": "display_data"
    }
   ],
   "source": [
    "fig, axs = plt.subplots(1, 2, sharey = True)\n",
    "fig.suptitle('Predictions vs True Values')\n",
    "\n",
    "axs[0].scatter(x_tr, y_tr, s = 3, label = 'True Value')\n",
    "axs[0].scatter(x_tr, g, s = 5, label = 'Prediction')\n",
    "axs[0].legend()\n",
    "axs[0].set_title('Training Set')\n",
    "\n",
    "g_val = sum([W[i] * x_val**i for i in range(len(W))])\n",
    "axs[1].scatter(x_val, y_val, s = 3, label = 'True Value')\n",
    "axs[1].scatter(x_val, g_val, s = 5, label = 'Prediction')\n",
    "axs[1].legend()\n",
    "axs[1].set_title('Validation Set')"
   ]
  },
  {
   "cell_type": "markdown",
   "id": "ccde76cb",
   "metadata": {},
   "source": [
    "### Error\n",
    "\n",
    "Now what about error again? Just as before, we use RSE."
   ]
  },
  {
   "cell_type": "code",
   "execution_count": 171,
   "id": "55d0683a",
   "metadata": {},
   "outputs": [
    {
     "name": "stdout",
     "output_type": "stream",
     "text": [
      "RSE: 0.08221345587660757\n",
      "R_squared: 0.9178\n"
     ]
    }
   ],
   "source": [
    "def RSE(y, g): \n",
    "    return sum(np.square(y - g)) / sum(np.square(y - 1 / len(y)*sum(y)))\n",
    "\n",
    "error = RSE(y_val, g_val)\n",
    "print('RSE: {}'.format(error))\n",
    "\n",
    "R_squared = 1 - error\n",
    "print('R_squared: {:.4f}'.format(R_squared))"
   ]
  },
  {
   "cell_type": "markdown",
   "id": "024a7c6c",
   "metadata": {},
   "source": [
    "### Predicting with lower degree polynomial predictors\n",
    "\n",
    "Now let us take this a step further and see what if we assumed a 2nd degree relation between our data points and their corresponding values. We could calculate our new regressor with weights up to W squared term (remember that python range function is an open one on the upper end, meaning it does not include the upper end)."
   ]
  },
  {
   "cell_type": "code",
   "execution_count": 173,
   "id": "21291901",
   "metadata": {},
   "outputs": [],
   "source": [
    "A = np.linalg.inv(np.array( \n",
    "    [ [sum(np.power(x_tr, i)) for i in range(j, degree + j)] for j in range(degree) ]\n",
    "))\n",
    "\n",
    "W = np.dot(A, np.array( [ sum(y_tr * np.power(x_tr, i)) for i in range(degree) ] ))\n",
    "\n",
    "#Predictions\n",
    "g = sum([W[i] * x_tr**i for i in range(len(W))])"
   ]
  },
  {
   "cell_type": "code",
   "execution_count": 174,
   "id": "828aac50",
   "metadata": {},
   "outputs": [
    {
     "data": {
      "text/plain": [
       "Text(0.5, 1.0, 'Validation Set')"
      ]
     },
     "execution_count": 174,
     "metadata": {},
     "output_type": "execute_result"
    },
    {
     "data": {
      "image/png": "[encoded data removed]",
      "text/plain": [
       "<Figure size 432x288 with 2 Axes>"
      ]
     },
     "metadata": {
      "needs_background": "light"
     },
     "output_type": "display_data"
    }
   ],
   "source": [
    "fig, axs = plt.subplots(1, 2, sharey = True)\n",
    "fig.suptitle('Predictions vs True Values')\n",
    "\n",
    "axs[0].scatter(x_tr, y_tr, s = 3, label = 'True Value')\n",
    "axs[0].scatter(x_tr, g, s = 5, label = 'Prediction')\n",
    "axs[0].legend()\n",
    "axs[0].set_title('Training Set')\n",
    "\n",
    "g_val = sum([W[i] * x_val**i for i in range(len(W))])\n",
    "axs[1].scatter(x_val, y_val, s = 3, label = 'True Value')\n",
    "axs[1].scatter(x_val, g_val, s = 5, label = 'Prediction')\n",
    "axs[1].legend()\n",
    "axs[1].set_title('Validation Set')"
   ]
  },
  {
   "cell_type": "markdown",
   "id": "75c4ab83",
   "metadata": {},
   "source": [
    "It is clear that we will have a larger error, since this fitting does a mediocre job predicting our generated values."
   ]
  },
  {
   "cell_type": "code",
   "execution_count": 177,
   "id": "69a0cfde",
   "metadata": {},
   "outputs": [
    {
     "name": "stdout",
     "output_type": "stream",
     "text": [
      "RSE: 0.2534\n",
      "R_squared: 0.7466\n"
     ]
    }
   ],
   "source": [
    "error = RSE(y_val, g_val)\n",
    "print('RSE: {:.4f}'.format(error))\n",
    "\n",
    "R_squared = 1 - error\n",
    "print('R_squared: {:.4f}'.format(R_squared))"
   ]
  },
  {
   "cell_type": "code",
   "execution_count": 181,
   "id": "fef39f7d",
   "metadata": {},
   "outputs": [],
   "source": [
    "degree = 6\n",
    "\n",
    "A = np.linalg.inv(np.array( \n",
    "    [ [sum(np.power(x_tr, i)) for i in range(j, degree + j)] for j in range(degree) ]\n",
    "))\n",
    "\n",
    "W = np.dot(A, np.array( [ sum(y_tr * np.power(x_tr, i)) for i in range(degree) ] ))\n",
    "\n",
    "#Predictions\n",
    "g = sum([W[i] * x_tr**i for i in range(len(W))])"
   ]
  },
  {
   "cell_type": "code",
   "execution_count": 182,
   "id": "896cd735",
   "metadata": {},
   "outputs": [
    {
     "data": {
      "text/plain": [
       "Text(0.5, 1.0, 'Validation Set')"
      ]
     },
     "execution_count": 182,
     "metadata": {},
     "output_type": "execute_result"
    },
    {
     "data": {
      "image/png": "[encoded data removed]",
      "text/plain": [
       "<Figure size 432x288 with 2 Axes>"
      ]
     },
     "metadata": {
      "needs_background": "light"
     },
     "output_type": "display_data"
    }
   ],
   "source": [
    "fig, axs = plt.subplots(1, 2, sharey = True)\n",
    "fig.suptitle('Predictions vs True Values')\n",
    "\n",
    "axs[0].scatter(x_tr, y_tr, s = 3, label = 'True Value')\n",
    "axs[0].scatter(x_tr, g, s = 5, label = 'Prediction')\n",
    "axs[0].legend()\n",
    "axs[0].set_title('Training Set')\n",
    "\n",
    "g_val = sum([W[i] * x_val**i for i in range(len(W))])\n",
    "axs[1].scatter(x_val, y_val, s = 3, label = 'True Value')\n",
    "axs[1].scatter(x_val, g_val, s = 5, label = 'Prediction')\n",
    "axs[1].legend()\n",
    "axs[1].set_title('Validation Set')"
   ]
  },
  {
   "cell_type": "code",
   "execution_count": 183,
   "id": "2c00d60f",
   "metadata": {},
   "outputs": [
    {
     "data": {
      "text/plain": [
       "array([ 1.24389901e+01, -3.65310858e+00,  1.50153009e-01,  4.24033091e-01,\n",
       "        6.15512002e-03,  8.74622471e-04])"
      ]
     },
     "execution_count": 183,
     "metadata": {},
     "output_type": "execute_result"
    }
   ],
   "source": [
    "W"
   ]
  },
  {
   "cell_type": "markdown",
   "id": "9e8e6a1f",
   "metadata": {},
   "source": [
    "### Making a polynomial regression class"
   ]
  },
  {
   "cell_type": "code",
   "execution_count": 187,
   "id": "b3828e84",
   "metadata": {},
   "outputs": [],
   "source": [
    "class regression():\n",
    "    def __init__(self, degree, X = None, y = None):\n",
    "        self.degree = degree\n",
    "        self.X, self.y = X, y\n",
    "        \n",
    "        if self.X == None or self.y == None:\n",
    "            create_poly_data(degree = self.degree)\n",
    "            \n",
    "        self.split()\n",
    "        self.train()\n",
    "        self.predict(self.x_val)\n",
    "            \n",
    "    def create_poly_data(self, degree=3, num_points=300,\n",
    "                         noise=True, plot=False):\n",
    "\n",
    "        def func(x, c): \n",
    "            return sum([c[i] * x**i for i in range(len(c))])\n",
    "\n",
    "        self.X = np.random.uniform(-10, 10, num_points)\n",
    "        c = [np.random.uniform(-3, 3) for _ in range(degree + 1)]\n",
    "\n",
    "        self.y = np.array( [func(X[i], c) for i in range(num_points)] )\n",
    "\n",
    "        if noise: \n",
    "            noise = np.random.normal(0, 50, num_points)\n",
    "            self.y = [i + j for i, j in zip(y, noise)]\n",
    "            \n",
    "    def split(self):\n",
    "        self.x_tr, self.y_tr = np.array(self.X[:len(X)*3//4]), np.array(self.y[:len(y)*3//4])\n",
    "        self.x_val, self.y_val = np.array(self.X[len(X)*3//4:]), np.array(self.y[len(y)*3//4:])\n",
    "\n",
    "    def train(self):\n",
    "        A = np.linalg.inv(np.array( \n",
    "            [ [sum(np.power(x_tr, i)) for i in range(j, degree + 1 + j)] for j in range(degree + 1) ]\n",
    "        ))\n",
    "\n",
    "        self.W = np.dot(A, np.array( [ sum(y_tr * np.power(x_tr, i)) for i in range(degree+1) ] ))\n",
    "    \n",
    "    def predict(self, x):\n",
    "        return sum([self.W[i] * x**i for i in range(len(self.W))])"
   ]
  },
  {
   "cell_type": "code",
   "execution_count": 188,
   "id": "6a99426f",
   "metadata": {},
   "outputs": [
    {
     "ename": "TypeError",
     "evalue": "'NoneType' object is not subscriptable",
     "output_type": "error",
     "traceback": [
      "\u001b[1;31m---------------------------------------------------------------------------\u001b[0m",
      "\u001b[1;31mTypeError\u001b[0m                                 Traceback (most recent call last)",
      "Input \u001b[1;32mIn [188]\u001b[0m, in \u001b[0;36m<cell line: 1>\u001b[1;34m()\u001b[0m\n\u001b[1;32m----> 1\u001b[0m \u001b[43mregression\u001b[49m\u001b[43m(\u001b[49m\u001b[38;5;241;43m4\u001b[39;49m\u001b[43m)\u001b[49m\n",
      "Input \u001b[1;32mIn [187]\u001b[0m, in \u001b[0;36mregression.__init__\u001b[1;34m(self, degree, X, y)\u001b[0m\n\u001b[0;32m      6\u001b[0m \u001b[38;5;28;01mif\u001b[39;00m \u001b[38;5;28mself\u001b[39m\u001b[38;5;241m.\u001b[39mX \u001b[38;5;241m==\u001b[39m \u001b[38;5;28;01mNone\u001b[39;00m \u001b[38;5;129;01mor\u001b[39;00m \u001b[38;5;28mself\u001b[39m\u001b[38;5;241m.\u001b[39my \u001b[38;5;241m==\u001b[39m \u001b[38;5;28;01mNone\u001b[39;00m:\n\u001b[0;32m      7\u001b[0m     create_poly_data(degree \u001b[38;5;241m=\u001b[39m \u001b[38;5;28mself\u001b[39m\u001b[38;5;241m.\u001b[39mdegree)\n\u001b[1;32m----> 9\u001b[0m \u001b[38;5;28;43mself\u001b[39;49m\u001b[38;5;241;43m.\u001b[39;49m\u001b[43msplit\u001b[49m\u001b[43m(\u001b[49m\u001b[43m)\u001b[49m\n\u001b[0;32m     10\u001b[0m \u001b[38;5;28mself\u001b[39m\u001b[38;5;241m.\u001b[39mtrain()\n\u001b[0;32m     11\u001b[0m \u001b[38;5;28mself\u001b[39m\u001b[38;5;241m.\u001b[39mpredict(\u001b[38;5;28mself\u001b[39m\u001b[38;5;241m.\u001b[39mx_val)\n",
      "Input \u001b[1;32mIn [187]\u001b[0m, in \u001b[0;36mregression.split\u001b[1;34m(self)\u001b[0m\n\u001b[0;32m     28\u001b[0m \u001b[38;5;28;01mdef\u001b[39;00m \u001b[38;5;21msplit\u001b[39m(\u001b[38;5;28mself\u001b[39m):\n\u001b[1;32m---> 29\u001b[0m     \u001b[38;5;28mself\u001b[39m\u001b[38;5;241m.\u001b[39mx_tr, \u001b[38;5;28mself\u001b[39m\u001b[38;5;241m.\u001b[39my_tr \u001b[38;5;241m=\u001b[39m np\u001b[38;5;241m.\u001b[39marray(\u001b[38;5;28;43mself\u001b[39;49m\u001b[38;5;241;43m.\u001b[39;49m\u001b[43mX\u001b[49m\u001b[43m[\u001b[49m\u001b[43m:\u001b[49m\u001b[38;5;28;43mlen\u001b[39;49m\u001b[43m(\u001b[49m\u001b[43mX\u001b[49m\u001b[43m)\u001b[49m\u001b[38;5;241;43m*\u001b[39;49m\u001b[38;5;241;43m3\u001b[39;49m\u001b[38;5;241;43m/\u001b[39;49m\u001b[38;5;241;43m/\u001b[39;49m\u001b[38;5;241;43m4\u001b[39;49m\u001b[43m]\u001b[49m), np\u001b[38;5;241m.\u001b[39marray(\u001b[38;5;28mself\u001b[39m\u001b[38;5;241m.\u001b[39my[:\u001b[38;5;28mlen\u001b[39m(y)\u001b[38;5;241m*\u001b[39m\u001b[38;5;241m3\u001b[39m\u001b[38;5;241m/\u001b[39m\u001b[38;5;241m/\u001b[39m\u001b[38;5;241m4\u001b[39m])\n\u001b[0;32m     30\u001b[0m     \u001b[38;5;28mself\u001b[39m\u001b[38;5;241m.\u001b[39mx_val, \u001b[38;5;28mself\u001b[39m\u001b[38;5;241m.\u001b[39my_val \u001b[38;5;241m=\u001b[39m np\u001b[38;5;241m.\u001b[39marray(\u001b[38;5;28mself\u001b[39m\u001b[38;5;241m.\u001b[39mX[\u001b[38;5;28mlen\u001b[39m(X)\u001b[38;5;241m*\u001b[39m\u001b[38;5;241m3\u001b[39m\u001b[38;5;241m/\u001b[39m\u001b[38;5;241m/\u001b[39m\u001b[38;5;241m4\u001b[39m:]), np\u001b[38;5;241m.\u001b[39marray(\u001b[38;5;28mself\u001b[39m\u001b[38;5;241m.\u001b[39my[\u001b[38;5;28mlen\u001b[39m(y)\u001b[38;5;241m*\u001b[39m\u001b[38;5;241m3\u001b[39m\u001b[38;5;241m/\u001b[39m\u001b[38;5;241m/\u001b[39m\u001b[38;5;241m4\u001b[39m:])\n",
      "\u001b[1;31mTypeError\u001b[0m: 'NoneType' object is not subscriptable"
     ]
    }
   ],
   "source": [
    "regression(4)"
   ]
  },
  {
   "cell_type": "markdown",
   "id": "b6965ad5",
   "metadata": {},
   "source": [
    "## Using Scikit-Learn for Regression"
   ]
  },
  {
   "cell_type": "code",
   "execution_count": 190,
   "id": "633f31b6",
   "metadata": {},
   "outputs": [],
   "source": [
    "from sklearn.linear_model import LinearRegression as LR\n",
    "from sklearn.preprocessing import PolynomialFeatures"
   ]
  },
  {
   "cell_type": "code",
   "execution_count": 191,
   "id": "aba4893a",
   "metadata": {},
   "outputs": [
    {
     "name": "stdout",
     "output_type": "stream",
     "text": [
      "Training score:  0.6846342519593913\n",
      "Validation score:  0.7274935422080426\n",
      "Prediction for 30 is: [736.50051518]\n"
     ]
    }
   ],
   "source": [
    "x_tr = x_tr.reshape(-1, 1)\n",
    "x_val = x_val.reshape(-1, 1)\n",
    "reg = LR().fit(x_tr, y_tr)\n",
    "\n",
    "#Score model\n",
    "print('Training score: ', reg.score(x_tr, y_tr))\n",
    "print('Validation score: ', reg.score(x_val, y_val))\n",
    "\n",
    "#Predict specific value\n",
    "predict = 30\n",
    "print('Prediction for {} is: {}'.format(predict, reg.predict(np.array(predict).reshape(-1, 1))))"
   ]
  },
  {
   "cell_type": "code",
   "execution_count": 192,
   "id": "532cfab5",
   "metadata": {},
   "outputs": [
    {
     "data": {
      "text/plain": [
       "<matplotlib.legend.Legend at 0x19b7bdbf100>"
      ]
     },
     "execution_count": 192,
     "metadata": {},
     "output_type": "execute_result"
    },
    {
     "data": {
      "image/png": "[encoded data removed]",
      "text/plain": [
       "<Figure size 432x288 with 1 Axes>"
      ]
     },
     "metadata": {
      "needs_background": "light"
     },
     "output_type": "display_data"
    }
   ],
   "source": [
    "preds = reg.predict(x_val)\n",
    "\n",
    "plt.scatter(x_val, y_val, color=\"black\", label = 'Data')\n",
    "plt.scatter(x_val, preds, color=\"blue\", linewidth=3, label = 'Predictions')\n",
    "plt.legend()"
   ]
  },
  {
   "cell_type": "code",
   "execution_count": null,
   "id": "84cb5184",
   "metadata": {},
   "outputs": [],
   "source": []
  }
 ],
 "metadata": {
  "kernelspec": {
   "display_name": "Python 3 (ipykernel)",
   "language": "python",
   "name": "python3"
  },
  "language_info": {
   "codemirror_mode": {
    "name": "ipython",
    "version": 3
   },
   "file_extension": ".py",
   "mimetype": "text/x-python",
   "name": "python",
   "nbconvert_exporter": "python",
   "pygments_lexer": "ipython3",
   "version": "3.9.12"
  }
 },
 "nbformat": 4,
 "nbformat_minor": 5
}
