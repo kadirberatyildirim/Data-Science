{
 "cells": [
  {
   "cell_type": "markdown",
   "id": "5b231b60",
   "metadata": {},
   "source": [
    "# Regression Tree From Scratch Using Python"
   ]
  },
  {
   "cell_type": "code",
   "execution_count": 1,
   "id": "299e27ff",
   "metadata": {},
   "outputs": [],
   "source": [
    "import pandas as pd\n",
    "import numpy as np\n",
    "import matplotlib.pyplot as plt"
   ]
  },
  {
   "cell_type": "markdown",
   "id": "457458c6",
   "metadata": {},
   "source": [
    "## Creating Data\n",
    "\n",
    "Beginning with creating a numerical data, the data will have an independent variable (x) and a dependent one (y). Using numpy, I will add a gaussian noise to dependent values, which can be expressed mathematically as \n",
    "\n",
    "$$ y = f(x) + \\epsilon $$\n",
    "\n",
    "where $\\epsilon$ is the noise."
   ]
  },
  {
   "cell_type": "code",
   "execution_count": 2,
   "id": "d4f79618",
   "metadata": {},
   "outputs": [],
   "source": [
    "num_points = 300"
   ]
  },
  {
   "cell_type": "code",
   "execution_count": 14,
   "id": "5f4a1426",
   "metadata": {},
   "outputs": [
    {
     "data": {
      "text/plain": [
       "<matplotlib.collections.PathCollection at 0x7f9b21639880>"
      ]
     },
     "execution_count": 14,
     "metadata": {},
     "output_type": "execute_result"
    },
    {
     "data": {
      "image/png": "[encoded data removed]",
      "text/plain": [
       "<Figure size 432x288 with 1 Axes>"
      ]
     },
     "metadata": {
      "needs_background": "light"
     },
     "output_type": "display_data"
    }
   ],
   "source": [
    "def f(x):\n",
    "    mu, sigma = 0, 1.5\n",
    "    return -x**2 + x + 5 + np.random.normal(mu, sigma, 1)\n",
    "\n",
    "np.random.seed(1)\n",
    "    \n",
    "x = np.random.uniform(-2, 5, num_points)\n",
    "y = np.array( [f(i) for i in x] )\n",
    "\n",
    "plt.scatter(x, y, s = 5)"
   ]
  },
  {
   "cell_type": "markdown",
   "id": "a7a9dd4d",
   "metadata": {},
   "source": [
    "## Sum of Squared Residuals\n",
    "\n",
    "For every data point, we need to calculate sum of squared distances from the data point to the mean of that interval."
   ]
  },
  {
   "cell_type": "code",
   "execution_count": 4,
   "id": "bbeee686",
   "metadata": {},
   "outputs": [],
   "source": [
    "def SSR(r, y): #send numpy array\n",
    "    return np.sum( (r - y)**2 )"
   ]
  },
  {
   "cell_type": "code",
   "execution_count": 5,
   "id": "a7813d18",
   "metadata": {},
   "outputs": [
    {
     "data": {
      "image/png": "[encoded data removed]",
      "text/plain": [
       "<Figure size 432x288 with 1 Axes>"
      ]
     },
     "metadata": {
      "needs_background": "light"
     },
     "output_type": "display_data"
    }
   ],
   "source": [
    "SSRs, thresholds = [], []\n",
    "for i in range(len(x) - 1):\n",
    "    threshold = x[i:i+2].mean()\n",
    "    \n",
    "    low = np.take(y, np.where(x < threshold))\n",
    "    high = np.take(y, np.where(x > threshold))\n",
    "    \n",
    "    guess_low = low.mean()\n",
    "    guess_high = high.mean()\n",
    "    \n",
    "    SSRs.append(SSR(low, guess_low) + SSR(high, guess_high))\n",
    "    thresholds.append(threshold)\n",
    "    \n",
    "plt.scatter(thresholds, SSRs, s = 3)\n",
    "plt.show()"
   ]
  },
  {
   "cell_type": "code",
   "execution_count": 6,
   "id": "c8007e36",
   "metadata": {},
   "outputs": [
    {
     "name": "stdout",
     "output_type": "stream",
     "text": [
      "Minimum residual is: 2527.33\n",
      "Corresponding threshold value is: 3.3239\n"
     ]
    }
   ],
   "source": [
    "print('Minimum residual is: {:.2f}\\nCorresponding threshold value is: {:.4f}'.format(min(SSRs), \n",
    "                                                                                     thresholds[SSRs.index(min(SSRs))]))"
   ]
  },
  {
   "cell_type": "code",
   "execution_count": 7,
   "id": "50698031",
   "metadata": {},
   "outputs": [],
   "source": [
    "df = pd.DataFrame(zip(x, y.squeeze()), columns = ['x', 'y'])"
   ]
  },
  {
   "cell_type": "code",
   "execution_count": 9,
   "id": "ec75fbec",
   "metadata": {},
   "outputs": [],
   "source": [
    "def find_threshold(df, plot = False):\n",
    "    SSRs, thresholds, pred_lows, pred_highs = [], [], [], []\n",
    "    for i in range(len(df) - 1):\n",
    "        threshold = df.x[i:i+2].mean()\n",
    "\n",
    "        low = df[(df.x <= threshold)]\n",
    "        high = df[(df.x > threshold)]\n",
    "\n",
    "        guess_low = low.y.mean()\n",
    "        guess_high = high.y.mean()\n",
    "        \n",
    "        pred_lows.append(guess_low)\n",
    "        pred_highs.append(guess_high)\n",
    "\n",
    "        SSRs.append(SSR(low.y.to_numpy(), guess_low) + SSR(high.y.to_numpy(), guess_high))\n",
    "        thresholds.append(threshold)\n",
    "    \n",
    "    if plot:\n",
    "        plt.scatter(thresholds, SSRs, s = 3)\n",
    "        plt.show()\n",
    "        \n",
    "    return thresholds[SSRs.index(min(SSRs))], pred_lows[SSRs.index(min(SSRs))], pred_highs[SSRs.index(min(SSRs))]"
   ]
  },
  {
   "cell_type": "code",
   "execution_count": 10,
   "id": "8c84ab69",
   "metadata": {},
   "outputs": [],
   "source": [
    "class TreeNode():\n",
    "    def __init__(self, threshold, low, high):\n",
    "        self.threshold = threshold\n",
    "        self.pred_low = low\n",
    "        self.pred_high = high\n",
    "        self.left = None\n",
    "        self.right = None\n",
    "\n",
    "def create_nodes(tree, df, stop):\n",
    "    low = df[df.x <= tree.threshold]\n",
    "    high = df[df.x > tree.threshold]\n",
    "    \n",
    "    if len(low) > stop:\n",
    "        threshold, low_guess, high_guess = find_threshold(low)\n",
    "        tree.left = TreeNode(threshold, low_guess, high_guess)\n",
    "        create_nodes(tree.left, low, stop)\n",
    "        \n",
    "    if len(high) > stop:\n",
    "        threshold, low_guess, high_guess = find_threshold(high)\n",
    "        tree.right = TreeNode(threshold, low_guess, high_guess)\n",
    "        create_nodes(tree.right, high, stop)\n",
    "        \n",
    "threshold, low_guess, high_guess = find_threshold(df)\n",
    "tree = TreeNode(threshold, low_guess, high_guess)\n",
    "\n",
    "create_nodes(tree, df, 5)"
   ]
  },
  {
   "cell_type": "code",
   "execution_count": 11,
   "id": "816f8930",
   "metadata": {},
   "outputs": [
    {
     "data": {
      "text/plain": [
       "-7.3940384890057915"
      ]
     },
     "execution_count": 11,
     "metadata": {},
     "output_type": "execute_result"
    }
   ],
   "source": [
    "def predict(x):\n",
    "    curr_node = tree\n",
    "    result = None\n",
    "    while True:\n",
    "        if x <= curr_node.threshold:\n",
    "            if curr_node.left: \n",
    "                curr_node = curr_node.left\n",
    "            else: \n",
    "                result = curr_node.pred_low\n",
    "                break\n",
    "        elif x > curr_node.threshold:\n",
    "            if curr_node.right: curr_node = curr_node.right\n",
    "            else: \n",
    "                result = curr_node.pred_high\n",
    "                break\n",
    "    return result\n",
    "    \n",
    "predict(4)"
   ]
  },
  {
   "cell_type": "code",
   "execution_count": 12,
   "id": "1717ee25",
   "metadata": {},
   "outputs": [
    {
     "data": {
      "text/plain": [
       "0.03576193606243211"
      ]
     },
     "execution_count": 12,
     "metadata": {},
     "output_type": "execute_result"
    }
   ],
   "source": [
    "def RSE(y, g): \n",
    "    return sum(np.square(y - g)) / sum(np.square(y - 1 / len(y)*sum(y)))\n",
    "\n",
    "preds = np.array( [predict(i) for i in df.x] )\n",
    "RSE(df.y, preds)"
   ]
  },
  {
   "cell_type": "code",
   "execution_count": null,
   "id": "b3296f7e",
   "metadata": {},
   "outputs": [],
   "source": []
  },
  {
   "cell_type": "code",
   "execution_count": null,
   "id": "2d5c659c",
   "metadata": {},
   "outputs": [],
   "source": []
  },
  {
   "cell_type": "markdown",
   "id": "45767deb",
   "metadata": {},
   "source": [
    "## Appendix\n",
    "\n",
    "$$ \n",
    "y = \n",
    "\\begin{cases} \n",
    "    1 + \\epsilon \\mbox{,} & \\mbox{if } x < 3 \\\\ \n",
    "    9 + \\epsilon \\mbox{,} & \\mbox{if } 3 < x < 6 \\\\\n",
    "    5 + \\epsilon \\mbox{,} & \\mbox{if } 6 < x \n",
    "\\end{cases} \\ \n",
    "$$\n",
    "\n",
    "where \\epsilon is the gaussian noise."
   ]
  },
  {
   "cell_type": "code",
   "execution_count": 13,
   "id": "c40ae061",
   "metadata": {},
   "outputs": [
    {
     "data": {
      "text/plain": [
       "<matplotlib.collections.PathCollection at 0x7f9b21720b80>"
      ]
     },
     "execution_count": 13,
     "metadata": {},
     "output_type": "execute_result"
    },
    {
     "data": {
      "image/png": "[encoded data removed]",
      "text/plain": [
       "<Figure size 432x288 with 1 Axes>"
      ]
     },
     "metadata": {
      "needs_background": "light"
     },
     "output_type": "display_data"
    }
   ],
   "source": [
    "def f(x):\n",
    "    mu, sigma = 0, 0.5\n",
    "    if x < 3: return 1 + np.random.normal(mu, sigma, 1)\n",
    "    elif x >= 3 and x < 6: return 9 + np.random.normal(mu, sigma, 1)\n",
    "    elif x >= 6: return 5 + np.random.normal(mu, sigma, 1)\n",
    "    \n",
    "np.random.seed(1)\n",
    "    \n",
    "x = np.random.uniform(0, 10, num_points)\n",
    "y = np.array( [f(i) for i in x] )\n",
    "\n",
    "plt.scatter(x, y, s = 5)"
   ]
  },
  {
   "cell_type": "code",
   "execution_count": null,
   "id": "f20a786d",
   "metadata": {},
   "outputs": [],
   "source": []
  }
 ],
 "metadata": {
  "kernelspec": {
   "display_name": "Python 3 (ipykernel)",
   "language": "python",
   "name": "python3"
  },
  "language_info": {
   "codemirror_mode": {
    "name": "ipython",
    "version": 3
   },
   "file_extension": ".py",
   "mimetype": "text/x-python",
   "name": "python",
   "nbconvert_exporter": "python",
   "pygments_lexer": "ipython3",
   "version": "3.9.12"
  }
 },
 "nbformat": 4,
 "nbformat_minor": 5
}
