{
 "cells": [
  {
   "cell_type": "markdown",
   "id": "7ffdbda9",
   "metadata": {},
   "source": [
    "# Kadir Berat YILDIRIM BM686 Homework 1\n",
    "\n",
    "In this homework, after a little data exploration below, I use sklearn library to perform mentioned algorithms on the given dataset.\n",
    "\n",
    "I begin by simply splitting the data into train/test set, but then move on to using cross validation with 100 subgroups for each algorithm as asked in the homework. \n",
    "\n",
    "### Summary of the results\n",
    "\n",
    "Below are the required metrics results for each algorithm in given order in the homework (accuracy, preciosion, recall, f1 score, roc auc score). In the code below, I write my own function 'metrics' that calls all of these metrics from sklearn library for a given predictions and test sets. \n",
    "\n",
    "* k-nearest neighbor\n",
    "\n",
    "array([0.97013333, 0.98591667, 0.97261667, 0.97668254, 0.97755833])\n",
    "\n",
    "* Logistic regression\n",
    "\n",
    "array([0.96983333, 0.99691667, 0.96478333, 0.97830873, 0.96104167])\n",
    "\n",
    "* Support vector machine (SVM)\n",
    "\n",
    "array([0.97556667, 0.98591667, 0.98001667, 0.98055635, 0.97170833])\n",
    "\n",
    "* Decision tree\n",
    "\n",
    "array([0.92046667, 0.92975   , 0.95236667, 0.93351667, 0.917375  ])\n",
    "\n",
    "* Gradient boosted decision tree\n",
    "\n",
    "array([0.9716    , 0.983     , 0.97783333, 0.97770952, 0.96791667])\n",
    "\n",
    "* Naive bayes classifier\n",
    "\n",
    "array([0.93416667, 0.95533333, 0.95146667, 0.94715159, 0.92675   ])\n",
    "\n",
    "* Neural network (using Keras library with tensorflow backend)\n",
    "\n",
    "\n",
    "\n",
    "* MultiLayer Perceptron\n",
    "\n",
    "array([0.8393    , 0.97983333, 0.84823333, 0.89513492, 0.79210417])\n",
    "\n",
    "* Random forest algorithm\n",
    "\n",
    "array([0.9599    , 0.97483333, 0.96908333, 0.96832698, 0.95508333])\n",
    "\n",
    "---\n",
    "\n",
    "\n",
    "\n",
    "---"
   ]
  },
  {
   "cell_type": "code",
   "execution_count": 1,
   "id": "f373d3aa",
   "metadata": {},
   "outputs": [],
   "source": [
    "import warnings\n",
    "warnings.filterwarnings('ignore')"
   ]
  },
  {
   "cell_type": "code",
   "execution_count": 2,
   "id": "a98754e7",
   "metadata": {},
   "outputs": [],
   "source": [
    "import numpy as np\n",
    "import pandas as pd"
   ]
  },
  {
   "cell_type": "code",
   "execution_count": 3,
   "id": "805e45e9",
   "metadata": {},
   "outputs": [
    {
     "data": {
      "text/html": [
       "<div>\n",
       "<style scoped>\n",
       "    .dataframe tbody tr th:only-of-type {\n",
       "        vertical-align: middle;\n",
       "    }\n",
       "\n",
       "    .dataframe tbody tr th {\n",
       "        vertical-align: top;\n",
       "    }\n",
       "\n",
       "    .dataframe thead th {\n",
       "        text-align: right;\n",
       "    }\n",
       "</style>\n",
       "<table border=\"1\" class=\"dataframe\">\n",
       "  <thead>\n",
       "    <tr style=\"text-align: right;\">\n",
       "      <th></th>\n",
       "      <th>id</th>\n",
       "      <th>diagnosis</th>\n",
       "      <th>radius_mean</th>\n",
       "      <th>texture_mean</th>\n",
       "      <th>perimeter_mean</th>\n",
       "      <th>area_mean</th>\n",
       "      <th>smoothness_mean</th>\n",
       "      <th>compactness_mean</th>\n",
       "      <th>concavity_mean</th>\n",
       "      <th>concave points_mean</th>\n",
       "      <th>...</th>\n",
       "      <th>texture_worst</th>\n",
       "      <th>perimeter_worst</th>\n",
       "      <th>area_worst</th>\n",
       "      <th>smoothness_worst</th>\n",
       "      <th>compactness_worst</th>\n",
       "      <th>concavity_worst</th>\n",
       "      <th>concave points_worst</th>\n",
       "      <th>symmetry_worst</th>\n",
       "      <th>fractal_dimension_worst</th>\n",
       "      <th>Unnamed: 32</th>\n",
       "    </tr>\n",
       "  </thead>\n",
       "  <tbody>\n",
       "    <tr>\n",
       "      <th>0</th>\n",
       "      <td>842302</td>\n",
       "      <td>M</td>\n",
       "      <td>17.99</td>\n",
       "      <td>10.38</td>\n",
       "      <td>122.80</td>\n",
       "      <td>1001.0</td>\n",
       "      <td>0.11840</td>\n",
       "      <td>0.27760</td>\n",
       "      <td>0.3001</td>\n",
       "      <td>0.14710</td>\n",
       "      <td>...</td>\n",
       "      <td>17.33</td>\n",
       "      <td>184.60</td>\n",
       "      <td>2019.0</td>\n",
       "      <td>0.1622</td>\n",
       "      <td>0.6656</td>\n",
       "      <td>0.7119</td>\n",
       "      <td>0.2654</td>\n",
       "      <td>0.4601</td>\n",
       "      <td>0.11890</td>\n",
       "      <td>NaN</td>\n",
       "    </tr>\n",
       "    <tr>\n",
       "      <th>1</th>\n",
       "      <td>842517</td>\n",
       "      <td>M</td>\n",
       "      <td>20.57</td>\n",
       "      <td>17.77</td>\n",
       "      <td>132.90</td>\n",
       "      <td>1326.0</td>\n",
       "      <td>0.08474</td>\n",
       "      <td>0.07864</td>\n",
       "      <td>0.0869</td>\n",
       "      <td>0.07017</td>\n",
       "      <td>...</td>\n",
       "      <td>23.41</td>\n",
       "      <td>158.80</td>\n",
       "      <td>1956.0</td>\n",
       "      <td>0.1238</td>\n",
       "      <td>0.1866</td>\n",
       "      <td>0.2416</td>\n",
       "      <td>0.1860</td>\n",
       "      <td>0.2750</td>\n",
       "      <td>0.08902</td>\n",
       "      <td>NaN</td>\n",
       "    </tr>\n",
       "    <tr>\n",
       "      <th>2</th>\n",
       "      <td>84300903</td>\n",
       "      <td>M</td>\n",
       "      <td>19.69</td>\n",
       "      <td>21.25</td>\n",
       "      <td>130.00</td>\n",
       "      <td>1203.0</td>\n",
       "      <td>0.10960</td>\n",
       "      <td>0.15990</td>\n",
       "      <td>0.1974</td>\n",
       "      <td>0.12790</td>\n",
       "      <td>...</td>\n",
       "      <td>25.53</td>\n",
       "      <td>152.50</td>\n",
       "      <td>1709.0</td>\n",
       "      <td>0.1444</td>\n",
       "      <td>0.4245</td>\n",
       "      <td>0.4504</td>\n",
       "      <td>0.2430</td>\n",
       "      <td>0.3613</td>\n",
       "      <td>0.08758</td>\n",
       "      <td>NaN</td>\n",
       "    </tr>\n",
       "    <tr>\n",
       "      <th>3</th>\n",
       "      <td>84348301</td>\n",
       "      <td>M</td>\n",
       "      <td>11.42</td>\n",
       "      <td>20.38</td>\n",
       "      <td>77.58</td>\n",
       "      <td>386.1</td>\n",
       "      <td>0.14250</td>\n",
       "      <td>0.28390</td>\n",
       "      <td>0.2414</td>\n",
       "      <td>0.10520</td>\n",
       "      <td>...</td>\n",
       "      <td>26.50</td>\n",
       "      <td>98.87</td>\n",
       "      <td>567.7</td>\n",
       "      <td>0.2098</td>\n",
       "      <td>0.8663</td>\n",
       "      <td>0.6869</td>\n",
       "      <td>0.2575</td>\n",
       "      <td>0.6638</td>\n",
       "      <td>0.17300</td>\n",
       "      <td>NaN</td>\n",
       "    </tr>\n",
       "    <tr>\n",
       "      <th>4</th>\n",
       "      <td>84358402</td>\n",
       "      <td>M</td>\n",
       "      <td>20.29</td>\n",
       "      <td>14.34</td>\n",
       "      <td>135.10</td>\n",
       "      <td>1297.0</td>\n",
       "      <td>0.10030</td>\n",
       "      <td>0.13280</td>\n",
       "      <td>0.1980</td>\n",
       "      <td>0.10430</td>\n",
       "      <td>...</td>\n",
       "      <td>16.67</td>\n",
       "      <td>152.20</td>\n",
       "      <td>1575.0</td>\n",
       "      <td>0.1374</td>\n",
       "      <td>0.2050</td>\n",
       "      <td>0.4000</td>\n",
       "      <td>0.1625</td>\n",
       "      <td>0.2364</td>\n",
       "      <td>0.07678</td>\n",
       "      <td>NaN</td>\n",
       "    </tr>\n",
       "  </tbody>\n",
       "</table>\n",
       "<p>5 rows × 33 columns</p>\n",
       "</div>"
      ],
      "text/plain": [
       "         id diagnosis  radius_mean  texture_mean  perimeter_mean  area_mean  \\\n",
       "0    842302         M        17.99         10.38          122.80     1001.0   \n",
       "1    842517         M        20.57         17.77          132.90     1326.0   \n",
       "2  84300903         M        19.69         21.25          130.00     1203.0   \n",
       "3  84348301         M        11.42         20.38           77.58      386.1   \n",
       "4  84358402         M        20.29         14.34          135.10     1297.0   \n",
       "\n",
       "   smoothness_mean  compactness_mean  concavity_mean  concave points_mean  \\\n",
       "0          0.11840           0.27760          0.3001              0.14710   \n",
       "1          0.08474           0.07864          0.0869              0.07017   \n",
       "2          0.10960           0.15990          0.1974              0.12790   \n",
       "3          0.14250           0.28390          0.2414              0.10520   \n",
       "4          0.10030           0.13280          0.1980              0.10430   \n",
       "\n",
       "   ...  texture_worst  perimeter_worst  area_worst  smoothness_worst  \\\n",
       "0  ...          17.33           184.60      2019.0            0.1622   \n",
       "1  ...          23.41           158.80      1956.0            0.1238   \n",
       "2  ...          25.53           152.50      1709.0            0.1444   \n",
       "3  ...          26.50            98.87       567.7            0.2098   \n",
       "4  ...          16.67           152.20      1575.0            0.1374   \n",
       "\n",
       "   compactness_worst  concavity_worst  concave points_worst  symmetry_worst  \\\n",
       "0             0.6656           0.7119                0.2654          0.4601   \n",
       "1             0.1866           0.2416                0.1860          0.2750   \n",
       "2             0.4245           0.4504                0.2430          0.3613   \n",
       "3             0.8663           0.6869                0.2575          0.6638   \n",
       "4             0.2050           0.4000                0.1625          0.2364   \n",
       "\n",
       "   fractal_dimension_worst  Unnamed: 32  \n",
       "0                  0.11890          NaN  \n",
       "1                  0.08902          NaN  \n",
       "2                  0.08758          NaN  \n",
       "3                  0.17300          NaN  \n",
       "4                  0.07678          NaN  \n",
       "\n",
       "[5 rows x 33 columns]"
      ]
     },
     "execution_count": 3,
     "metadata": {},
     "output_type": "execute_result"
    }
   ],
   "source": [
    "df = pd.read_csv('data.csv')\n",
    "df.head()"
   ]
  },
  {
   "cell_type": "markdown",
   "id": "d3ab180f",
   "metadata": {},
   "source": [
    "First column represents IDs and the second\n",
    "column represents the prognosis (either benign or malignant). Other 30 features are computed\n",
    "from a digitized image of a fine needle aspirate (FNA) of a breast mass. They describe\n",
    "characteristics of the cell nuclei present in the image and will be used for prognosis of the mass."
   ]
  },
  {
   "cell_type": "code",
   "execution_count": 5,
   "id": "dfe7c06b",
   "metadata": {},
   "outputs": [
    {
     "data": {
      "text/plain": [
       "B    357\n",
       "M    212\n",
       "Name: diagnosis, dtype: int64"
      ]
     },
     "execution_count": 5,
     "metadata": {},
     "output_type": "execute_result"
    }
   ],
   "source": [
    "df.diagnosis.value_counts()"
   ]
  },
  {
   "cell_type": "code",
   "execution_count": 6,
   "id": "08233a79",
   "metadata": {},
   "outputs": [
    {
     "data": {
      "text/plain": [
       "Index(['id', 'diagnosis', 'radius_mean', 'texture_mean', 'perimeter_mean',\n",
       "       'area_mean', 'smoothness_mean', 'compactness_mean', 'concavity_mean',\n",
       "       'concave points_mean', 'symmetry_mean', 'fractal_dimension_mean',\n",
       "       'radius_se', 'texture_se', 'perimeter_se', 'area_se', 'smoothness_se',\n",
       "       'compactness_se', 'concavity_se', 'concave points_se', 'symmetry_se',\n",
       "       'fractal_dimension_se', 'radius_worst', 'texture_worst',\n",
       "       'perimeter_worst', 'area_worst', 'smoothness_worst',\n",
       "       'compactness_worst', 'concavity_worst', 'concave points_worst',\n",
       "       'symmetry_worst', 'fractal_dimension_worst'],\n",
       "      dtype='object')"
      ]
     },
     "execution_count": 6,
     "metadata": {},
     "output_type": "execute_result"
    }
   ],
   "source": [
    "df.drop('Unnamed: 32', axis = 1, inplace = True) # Get rid of faulty column\n",
    "df.columns"
   ]
  },
  {
   "cell_type": "code",
   "execution_count": 7,
   "id": "1fc51007",
   "metadata": {},
   "outputs": [
    {
     "data": {
      "text/html": [
       "<div>\n",
       "<style scoped>\n",
       "    .dataframe tbody tr th:only-of-type {\n",
       "        vertical-align: middle;\n",
       "    }\n",
       "\n",
       "    .dataframe tbody tr th {\n",
       "        vertical-align: top;\n",
       "    }\n",
       "\n",
       "    .dataframe thead th {\n",
       "        text-align: right;\n",
       "    }\n",
       "</style>\n",
       "<table border=\"1\" class=\"dataframe\">\n",
       "  <thead>\n",
       "    <tr style=\"text-align: right;\">\n",
       "      <th></th>\n",
       "      <th>id</th>\n",
       "      <th>radius_mean</th>\n",
       "      <th>texture_mean</th>\n",
       "      <th>perimeter_mean</th>\n",
       "      <th>area_mean</th>\n",
       "      <th>smoothness_mean</th>\n",
       "      <th>compactness_mean</th>\n",
       "      <th>concavity_mean</th>\n",
       "      <th>concave points_mean</th>\n",
       "      <th>symmetry_mean</th>\n",
       "      <th>...</th>\n",
       "      <th>radius_worst</th>\n",
       "      <th>texture_worst</th>\n",
       "      <th>perimeter_worst</th>\n",
       "      <th>area_worst</th>\n",
       "      <th>smoothness_worst</th>\n",
       "      <th>compactness_worst</th>\n",
       "      <th>concavity_worst</th>\n",
       "      <th>concave points_worst</th>\n",
       "      <th>symmetry_worst</th>\n",
       "      <th>fractal_dimension_worst</th>\n",
       "    </tr>\n",
       "  </thead>\n",
       "  <tbody>\n",
       "    <tr>\n",
       "      <th>count</th>\n",
       "      <td>5.690000e+02</td>\n",
       "      <td>569.000000</td>\n",
       "      <td>569.000000</td>\n",
       "      <td>569.000000</td>\n",
       "      <td>569.000000</td>\n",
       "      <td>569.000000</td>\n",
       "      <td>569.000000</td>\n",
       "      <td>569.000000</td>\n",
       "      <td>569.000000</td>\n",
       "      <td>569.000000</td>\n",
       "      <td>...</td>\n",
       "      <td>569.000000</td>\n",
       "      <td>569.000000</td>\n",
       "      <td>569.000000</td>\n",
       "      <td>569.000000</td>\n",
       "      <td>569.000000</td>\n",
       "      <td>569.000000</td>\n",
       "      <td>569.000000</td>\n",
       "      <td>569.000000</td>\n",
       "      <td>569.000000</td>\n",
       "      <td>569.000000</td>\n",
       "    </tr>\n",
       "    <tr>\n",
       "      <th>mean</th>\n",
       "      <td>3.037183e+07</td>\n",
       "      <td>14.127292</td>\n",
       "      <td>19.289649</td>\n",
       "      <td>91.969033</td>\n",
       "      <td>654.889104</td>\n",
       "      <td>0.096360</td>\n",
       "      <td>0.104341</td>\n",
       "      <td>0.088799</td>\n",
       "      <td>0.048919</td>\n",
       "      <td>0.181162</td>\n",
       "      <td>...</td>\n",
       "      <td>16.269190</td>\n",
       "      <td>25.677223</td>\n",
       "      <td>107.261213</td>\n",
       "      <td>880.583128</td>\n",
       "      <td>0.132369</td>\n",
       "      <td>0.254265</td>\n",
       "      <td>0.272188</td>\n",
       "      <td>0.114606</td>\n",
       "      <td>0.290076</td>\n",
       "      <td>0.083946</td>\n",
       "    </tr>\n",
       "    <tr>\n",
       "      <th>std</th>\n",
       "      <td>1.250206e+08</td>\n",
       "      <td>3.524049</td>\n",
       "      <td>4.301036</td>\n",
       "      <td>24.298981</td>\n",
       "      <td>351.914129</td>\n",
       "      <td>0.014064</td>\n",
       "      <td>0.052813</td>\n",
       "      <td>0.079720</td>\n",
       "      <td>0.038803</td>\n",
       "      <td>0.027414</td>\n",
       "      <td>...</td>\n",
       "      <td>4.833242</td>\n",
       "      <td>6.146258</td>\n",
       "      <td>33.602542</td>\n",
       "      <td>569.356993</td>\n",
       "      <td>0.022832</td>\n",
       "      <td>0.157336</td>\n",
       "      <td>0.208624</td>\n",
       "      <td>0.065732</td>\n",
       "      <td>0.061867</td>\n",
       "      <td>0.018061</td>\n",
       "    </tr>\n",
       "    <tr>\n",
       "      <th>min</th>\n",
       "      <td>8.670000e+03</td>\n",
       "      <td>6.981000</td>\n",
       "      <td>9.710000</td>\n",
       "      <td>43.790000</td>\n",
       "      <td>143.500000</td>\n",
       "      <td>0.052630</td>\n",
       "      <td>0.019380</td>\n",
       "      <td>0.000000</td>\n",
       "      <td>0.000000</td>\n",
       "      <td>0.106000</td>\n",
       "      <td>...</td>\n",
       "      <td>7.930000</td>\n",
       "      <td>12.020000</td>\n",
       "      <td>50.410000</td>\n",
       "      <td>185.200000</td>\n",
       "      <td>0.071170</td>\n",
       "      <td>0.027290</td>\n",
       "      <td>0.000000</td>\n",
       "      <td>0.000000</td>\n",
       "      <td>0.156500</td>\n",
       "      <td>0.055040</td>\n",
       "    </tr>\n",
       "    <tr>\n",
       "      <th>25%</th>\n",
       "      <td>8.692180e+05</td>\n",
       "      <td>11.700000</td>\n",
       "      <td>16.170000</td>\n",
       "      <td>75.170000</td>\n",
       "      <td>420.300000</td>\n",
       "      <td>0.086370</td>\n",
       "      <td>0.064920</td>\n",
       "      <td>0.029560</td>\n",
       "      <td>0.020310</td>\n",
       "      <td>0.161900</td>\n",
       "      <td>...</td>\n",
       "      <td>13.010000</td>\n",
       "      <td>21.080000</td>\n",
       "      <td>84.110000</td>\n",
       "      <td>515.300000</td>\n",
       "      <td>0.116600</td>\n",
       "      <td>0.147200</td>\n",
       "      <td>0.114500</td>\n",
       "      <td>0.064930</td>\n",
       "      <td>0.250400</td>\n",
       "      <td>0.071460</td>\n",
       "    </tr>\n",
       "    <tr>\n",
       "      <th>50%</th>\n",
       "      <td>9.060240e+05</td>\n",
       "      <td>13.370000</td>\n",
       "      <td>18.840000</td>\n",
       "      <td>86.240000</td>\n",
       "      <td>551.100000</td>\n",
       "      <td>0.095870</td>\n",
       "      <td>0.092630</td>\n",
       "      <td>0.061540</td>\n",
       "      <td>0.033500</td>\n",
       "      <td>0.179200</td>\n",
       "      <td>...</td>\n",
       "      <td>14.970000</td>\n",
       "      <td>25.410000</td>\n",
       "      <td>97.660000</td>\n",
       "      <td>686.500000</td>\n",
       "      <td>0.131300</td>\n",
       "      <td>0.211900</td>\n",
       "      <td>0.226700</td>\n",
       "      <td>0.099930</td>\n",
       "      <td>0.282200</td>\n",
       "      <td>0.080040</td>\n",
       "    </tr>\n",
       "    <tr>\n",
       "      <th>75%</th>\n",
       "      <td>8.813129e+06</td>\n",
       "      <td>15.780000</td>\n",
       "      <td>21.800000</td>\n",
       "      <td>104.100000</td>\n",
       "      <td>782.700000</td>\n",
       "      <td>0.105300</td>\n",
       "      <td>0.130400</td>\n",
       "      <td>0.130700</td>\n",
       "      <td>0.074000</td>\n",
       "      <td>0.195700</td>\n",
       "      <td>...</td>\n",
       "      <td>18.790000</td>\n",
       "      <td>29.720000</td>\n",
       "      <td>125.400000</td>\n",
       "      <td>1084.000000</td>\n",
       "      <td>0.146000</td>\n",
       "      <td>0.339100</td>\n",
       "      <td>0.382900</td>\n",
       "      <td>0.161400</td>\n",
       "      <td>0.317900</td>\n",
       "      <td>0.092080</td>\n",
       "    </tr>\n",
       "    <tr>\n",
       "      <th>max</th>\n",
       "      <td>9.113205e+08</td>\n",
       "      <td>28.110000</td>\n",
       "      <td>39.280000</td>\n",
       "      <td>188.500000</td>\n",
       "      <td>2501.000000</td>\n",
       "      <td>0.163400</td>\n",
       "      <td>0.345400</td>\n",
       "      <td>0.426800</td>\n",
       "      <td>0.201200</td>\n",
       "      <td>0.304000</td>\n",
       "      <td>...</td>\n",
       "      <td>36.040000</td>\n",
       "      <td>49.540000</td>\n",
       "      <td>251.200000</td>\n",
       "      <td>4254.000000</td>\n",
       "      <td>0.222600</td>\n",
       "      <td>1.058000</td>\n",
       "      <td>1.252000</td>\n",
       "      <td>0.291000</td>\n",
       "      <td>0.663800</td>\n",
       "      <td>0.207500</td>\n",
       "    </tr>\n",
       "  </tbody>\n",
       "</table>\n",
       "<p>8 rows × 31 columns</p>\n",
       "</div>"
      ],
      "text/plain": [
       "                 id  radius_mean  texture_mean  perimeter_mean    area_mean  \\\n",
       "count  5.690000e+02   569.000000    569.000000      569.000000   569.000000   \n",
       "mean   3.037183e+07    14.127292     19.289649       91.969033   654.889104   \n",
       "std    1.250206e+08     3.524049      4.301036       24.298981   351.914129   \n",
       "min    8.670000e+03     6.981000      9.710000       43.790000   143.500000   \n",
       "25%    8.692180e+05    11.700000     16.170000       75.170000   420.300000   \n",
       "50%    9.060240e+05    13.370000     18.840000       86.240000   551.100000   \n",
       "75%    8.813129e+06    15.780000     21.800000      104.100000   782.700000   \n",
       "max    9.113205e+08    28.110000     39.280000      188.500000  2501.000000   \n",
       "\n",
       "       smoothness_mean  compactness_mean  concavity_mean  concave points_mean  \\\n",
       "count       569.000000        569.000000      569.000000           569.000000   \n",
       "mean          0.096360          0.104341        0.088799             0.048919   \n",
       "std           0.014064          0.052813        0.079720             0.038803   \n",
       "min           0.052630          0.019380        0.000000             0.000000   \n",
       "25%           0.086370          0.064920        0.029560             0.020310   \n",
       "50%           0.095870          0.092630        0.061540             0.033500   \n",
       "75%           0.105300          0.130400        0.130700             0.074000   \n",
       "max           0.163400          0.345400        0.426800             0.201200   \n",
       "\n",
       "       symmetry_mean  ...  radius_worst  texture_worst  perimeter_worst  \\\n",
       "count     569.000000  ...    569.000000     569.000000       569.000000   \n",
       "mean        0.181162  ...     16.269190      25.677223       107.261213   \n",
       "std         0.027414  ...      4.833242       6.146258        33.602542   \n",
       "min         0.106000  ...      7.930000      12.020000        50.410000   \n",
       "25%         0.161900  ...     13.010000      21.080000        84.110000   \n",
       "50%         0.179200  ...     14.970000      25.410000        97.660000   \n",
       "75%         0.195700  ...     18.790000      29.720000       125.400000   \n",
       "max         0.304000  ...     36.040000      49.540000       251.200000   \n",
       "\n",
       "        area_worst  smoothness_worst  compactness_worst  concavity_worst  \\\n",
       "count   569.000000        569.000000         569.000000       569.000000   \n",
       "mean    880.583128          0.132369           0.254265         0.272188   \n",
       "std     569.356993          0.022832           0.157336         0.208624   \n",
       "min     185.200000          0.071170           0.027290         0.000000   \n",
       "25%     515.300000          0.116600           0.147200         0.114500   \n",
       "50%     686.500000          0.131300           0.211900         0.226700   \n",
       "75%    1084.000000          0.146000           0.339100         0.382900   \n",
       "max    4254.000000          0.222600           1.058000         1.252000   \n",
       "\n",
       "       concave points_worst  symmetry_worst  fractal_dimension_worst  \n",
       "count            569.000000      569.000000               569.000000  \n",
       "mean               0.114606        0.290076                 0.083946  \n",
       "std                0.065732        0.061867                 0.018061  \n",
       "min                0.000000        0.156500                 0.055040  \n",
       "25%                0.064930        0.250400                 0.071460  \n",
       "50%                0.099930        0.282200                 0.080040  \n",
       "75%                0.161400        0.317900                 0.092080  \n",
       "max                0.291000        0.663800                 0.207500  \n",
       "\n",
       "[8 rows x 31 columns]"
      ]
     },
     "execution_count": 7,
     "metadata": {},
     "output_type": "execute_result"
    }
   ],
   "source": [
    "df.describe()"
   ]
  },
  {
   "cell_type": "markdown",
   "id": "caa3535b",
   "metadata": {},
   "source": [
    "---"
   ]
  },
  {
   "cell_type": "code",
   "execution_count": 8,
   "id": "be8e6f6c",
   "metadata": {},
   "outputs": [],
   "source": [
    "import seaborn as sns"
   ]
  },
  {
   "cell_type": "code",
   "execution_count": 9,
   "id": "e3feaa35",
   "metadata": {},
   "outputs": [
    {
     "data": {
      "text/plain": [
       "<seaborn.axisgrid.PairGrid at 0x7fcb39f11330>"
      ]
     },
     "execution_count": 9,
     "metadata": {},
     "output_type": "execute_result"
    },
    {
     "data": {
      "image/png": "[encoded data removed]",
      "text/plain": [
       "<Figure size 1000x1000 with 20 Axes>"
      ]
     },
     "metadata": {},
     "output_type": "display_data"
    }
   ],
   "source": [
    "sns.pairplot(df.iloc[:,2:6])"
   ]
  },
  {
   "cell_type": "markdown",
   "id": "5db8e161",
   "metadata": {},
   "source": [
    "Distributions kind of look like a Poisson process, which is interesting.\n",
    "\n",
    "---\n",
    "\n",
    "# Preprocessing"
   ]
  },
  {
   "cell_type": "code",
   "execution_count": 10,
   "id": "ef30a743",
   "metadata": {},
   "outputs": [
    {
     "data": {
      "text/plain": [
       "id                         False\n",
       "diagnosis                  False\n",
       "radius_mean                False\n",
       "texture_mean               False\n",
       "perimeter_mean             False\n",
       "area_mean                  False\n",
       "smoothness_mean            False\n",
       "compactness_mean           False\n",
       "concavity_mean             False\n",
       "concave points_mean        False\n",
       "symmetry_mean              False\n",
       "fractal_dimension_mean     False\n",
       "radius_se                  False\n",
       "texture_se                 False\n",
       "perimeter_se               False\n",
       "area_se                    False\n",
       "smoothness_se              False\n",
       "compactness_se             False\n",
       "concavity_se               False\n",
       "concave points_se          False\n",
       "symmetry_se                False\n",
       "fractal_dimension_se       False\n",
       "radius_worst               False\n",
       "texture_worst              False\n",
       "perimeter_worst            False\n",
       "area_worst                 False\n",
       "smoothness_worst           False\n",
       "compactness_worst          False\n",
       "concavity_worst            False\n",
       "concave points_worst       False\n",
       "symmetry_worst             False\n",
       "fractal_dimension_worst    False\n",
       "dtype: bool"
      ]
     },
     "execution_count": 10,
     "metadata": {},
     "output_type": "execute_result"
    }
   ],
   "source": [
    "df.isna().any()"
   ]
  },
  {
   "cell_type": "code",
   "execution_count": 17,
   "id": "d3159f20",
   "metadata": {},
   "outputs": [
    {
     "name": "stdout",
     "output_type": "stream",
     "text": [
      "Train set size:  426 \n",
      "Test set size:  143\n"
     ]
    }
   ],
   "source": [
    "from sklearn.model_selection import train_test_split\n",
    "\n",
    "y = df.diagnosis.to_numpy()\n",
    "X = df.iloc[:, 2:].to_numpy()\n",
    "\n",
    "X_train, X_test, y_train, y_test = train_test_split(\n",
    "    X, y, test_size = 0.25)\n",
    "\n",
    "print('Train set size: ', len(X_train), '\\nTest set size: ', len(X_test))"
   ]
  },
  {
   "cell_type": "code",
   "execution_count": 21,
   "id": "5c6683bd",
   "metadata": {},
   "outputs": [
    {
     "name": "stdout",
     "output_type": "stream",
     "text": [
      "X Train max value:  1.0000000000000002 \n",
      "X Test max value:  1.6295425395468146\n",
      "X Train min value:  0.0 \n",
      "X Test min value:  -0.07784431137724557\n"
     ]
    }
   ],
   "source": [
    "from sklearn.preprocessing import MinMaxScaler\n",
    "\n",
    "scaler = MinMaxScaler()\n",
    "X_train_scaled = scaler.fit_transform(X_train)\n",
    "X_test_scaled = scaler.transform(X_test)\n",
    "print('X Train max value: ', X_train_scaled.max(), '\\nX Test max value: ', X_test_scaled.max())\n",
    "print('X Train min value: ', X_train_scaled.min(), '\\nX Test min value: ', X_test_scaled.min())"
   ]
  },
  {
   "cell_type": "markdown",
   "id": "cfd54a74",
   "metadata": {},
   "source": [
    "---\n",
    "\n",
    "# k-nearest neightbor\n",
    "\n",
    "To begin with, I choose k = 3."
   ]
  },
  {
   "cell_type": "code",
   "execution_count": 25,
   "id": "fda93dac",
   "metadata": {},
   "outputs": [
    {
     "name": "stdout",
     "output_type": "stream",
     "text": [
      "Correct:  139 Out of:  143\n"
     ]
    }
   ],
   "source": [
    "from sklearn.neighbors import KNeighborsClassifier\n",
    "\n",
    "neigh = KNeighborsClassifier(n_neighbors = 3)\n",
    "neigh.fit(X_train_scaled, y_train)\n",
    "\n",
    "preds = neigh.predict(X_test_scaled)\n",
    "print('Correct: ', sum([1 for i in range(len(y_test)) if preds[i] == y_test[i]]), \\\n",
    "      'Out of: ', len(y_test))"
   ]
  },
  {
   "cell_type": "markdown",
   "id": "6d9fd5fc",
   "metadata": {},
   "source": [
    "We could also try different k values in a for loop."
   ]
  },
  {
   "cell_type": "code",
   "execution_count": 33,
   "id": "57480056",
   "metadata": {},
   "outputs": [
    {
     "name": "stdout",
     "output_type": "stream",
     "text": [
      "For k =  1 \tCorrect:  138 Out of:  143\n",
      "For k =  2 \tCorrect:  135 Out of:  143\n",
      "For k =  3 \tCorrect:  139 Out of:  143\n",
      "For k =  4 \tCorrect:  138 Out of:  143\n",
      "For k =  5 \tCorrect:  139 Out of:  143\n",
      "For k =  6 \tCorrect:  139 Out of:  143\n",
      "For k =  7 \tCorrect:  140 Out of:  143\n",
      "For k =  8 \tCorrect:  138 Out of:  143\n",
      "For k =  9 \tCorrect:  139 Out of:  143\n",
      "For k =  10 \tCorrect:  139 Out of:  143\n",
      "For k =  11 \tCorrect:  139 Out of:  143\n",
      "For k =  12 \tCorrect:  137 Out of:  143\n",
      "For k =  13 \tCorrect:  138 Out of:  143\n",
      "For k =  14 \tCorrect:  137 Out of:  143\n",
      "For k =  15 \tCorrect:  137 Out of:  143\n"
     ]
    }
   ],
   "source": [
    "for k in list(range(1, 16)):\n",
    "    neigh = KNeighborsClassifier(n_neighbors = k)\n",
    "    neigh.fit(X_train_scaled, y_train)\n",
    "    preds = neigh.predict(X_test_scaled)\n",
    "    print('For k = ', k, '\\tCorrect: ', sum([1 for i in range(len(y_test)) if preds[i] == y_test[i]]), \\\n",
    "          'Out of: ', len(y_test))"
   ]
  },
  {
   "cell_type": "markdown",
   "id": "bb8ed352",
   "metadata": {},
   "source": [
    "k = 7 gives the best result out of all of these k values."
   ]
  },
  {
   "cell_type": "markdown",
   "id": "4288c157",
   "metadata": {},
   "source": [
    "# Methods to use with all algorithms"
   ]
  },
  {
   "cell_type": "code",
   "execution_count": 38,
   "id": "f8a21808",
   "metadata": {},
   "outputs": [],
   "source": [
    "from sklearn.preprocessing import MinMaxScaler\n",
    "\n",
    "def scale(X_train, X_test, verbose = False):\n",
    "    scaler = MinMaxScaler()\n",
    "    X_train_scaled = scaler.fit_transform(X_train)\n",
    "    X_test_scaled = scaler.transform(X_test)\n",
    "    if verbose:\n",
    "        print('X Train max value: ', X_train_scaled.max(), '\\nX Test max value: ', X_test_scaled.max())\n",
    "        print('X Train min value: ', X_train_scaled.min(), '\\nX Test min value: ', X_test_scaled.min())\n",
    "    return X_train_scaled, X_test_scaled"
   ]
  },
  {
   "cell_type": "code",
   "execution_count": 132,
   "id": "3b7dd371",
   "metadata": {},
   "outputs": [],
   "source": [
    "from sklearn.preprocessing import OneHotEncoder\n",
    "\n",
    "def onehot(y_train, y_test):\n",
    "    ohe = OneHotEncoder()\n",
    "    train = ohe.fit_transform(y_train.reshape(-1, 1)).toarray()\n",
    "    test = ohe.transform(y_test.reshape(-1, 1)).toarray()\n",
    "    return train, test, ohe"
   ]
  },
  {
   "cell_type": "code",
   "execution_count": 104,
   "id": "e34b7a77",
   "metadata": {},
   "outputs": [],
   "source": [
    "from sklearn.metrics import accuracy_score, precision_score, recall_score, f1_score, roc_auc_score\n",
    "\n",
    "def metrics(preds, y_test, ohe, verbose = False):\n",
    "    # Only roc auc uses onehot encoded form, for other metrics, use string form\n",
    "    # So I inverse transform here, since I will give onehot encoded form here\n",
    "    inv_preds = ohe.inverse_transform(preds)\n",
    "    inv_y_test = ohe.inverse_transform(y_test)\n",
    "    \n",
    "    acc = accuracy_score(inv_preds, inv_y_test)\n",
    "    precision = precision_score(inv_preds, inv_y_test, pos_label = 'B')\n",
    "    recall = recall_score(inv_preds, inv_y_test, pos_label = 'B')\n",
    "    f1 = f1_score(inv_preds, inv_y_test, pos_label = 'B')\n",
    "    \n",
    "    ras = roc_auc_score(y_test, preds)\n",
    "    \n",
    "    if verbose:\n",
    "        print('Accuracy: ', acc, \\\n",
    "             '\\nPrecision: ', precision, \\\n",
    "             '\\nRecall: ', recall, \\\n",
    "             '\\nF1 Score: ', f1, \\\n",
    "             '\\nRoc Auc Score: ', ras)\n",
    "    return [acc, precision, recall, f1, ras]"
   ]
  },
  {
   "cell_type": "markdown",
   "id": "76c79472",
   "metadata": {},
   "source": [
    "---\n",
    "\n",
    "# Cross Validation with KNN\n",
    "\n",
    "Below I use KFold method to divide the dataset into 100 subgroups and iterate 100 times fitting the model with 99 of those subgroups and testing with 1 subgroup in each iteration. While iterating, I save the metrics in an array called scores which then I use to average each metric."
   ]
  },
  {
   "cell_type": "code",
   "execution_count": 75,
   "id": "9e0548b8",
   "metadata": {},
   "outputs": [],
   "source": [
    "from sklearn.model_selection import RepeatedStratifiedKFold\n",
    "\n",
    "kf = RepeatedStratifiedKFold(n_splits = 100)\n",
    "kf.get_n_splits(X, y)\n",
    "\n",
    "scores = []\n",
    "for i, (train_index, test_index) in enumerate(kf.split(X, y)):\n",
    "    # Preprocess\n",
    "    X_train_scaled, X_test_scaled = scale(X[train_index], X[test_index])\n",
    "    y_train, y_test, ohe = onehot(y[train_index], y[test_index])\n",
    "    \n",
    "    for _ in range(100):\n",
    "        # Train model\n",
    "        neigh = KNeighborsClassifier(n_neighbors = 7)\n",
    "        neigh.fit(X_train_scaled, y_train)\n",
    "        # Predict and score\n",
    "        preds = neigh.predict(X_test_scaled)\n",
    "        scores.append(metrics(preds, y_test, ohe))"
   ]
  },
  {
   "cell_type": "code",
   "execution_count": 76,
   "id": "dff51926",
   "metadata": {},
   "outputs": [
    {
     "data": {
      "text/plain": [
       "array([0.97013333, 0.98591667, 0.97261667, 0.97668254, 0.97755833])"
      ]
     },
     "execution_count": 76,
     "metadata": {},
     "output_type": "execute_result"
    }
   ],
   "source": [
    "np.array(scores).mean(axis = 0)"
   ]
  },
  {
   "cell_type": "markdown",
   "id": "ed4895b5",
   "metadata": {},
   "source": [
    "---\n",
    "\n",
    "# Logistic Regression"
   ]
  },
  {
   "cell_type": "code",
   "execution_count": 105,
   "id": "28823e6b",
   "metadata": {
    "scrolled": true
   },
   "outputs": [
    {
     "data": {
      "text/plain": [
       "array([0.96983333, 0.99691667, 0.96478333, 0.97830873, 0.96104167])"
      ]
     },
     "execution_count": 105,
     "metadata": {},
     "output_type": "execute_result"
    }
   ],
   "source": [
    "from sklearn.linear_model import LogisticRegression\n",
    "from sklearn.model_selection import RepeatedStratifiedKFold\n",
    "\n",
    "kf = RepeatedStratifiedKFold(n_splits = 100)\n",
    "kf.get_n_splits(X, y)\n",
    "\n",
    "scores = []\n",
    "for i, (train_index, test_index) in enumerate(kf.split(X, y)):\n",
    "    # Preprocess\n",
    "    X_train_scaled, X_test_scaled = scale(X[train_index], X[test_index])\n",
    "    y_train, y_test, ohe = onehot(y[train_index], y[test_index])\n",
    "    \n",
    "    for _ in range(100):\n",
    "        LR = LogisticRegression(random_state=0).fit(X_train_scaled, y[train_index])\n",
    "        preds = LR.predict(X_test_scaled)\n",
    "        scores.append(metrics(ohe.transform(preds.reshape(-1, 1)).toarray(), y_test, ohe))\n",
    "    \n",
    "np.array(scores).mean(axis = 0)"
   ]
  },
  {
   "cell_type": "markdown",
   "id": "7d44e8a8",
   "metadata": {},
   "source": [
    "---\n",
    "\n",
    "# Support Vector Machine"
   ]
  },
  {
   "cell_type": "code",
   "execution_count": 107,
   "id": "2f069420",
   "metadata": {
    "scrolled": true
   },
   "outputs": [
    {
     "data": {
      "text/plain": [
       "array([0.97556667, 0.98591667, 0.98001667, 0.98055635, 0.97170833])"
      ]
     },
     "execution_count": 107,
     "metadata": {},
     "output_type": "execute_result"
    }
   ],
   "source": [
    "from sklearn import svm\n",
    "\n",
    "scores = []\n",
    "for i, (train_index, test_index) in enumerate(kf.split(X, y)):\n",
    "    # Preprocess\n",
    "    X_train_scaled, X_test_scaled = scale(X[train_index], X[test_index])\n",
    "    y_train, y_test, ohe = onehot(y[train_index], y[test_index])\n",
    "    \n",
    "    for _ in range(100):\n",
    "        clf = svm.SVC()\n",
    "        clf.fit(X_train_scaled, y[train_index])\n",
    "        preds = clf.predict(X_test_scaled)\n",
    "        scores.append(metrics(ohe.transform(preds.reshape(-1, 1)).toarray(), y_test, ohe))\n",
    "        \n",
    "np.array(scores).mean(axis = 0)"
   ]
  },
  {
   "cell_type": "markdown",
   "id": "883d6a7a",
   "metadata": {},
   "source": [
    "---\n",
    "\n",
    "# Decision Tree Clasifier"
   ]
  },
  {
   "cell_type": "code",
   "execution_count": 110,
   "id": "eb76b326",
   "metadata": {
    "scrolled": true
   },
   "outputs": [
    {
     "data": {
      "text/plain": [
       "array([0.92046667, 0.92975   , 0.95236667, 0.93351667, 0.917375  ])"
      ]
     },
     "execution_count": 110,
     "metadata": {},
     "output_type": "execute_result"
    }
   ],
   "source": [
    "from sklearn import tree\n",
    "\n",
    "scores = []\n",
    "for i, (train_index, test_index) in enumerate(kf.split(X, y)):\n",
    "    # Preprocess\n",
    "    X_train_scaled, X_test_scaled = scale(X[train_index], X[test_index])\n",
    "    y_train, y_test, ohe = onehot(y[train_index], y[test_index])\n",
    "    \n",
    "    for _ in range(100):\n",
    "        clf = tree.DecisionTreeClassifier()\n",
    "        clf.fit(X_train_scaled, y_train)\n",
    "        preds = clf.predict(X_test_scaled)\n",
    "        scores.append(metrics(preds, y_test, ohe))\n",
    "        \n",
    "np.array(scores).mean(axis = 0)"
   ]
  },
  {
   "cell_type": "markdown",
   "id": "0b745434",
   "metadata": {},
   "source": [
    "---\n",
    "\n",
    "# Gradient Boosted Decision Tree Classifier"
   ]
  },
  {
   "cell_type": "code",
   "execution_count": 113,
   "id": "20277ed3",
   "metadata": {
    "scrolled": true
   },
   "outputs": [
    {
     "data": {
      "text/plain": [
       "array([0.9716    , 0.983     , 0.97783333, 0.97770952, 0.96791667])"
      ]
     },
     "execution_count": 113,
     "metadata": {},
     "output_type": "execute_result"
    }
   ],
   "source": [
    "from sklearn.ensemble import GradientBoostingClassifier\n",
    "\n",
    "scores = []\n",
    "for i, (train_index, test_index) in enumerate(kf.split(X, y)):\n",
    "    # Preprocess\n",
    "    X_train_scaled, X_test_scaled = scale(X[train_index], X[test_index])\n",
    "    y_train, y_test, ohe = onehot(y[train_index], y[test_index])\n",
    "    \n",
    "    for _ in range(100):\n",
    "        clf = GradientBoostingClassifier(n_estimators=100, learning_rate=1.0, max_depth=1)\n",
    "        clf.fit(X_train_scaled, y[train_index])\n",
    "        preds = clf.predict(X_test_scaled)\n",
    "        scores.append(metrics(ohe.transform(preds.reshape(-1, 1)).toarray(), y_test, ohe))\n",
    "        \n",
    "np.array(scores).mean(axis = 0)"
   ]
  },
  {
   "cell_type": "markdown",
   "id": "915736e3",
   "metadata": {},
   "source": [
    "---\n",
    "\n",
    "# Naive Bayes Classifier"
   ]
  },
  {
   "cell_type": "code",
   "execution_count": 116,
   "id": "845e83d4",
   "metadata": {
    "scrolled": true
   },
   "outputs": [
    {
     "data": {
      "text/plain": [
       "array([0.93416667, 0.95533333, 0.95146667, 0.94715159, 0.92675   ])"
      ]
     },
     "execution_count": 116,
     "metadata": {},
     "output_type": "execute_result"
    }
   ],
   "source": [
    "from sklearn.naive_bayes import GaussianNB\n",
    "\n",
    "scores = []\n",
    "for i, (train_index, test_index) in enumerate(kf.split(X, y)):\n",
    "    # Preprocess\n",
    "    X_train_scaled, X_test_scaled = scale(X[train_index], X[test_index])\n",
    "    y_train, y_test, ohe = onehot(y[train_index], y[test_index])\n",
    "    \n",
    "    for _ in range(100):\n",
    "        clf = GaussianNB()\n",
    "        clf.fit(X_train_scaled, y[train_index])\n",
    "        preds = clf.predict(X_test_scaled)\n",
    "        scores.append(metrics(ohe.transform(preds.reshape(-1, 1)).toarray(), y_test, ohe))\n",
    "        \n",
    "np.array(scores).mean(axis = 0)"
   ]
  },
  {
   "cell_type": "markdown",
   "id": "088d1990",
   "metadata": {},
   "source": [
    "---\n",
    "\n",
    "# Neural Network with Keras\n",
    "\n",
    "I create a shallow neural network for classification."
   ]
  },
  {
   "cell_type": "code",
   "execution_count": null,
   "id": "6633cf34",
   "metadata": {
    "scrolled": true
   },
   "outputs": [],
   "source": [
    "import keras\n",
    "from keras.models import Sequential\n",
    "from keras.layers import Dense\n",
    "from sklearn.preprocessing import OneHotEncoder\n",
    "\n",
    "def create_nn():\n",
    "    model = Sequential()\n",
    "    model.add(Dense(64, input_dim = 30, activation = 'relu'))\n",
    "    model.add(Dense(32, activation = 'relu'))\n",
    "    model.add(Dense(2, activation = 'softmax'))\n",
    "\n",
    "    model.compile(loss='categorical_crossentropy', optimizer='adam', metrics=['accuracy'])\n",
    "    return model\n",
    "\n",
    "scores = []\n",
    "for i, (train_index, test_index) in enumerate(kf.split(X, y)):\n",
    "    # Preprocess\n",
    "    X_train_scaled, X_test_scaled = scale(X[train_index], X[test_index])\n",
    "    y_train, y_test, ohe = onehot(y[train_index], y[test_index])\n",
    "    \n",
    "    ohe = OneHotEncoder()\n",
    "    yohe = ohe.fit_transform(y[train_index].reshape(-1, 1)).toarray()\n",
    "    \n",
    "    clf = create_nn()\n",
    "    history = clf.fit(X_train_scaled, yohe, epochs=20, batch_size=64, verbose = 0)\n",
    "    preds = clf.predict(X_test_scaled)\n",
    "    preds = np.array([[0, 1] if i[1] > i[0] else [1,0] for i in preds])\n",
    "    \n",
    "    scores.append(metrics(preds, ohe.transform(y[test_index].reshape(-1, 1)).toarray(), ohe))\n",
    "    \n",
    "np.array(scores).mean(axis = 0)"
   ]
  },
  {
   "cell_type": "markdown",
   "id": "26b6cf6d",
   "metadata": {},
   "source": [
    "---\n",
    "\n",
    "# MultiLayer Perceptron"
   ]
  },
  {
   "cell_type": "code",
   "execution_count": 127,
   "id": "354f06f9",
   "metadata": {},
   "outputs": [
    {
     "data": {
      "text/plain": [
       "array([0.8393    , 0.97983333, 0.84823333, 0.89513492, 0.79210417])"
      ]
     },
     "execution_count": 127,
     "metadata": {},
     "output_type": "execute_result"
    }
   ],
   "source": [
    "from sklearn.neural_network import MLPClassifier\n",
    "\n",
    "scores = []\n",
    "for i, (train_index, test_index) in enumerate(kf.split(X, y)):\n",
    "    # Preprocess\n",
    "    X_train_scaled, X_test_scaled = scale(X[train_index], X[test_index])\n",
    "    y_train, y_test, ohe = onehot(y[train_index], y[test_index])\n",
    "    \n",
    "    for _ in range(100):\n",
    "        clf = MLPClassifier(solver='lbfgs', alpha=1e-5, hidden_layer_sizes=(64, 32, 2))\n",
    "        clf.fit(X_train_scaled, y_train)\n",
    "        preds = clf.predict(X_test_scaled)\n",
    "        scores.append(metrics(preds, y_test, ohe))\n",
    "        \n",
    "np.array(scores).mean(axis = 0)"
   ]
  },
  {
   "cell_type": "markdown",
   "id": "96609546",
   "metadata": {},
   "source": [
    "---\n",
    "\n",
    "# Random Forest Classifier"
   ]
  },
  {
   "cell_type": "code",
   "execution_count": 140,
   "id": "b150a6cb",
   "metadata": {
    "scrolled": true
   },
   "outputs": [
    {
     "data": {
      "text/plain": [
       "array([0.9599    , 0.97483333, 0.96908333, 0.96832698, 0.95508333])"
      ]
     },
     "execution_count": 140,
     "metadata": {},
     "output_type": "execute_result"
    }
   ],
   "source": [
    "from sklearn.ensemble import RandomForestClassifier\n",
    "\n",
    "scores = []\n",
    "for i, (train_index, test_index) in enumerate(kf.split(X, y)):\n",
    "    # Preprocess\n",
    "    X_train_scaled, X_test_scaled = scale(X[train_index], X[test_index])\n",
    "    y_train, y_test, ohe = onehot(y[train_index], y[test_index])\n",
    "    \n",
    "    \n",
    "    clf = RandomForestClassifier()\n",
    "    clf.fit(X_train_scaled, y[train_index])\n",
    "    preds = clf.predict(X_test_scaled)\n",
    "    scores.append(metrics(ohe.transform(preds.reshape(-1, 1)).toarray(), y_test, ohe))\n",
    "    \n",
    "np.array(scores).mean(axis = 0)"
   ]
  },
  {
   "cell_type": "markdown",
   "id": "b5a85cce",
   "metadata": {},
   "source": [
    "---\n",
    "\n",
    "# Appendix\n",
    "\n",
    "## Auto ML - PyCaret Classification\n",
    "\n",
    "There is a library - PyCaret - which for a given dataset, tries various algorithms and returns the best model."
   ]
  },
  {
   "cell_type": "code",
   "execution_count": null,
   "id": "22e0b5a7",
   "metadata": {},
   "outputs": [],
   "source": [
    "df.drop('id', axis = 1, inplace = True)\n",
    "df.head()"
   ]
  },
  {
   "cell_type": "code",
   "execution_count": 5,
   "id": "a17a6e6e",
   "metadata": {},
   "outputs": [],
   "source": [
    "dfs = np.split(df, [500], axis = 0)"
   ]
  },
  {
   "cell_type": "code",
   "execution_count": 9,
   "id": "b3ab78b9",
   "metadata": {},
   "outputs": [
    {
     "data": {
      "text/html": [
       "<style type=\"text/css\">\n",
       "#T_04f66_row10_col1 {\n",
       "  background-color: lightgreen;\n",
       "}\n",
       "</style>\n",
       "<table id=\"T_04f66\">\n",
       "  <thead>\n",
       "    <tr>\n",
       "      <th class=\"blank level0\" >&nbsp;</th>\n",
       "      <th id=\"T_04f66_level0_col0\" class=\"col_heading level0 col0\" >Description</th>\n",
       "      <th id=\"T_04f66_level0_col1\" class=\"col_heading level0 col1\" >Value</th>\n",
       "    </tr>\n",
       "  </thead>\n",
       "  <tbody>\n",
       "    <tr>\n",
       "      <th id=\"T_04f66_level0_row0\" class=\"row_heading level0 row0\" >0</th>\n",
       "      <td id=\"T_04f66_row0_col0\" class=\"data row0 col0\" >Session id</td>\n",
       "      <td id=\"T_04f66_row0_col1\" class=\"data row0 col1\" >3449</td>\n",
       "    </tr>\n",
       "    <tr>\n",
       "      <th id=\"T_04f66_level0_row1\" class=\"row_heading level0 row1\" >1</th>\n",
       "      <td id=\"T_04f66_row1_col0\" class=\"data row1 col0\" >Target</td>\n",
       "      <td id=\"T_04f66_row1_col1\" class=\"data row1 col1\" >diagnosis</td>\n",
       "    </tr>\n",
       "    <tr>\n",
       "      <th id=\"T_04f66_level0_row2\" class=\"row_heading level0 row2\" >2</th>\n",
       "      <td id=\"T_04f66_row2_col0\" class=\"data row2 col0\" >Target type</td>\n",
       "      <td id=\"T_04f66_row2_col1\" class=\"data row2 col1\" >Binary</td>\n",
       "    </tr>\n",
       "    <tr>\n",
       "      <th id=\"T_04f66_level0_row3\" class=\"row_heading level0 row3\" >3</th>\n",
       "      <td id=\"T_04f66_row3_col0\" class=\"data row3 col0\" >Target mapping</td>\n",
       "      <td id=\"T_04f66_row3_col1\" class=\"data row3 col1\" >B: 0, M: 1</td>\n",
       "    </tr>\n",
       "    <tr>\n",
       "      <th id=\"T_04f66_level0_row4\" class=\"row_heading level0 row4\" >4</th>\n",
       "      <td id=\"T_04f66_row4_col0\" class=\"data row4 col0\" >Original data shape</td>\n",
       "      <td id=\"T_04f66_row4_col1\" class=\"data row4 col1\" >(500, 32)</td>\n",
       "    </tr>\n",
       "    <tr>\n",
       "      <th id=\"T_04f66_level0_row5\" class=\"row_heading level0 row5\" >5</th>\n",
       "      <td id=\"T_04f66_row5_col0\" class=\"data row5 col0\" >Transformed data shape</td>\n",
       "      <td id=\"T_04f66_row5_col1\" class=\"data row5 col1\" >(500, 32)</td>\n",
       "    </tr>\n",
       "    <tr>\n",
       "      <th id=\"T_04f66_level0_row6\" class=\"row_heading level0 row6\" >6</th>\n",
       "      <td id=\"T_04f66_row6_col0\" class=\"data row6 col0\" >Transformed train set shape</td>\n",
       "      <td id=\"T_04f66_row6_col1\" class=\"data row6 col1\" >(350, 32)</td>\n",
       "    </tr>\n",
       "    <tr>\n",
       "      <th id=\"T_04f66_level0_row7\" class=\"row_heading level0 row7\" >7</th>\n",
       "      <td id=\"T_04f66_row7_col0\" class=\"data row7 col0\" >Transformed test set shape</td>\n",
       "      <td id=\"T_04f66_row7_col1\" class=\"data row7 col1\" >(150, 32)</td>\n",
       "    </tr>\n",
       "    <tr>\n",
       "      <th id=\"T_04f66_level0_row8\" class=\"row_heading level0 row8\" >8</th>\n",
       "      <td id=\"T_04f66_row8_col0\" class=\"data row8 col0\" >Numeric features</td>\n",
       "      <td id=\"T_04f66_row8_col1\" class=\"data row8 col1\" >31</td>\n",
       "    </tr>\n",
       "    <tr>\n",
       "      <th id=\"T_04f66_level0_row9\" class=\"row_heading level0 row9\" >9</th>\n",
       "      <td id=\"T_04f66_row9_col0\" class=\"data row9 col0\" >Rows with missing values</td>\n",
       "      <td id=\"T_04f66_row9_col1\" class=\"data row9 col1\" >100.0%</td>\n",
       "    </tr>\n",
       "    <tr>\n",
       "      <th id=\"T_04f66_level0_row10\" class=\"row_heading level0 row10\" >10</th>\n",
       "      <td id=\"T_04f66_row10_col0\" class=\"data row10 col0\" >Preprocess</td>\n",
       "      <td id=\"T_04f66_row10_col1\" class=\"data row10 col1\" >True</td>\n",
       "    </tr>\n",
       "    <tr>\n",
       "      <th id=\"T_04f66_level0_row11\" class=\"row_heading level0 row11\" >11</th>\n",
       "      <td id=\"T_04f66_row11_col0\" class=\"data row11 col0\" >Imputation type</td>\n",
       "      <td id=\"T_04f66_row11_col1\" class=\"data row11 col1\" >simple</td>\n",
       "    </tr>\n",
       "    <tr>\n",
       "      <th id=\"T_04f66_level0_row12\" class=\"row_heading level0 row12\" >12</th>\n",
       "      <td id=\"T_04f66_row12_col0\" class=\"data row12 col0\" >Numeric imputation</td>\n",
       "      <td id=\"T_04f66_row12_col1\" class=\"data row12 col1\" >mean</td>\n",
       "    </tr>\n",
       "    <tr>\n",
       "      <th id=\"T_04f66_level0_row13\" class=\"row_heading level0 row13\" >13</th>\n",
       "      <td id=\"T_04f66_row13_col0\" class=\"data row13 col0\" >Categorical imputation</td>\n",
       "      <td id=\"T_04f66_row13_col1\" class=\"data row13 col1\" >mode</td>\n",
       "    </tr>\n",
       "    <tr>\n",
       "      <th id=\"T_04f66_level0_row14\" class=\"row_heading level0 row14\" >14</th>\n",
       "      <td id=\"T_04f66_row14_col0\" class=\"data row14 col0\" >Fold Generator</td>\n",
       "      <td id=\"T_04f66_row14_col1\" class=\"data row14 col1\" >StratifiedKFold</td>\n",
       "    </tr>\n",
       "    <tr>\n",
       "      <th id=\"T_04f66_level0_row15\" class=\"row_heading level0 row15\" >15</th>\n",
       "      <td id=\"T_04f66_row15_col0\" class=\"data row15 col0\" >Fold Number</td>\n",
       "      <td id=\"T_04f66_row15_col1\" class=\"data row15 col1\" >10</td>\n",
       "    </tr>\n",
       "    <tr>\n",
       "      <th id=\"T_04f66_level0_row16\" class=\"row_heading level0 row16\" >16</th>\n",
       "      <td id=\"T_04f66_row16_col0\" class=\"data row16 col0\" >CPU Jobs</td>\n",
       "      <td id=\"T_04f66_row16_col1\" class=\"data row16 col1\" >-1</td>\n",
       "    </tr>\n",
       "    <tr>\n",
       "      <th id=\"T_04f66_level0_row17\" class=\"row_heading level0 row17\" >17</th>\n",
       "      <td id=\"T_04f66_row17_col0\" class=\"data row17 col0\" >Use GPU</td>\n",
       "      <td id=\"T_04f66_row17_col1\" class=\"data row17 col1\" >False</td>\n",
       "    </tr>\n",
       "    <tr>\n",
       "      <th id=\"T_04f66_level0_row18\" class=\"row_heading level0 row18\" >18</th>\n",
       "      <td id=\"T_04f66_row18_col0\" class=\"data row18 col0\" >Log Experiment</td>\n",
       "      <td id=\"T_04f66_row18_col1\" class=\"data row18 col1\" >False</td>\n",
       "    </tr>\n",
       "    <tr>\n",
       "      <th id=\"T_04f66_level0_row19\" class=\"row_heading level0 row19\" >19</th>\n",
       "      <td id=\"T_04f66_row19_col0\" class=\"data row19 col0\" >Experiment Name</td>\n",
       "      <td id=\"T_04f66_row19_col1\" class=\"data row19 col1\" >clf-default-name</td>\n",
       "    </tr>\n",
       "    <tr>\n",
       "      <th id=\"T_04f66_level0_row20\" class=\"row_heading level0 row20\" >20</th>\n",
       "      <td id=\"T_04f66_row20_col0\" class=\"data row20 col0\" >USI</td>\n",
       "      <td id=\"T_04f66_row20_col1\" class=\"data row20 col1\" >1bab</td>\n",
       "    </tr>\n",
       "  </tbody>\n",
       "</table>\n"
      ],
      "text/plain": [
       "<pandas.io.formats.style.Styler at 0x7fc3b6957850>"
      ]
     },
     "metadata": {},
     "output_type": "display_data"
    },
    {
     "data": {
      "text/html": [],
      "text/plain": [
       "<IPython.core.display.HTML object>"
      ]
     },
     "metadata": {},
     "output_type": "display_data"
    },
    {
     "data": {
      "text/html": [
       "<style type=\"text/css\">\n",
       "#T_aaf5a th {\n",
       "  text-align: left;\n",
       "}\n",
       "#T_aaf5a_row0_col0, #T_aaf5a_row1_col0, #T_aaf5a_row1_col1, #T_aaf5a_row1_col2, #T_aaf5a_row1_col3, #T_aaf5a_row1_col4, #T_aaf5a_row1_col5, #T_aaf5a_row1_col6, #T_aaf5a_row1_col7 {\n",
       "  text-align: left;\n",
       "}\n",
       "#T_aaf5a_row0_col1, #T_aaf5a_row0_col2, #T_aaf5a_row0_col3, #T_aaf5a_row0_col4, #T_aaf5a_row0_col5, #T_aaf5a_row0_col6, #T_aaf5a_row0_col7 {\n",
       "  text-align: left;\n",
       "  background-color: yellow;\n",
       "}\n",
       "#T_aaf5a_row0_col8 {\n",
       "  text-align: left;\n",
       "  background-color: lightgrey;\n",
       "}\n",
       "#T_aaf5a_row1_col8 {\n",
       "  text-align: left;\n",
       "  background-color: yellow;\n",
       "  background-color: lightgrey;\n",
       "}\n",
       "</style>\n",
       "<table id=\"T_aaf5a\">\n",
       "  <thead>\n",
       "    <tr>\n",
       "      <th class=\"blank level0\" >&nbsp;</th>\n",
       "      <th id=\"T_aaf5a_level0_col0\" class=\"col_heading level0 col0\" >Model</th>\n",
       "      <th id=\"T_aaf5a_level0_col1\" class=\"col_heading level0 col1\" >Accuracy</th>\n",
       "      <th id=\"T_aaf5a_level0_col2\" class=\"col_heading level0 col2\" >AUC</th>\n",
       "      <th id=\"T_aaf5a_level0_col3\" class=\"col_heading level0 col3\" >Recall</th>\n",
       "      <th id=\"T_aaf5a_level0_col4\" class=\"col_heading level0 col4\" >Prec.</th>\n",
       "      <th id=\"T_aaf5a_level0_col5\" class=\"col_heading level0 col5\" >F1</th>\n",
       "      <th id=\"T_aaf5a_level0_col6\" class=\"col_heading level0 col6\" >Kappa</th>\n",
       "      <th id=\"T_aaf5a_level0_col7\" class=\"col_heading level0 col7\" >MCC</th>\n",
       "      <th id=\"T_aaf5a_level0_col8\" class=\"col_heading level0 col8\" >TT (Sec)</th>\n",
       "    </tr>\n",
       "  </thead>\n",
       "  <tbody>\n",
       "    <tr>\n",
       "      <th id=\"T_aaf5a_level0_row0\" class=\"row_heading level0 row0\" >lightgbm</th>\n",
       "      <td id=\"T_aaf5a_row0_col0\" class=\"data row0 col0\" >Light Gradient Boosting Machine</td>\n",
       "      <td id=\"T_aaf5a_row0_col1\" class=\"data row0 col1\" >0.9686</td>\n",
       "      <td id=\"T_aaf5a_row0_col2\" class=\"data row0 col2\" >0.9886</td>\n",
       "      <td id=\"T_aaf5a_row0_col3\" class=\"data row0 col3\" >0.9412</td>\n",
       "      <td id=\"T_aaf5a_row0_col4\" class=\"data row0 col4\" >0.9775</td>\n",
       "      <td id=\"T_aaf5a_row0_col5\" class=\"data row0 col5\" >0.9586</td>\n",
       "      <td id=\"T_aaf5a_row0_col6\" class=\"data row0 col6\" >0.9333</td>\n",
       "      <td id=\"T_aaf5a_row0_col7\" class=\"data row0 col7\" >0.9342</td>\n",
       "      <td id=\"T_aaf5a_row0_col8\" class=\"data row0 col8\" >0.0420</td>\n",
       "    </tr>\n",
       "    <tr>\n",
       "      <th id=\"T_aaf5a_level0_row1\" class=\"row_heading level0 row1\" >dummy</th>\n",
       "      <td id=\"T_aaf5a_row1_col0\" class=\"data row1 col0\" >Dummy Classifier</td>\n",
       "      <td id=\"T_aaf5a_row1_col1\" class=\"data row1 col1\" >0.6114</td>\n",
       "      <td id=\"T_aaf5a_row1_col2\" class=\"data row1 col2\" >0.5000</td>\n",
       "      <td id=\"T_aaf5a_row1_col3\" class=\"data row1 col3\" >0.0000</td>\n",
       "      <td id=\"T_aaf5a_row1_col4\" class=\"data row1 col4\" >0.0000</td>\n",
       "      <td id=\"T_aaf5a_row1_col5\" class=\"data row1 col5\" >0.0000</td>\n",
       "      <td id=\"T_aaf5a_row1_col6\" class=\"data row1 col6\" >0.0000</td>\n",
       "      <td id=\"T_aaf5a_row1_col7\" class=\"data row1 col7\" >0.0000</td>\n",
       "      <td id=\"T_aaf5a_row1_col8\" class=\"data row1 col8\" >0.0140</td>\n",
       "    </tr>\n",
       "  </tbody>\n",
       "</table>\n"
      ],
      "text/plain": [
       "<pandas.io.formats.style.Styler at 0x7fc404a98100>"
      ]
     },
     "metadata": {},
     "output_type": "display_data"
    },
    {
     "data": {
      "text/html": [],
      "text/plain": [
       "<IPython.core.display.HTML object>"
      ]
     },
     "metadata": {},
     "output_type": "display_data"
    }
   ],
   "source": [
    "from pycaret.classification import *\n",
    "\n",
    "s = setup(dfs[0], target = 'diagnosis')\n",
    "\n",
    "best = compare_models()"
   ]
  },
  {
   "cell_type": "code",
   "execution_count": 10,
   "id": "337daf3b",
   "metadata": {},
   "outputs": [
    {
     "data": {
      "application/vnd.jupyter.widget-view+json": {
       "model_id": "44f22d63054f4f23b3a6aa0f22635554",
       "version_major": 2,
       "version_minor": 0
      },
      "text/plain": [
       "interactive(children=(ToggleButtons(description='Plot Type:', icons=('',), options=(('Pipeline Plot', 'pipelin…"
      ]
     },
     "metadata": {},
     "output_type": "display_data"
    }
   ],
   "source": [
    "evaluate_model(best)"
   ]
  },
  {
   "cell_type": "code",
   "execution_count": 11,
   "id": "f6c4396e",
   "metadata": {},
   "outputs": [
    {
     "data": {
      "text/html": [
       "<style type=\"text/css\">\n",
       "</style>\n",
       "<table id=\"T_d90bb\">\n",
       "  <thead>\n",
       "    <tr>\n",
       "      <th class=\"blank level0\" >&nbsp;</th>\n",
       "      <th id=\"T_d90bb_level0_col0\" class=\"col_heading level0 col0\" >Model</th>\n",
       "      <th id=\"T_d90bb_level0_col1\" class=\"col_heading level0 col1\" >Accuracy</th>\n",
       "      <th id=\"T_d90bb_level0_col2\" class=\"col_heading level0 col2\" >AUC</th>\n",
       "      <th id=\"T_d90bb_level0_col3\" class=\"col_heading level0 col3\" >Recall</th>\n",
       "      <th id=\"T_d90bb_level0_col4\" class=\"col_heading level0 col4\" >Prec.</th>\n",
       "      <th id=\"T_d90bb_level0_col5\" class=\"col_heading level0 col5\" >F1</th>\n",
       "      <th id=\"T_d90bb_level0_col6\" class=\"col_heading level0 col6\" >Kappa</th>\n",
       "      <th id=\"T_d90bb_level0_col7\" class=\"col_heading level0 col7\" >MCC</th>\n",
       "    </tr>\n",
       "  </thead>\n",
       "  <tbody>\n",
       "    <tr>\n",
       "      <th id=\"T_d90bb_level0_row0\" class=\"row_heading level0 row0\" >0</th>\n",
       "      <td id=\"T_d90bb_row0_col0\" class=\"data row0 col0\" >Light Gradient Boosting Machine</td>\n",
       "      <td id=\"T_d90bb_row0_col1\" class=\"data row0 col1\" >1.0000</td>\n",
       "      <td id=\"T_d90bb_row0_col2\" class=\"data row0 col2\" >1.0000</td>\n",
       "      <td id=\"T_d90bb_row0_col3\" class=\"data row0 col3\" >0</td>\n",
       "      <td id=\"T_d90bb_row0_col4\" class=\"data row0 col4\" >0</td>\n",
       "      <td id=\"T_d90bb_row0_col5\" class=\"data row0 col5\" >0</td>\n",
       "      <td id=\"T_d90bb_row0_col6\" class=\"data row0 col6\" >1.0000</td>\n",
       "      <td id=\"T_d90bb_row0_col7\" class=\"data row0 col7\" >1.0000</td>\n",
       "    </tr>\n",
       "  </tbody>\n",
       "</table>\n"
      ],
      "text/plain": [
       "<pandas.io.formats.style.Styler at 0x7fc36b5358d0>"
      ]
     },
     "metadata": {},
     "output_type": "display_data"
    }
   ],
   "source": [
    "preds = predict_model(best, data = dfs[1])"
   ]
  },
  {
   "cell_type": "code",
   "execution_count": null,
   "id": "adfa1339",
   "metadata": {},
   "outputs": [],
   "source": [
    "save_model(best, 'model_name')"
   ]
  }
 ],
 "metadata": {
  "kernelspec": {
   "display_name": "Python 3 (ipykernel)",
   "language": "python",
   "name": "python3"
  },
  "language_info": {
   "codemirror_mode": {
    "name": "ipython",
    "version": 3
   },
   "file_extension": ".py",
   "mimetype": "text/x-python",
   "name": "python",
   "nbconvert_exporter": "python",
   "pygments_lexer": "ipython3",
   "version": "3.10.9"
  }
 },
 "nbformat": 4,
 "nbformat_minor": 5
}
