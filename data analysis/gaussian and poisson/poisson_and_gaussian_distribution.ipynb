{
 "cells": [
  {
   "cell_type": "markdown",
   "metadata": {},
   "source": [
    "# Homework 3 - Kadir Berat YILDIRIM - 090150122\n",
    "\n",
    "## Poisson and Gaussian Distributions\n",
    "\n",
    "- **Poisson Process and Distribution:**\n",
    "\n",
    "The poisson process is widely used in data science. It relates the time needed to be taken for occurance of another event where events have no relationship between each other, with a probability distribution. For example, the number of car accidents in an area can be described as poisson process. The time taken after one accident is random and more importantly, one accident does not effect the beginning of the other one. This means they are independent processes but, as it seems to be, at a certain rate. \n",
    "\n",
    "Poisson process is discrete while gaussian process is continuous.\n",
    "\n",
    "In other words, the poisson process gives a probability of an event to happen after another event. A physics example for this process is photons landing on a photodiode. Electrons are excited randomly so one release of energy (or photon) from cathode side is independent of another one, which results in photons randomly hitting anode side of the photodiode. In a time interval, there will generally be specific number of photons that have landed on photodiode. \n",
    "\n",
    "*The number of events counted with constant likelihood in a specific time interval is said to be **Poisson Process**, which follows **Poisson Distribution**. *\n",
    "\n",
    "Another great example is the IceCube Project. IceCube Project's website defines the projects purpose as follows:\n",
    "*Encompassing a cubic kilometer of ice, IceCube searches for nearly massless subatomic particles called neutrinos. These high-energy astronomical messengers provide information to probe the most violent astrophysical sources: events like exploding stars, gamma-ray bursts, and cataclysmic phenomena involving black holes and neutron stars.*\n",
    "Since neutrinos enter Earth's atmosphere randomly, they will be randomly collected by IceCube's devices. Here, the word randomly does not mean that the time interval between events changes dramatically; but, again, there is no obvious relation between one event and another. So this process also follows Poisson. \n",
    "\n",
    "We will be working on IceCube's IC86c data taken from their website for visualization and analysis of Poisson Distribution and Gaussian Distribution.\n",
    "\n",
    "- **Gaussian Process and Distribution:**\n",
    "\n",
    "Gaussian Distribution represents normal deviation of real-valued random variables whose distributions are not known. Its width grows as standard deviation gets bigger, which gives visual information about sigma value, or in other words, how spread out the data we have in our hands. Gaussian (or normal distribution) is also called a *Bell Curve*, however there are other distributions that are also bell-shaped. \n",
    "\n",
    "As explained in wikipedia page: *Physical quantities that are expected to be the sum of many independent processes (such as measurement errors) often have distributions that are nearly normal.* \n",
    "\n",
    "An example can be given as follows: Imagine in a company, supervisors are graded in performance each year. If this company decides to use Gaussian Process as grading method:\n",
    "\n",
    "    * 10% must be graded poor\n",
    "    * 20% must be graded bad\n",
    "    * 40% must be graded normal\n",
    "    * 20% must be graded good\n",
    "    * 10% must be graded excellent\n",
    "    \n",
    "This kind of distribution is based on the mean, so the mean of performance of these supervisors decide the 'normal' range, and other supervisors are compared based on their distance to the mean. \n",
    "\n",
    "The middle of the *bell* of Gaussian Distribution is the mean. Its width stands for standard deviation of the data. \n",
    "\n",
    "- **Python Code:**\n",
    "\n",
    "As for our imports, we will be using Python's *Scipy* library as it contains methods for both Poisson and Normal (Gaussian) Distributions."
   ]
  },
  {
   "cell_type": "code",
   "execution_count": 1,
   "metadata": {},
   "outputs": [],
   "source": [
    "import scipy.stats as stats"
   ]
  },
  {
   "cell_type": "markdown",
   "metadata": {},
   "source": [
    "For numerical methods and constants, we import *numpy* library. And for reading the data set, we import *pandas* library."
   ]
  },
  {
   "cell_type": "code",
   "execution_count": 2,
   "metadata": {},
   "outputs": [],
   "source": [
    "import numpy as np\n",
    "import pandas as pd"
   ]
  },
  {
   "cell_type": "markdown",
   "metadata": {},
   "source": [
    "Finally, for plotting, *matplotlib* library is imported."
   ]
  },
  {
   "cell_type": "code",
   "execution_count": 3,
   "metadata": {},
   "outputs": [],
   "source": [
    "import matplotlib.pyplot as plt"
   ]
  },
  {
   "cell_type": "markdown",
   "metadata": {},
   "source": [
    "Reading the data set is done via *pandas* with a simple command. Then the data which is needed to be plotted is taken into a variable. Here we use one column as an example, later on, other columns will be analyzed."
   ]
  },
  {
   "cell_type": "code",
   "execution_count": 4,
   "metadata": {},
   "outputs": [],
   "source": [
    "dataset = pd.read_csv('IC86c_data.csv')\n",
    "Dec_deg_data = dataset['Dec_deg']"
   ]
  },
  {
   "cell_type": "markdown",
   "metadata": {},
   "source": [
    "For Poisson and Gaussian Distributions, mean value (mu) and standard deviation (std) is needed to be calculated. Pandas has both of them as methods inside DataFrame class."
   ]
  },
  {
   "cell_type": "code",
   "execution_count": 6,
   "metadata": {},
   "outputs": [
    {
     "name": "stdout",
     "output_type": "stream",
     "text": [
      "mu:  5.677225042301184 sigma:  1.5031404690211452\n"
     ]
    }
   ],
   "source": [
    "mu = Dec_deg_data.mean()\n",
    "sigma = Dec_deg_data.std()\n",
    "print('mu: ', mu, 'sigma: ', sigma)"
   ]
  },
  {
   "cell_type": "markdown",
   "metadata": {},
   "source": [
    "Then here on, it is easy to calculate and plot Poisson and Gaussian Distributions. Starting with Gaussian:"
   ]
  },
  {
   "cell_type": "code",
   "execution_count": 7,
   "metadata": {},
   "outputs": [
    {
     "data": {
      "image/png": "[encoded data removed]",
      "text/plain": [
       "<Figure size 432x288 with 1 Axes>"
      ]
     },
     "metadata": {
      "needs_background": "light"
     },
     "output_type": "display_data"
    }
   ],
   "source": [
    "x1 = np.linspace(mu - np.pi*sigma, mu + np.pi*sigma, 100)\n",
    "plt.plot(x1, stats.norm.pdf(x1, mu, sigma))\n",
    "\n",
    "plt.show()"
   ]
  },
  {
   "cell_type": "markdown",
   "metadata": {},
   "source": [
    "Of course for beautification, plot titles and labels as well as legends can be added. For simplification here, only the gaussian is plotted.\n",
    "\n",
    "*Scipy*'s method *norm* is used as *stats.norm.pdf(x1, mu, sigma)* as can be seen above. Mean was calculated as around 5.68 and from the plot, we can easily see that the 'Bell' of the Gaussion is at that value, which stands for mean. \n",
    "\n",
    "Plotting the Poisson Distribution has a similar logic begind it."
   ]
  },
  {
   "cell_type": "code",
   "execution_count": 8,
   "metadata": {},
   "outputs": [
    {
     "data": {
      "image/png": "[encoded data removed]",
      "text/plain": [
       "<Figure size 432x288 with 1 Axes>"
      ]
     },
     "metadata": {
      "needs_background": "light"
     },
     "output_type": "display_data"
    }
   ],
   "source": [
    "p1 = stats.poisson(mu)\n",
    "n = 15\n",
    "x2 = np.linspace(0,n,n+1) \n",
    "pmf1 = np.array([p1.pmf(i) for i in x2])\n",
    "plt.plot(x2, pmf1, 'r')\n",
    "\n",
    "plt.show()"
   ]
  },
  {
   "cell_type": "markdown",
   "metadata": {},
   "source": [
    "Here we also see the 'bell' is at around the mean which is expected. But also, discrete behaviour of Poisson Distribution is visible compared to Gaussian Distribution. \n",
    "\n",
    "- **Analyzing the Data**\n",
    "\n",
    "As talked about before, the data used in previous example is from the IceCube Project's sensor labeled as 'IC86c' which contains data from 2015 May 18 to 2017 Oct 31. These sensors measure muons and neutrinos hitting Earth's surface at south pole. Since there is no obvious relation between one muon hitting the Earth with another one, it is fairly reasonable to assume this process should behave as a Poisson Process. We can see if that is the case by plotting our data in a Gaussian Distribution (as we already did). \n",
    "\n",
    "Inside the data, we have 5 columns which stand for:\n",
    "\n",
    "    * MJD : Modified Julian Day\n",
    "    * Ra_deg : Right Ascension Coordinates\n",
    "    * Dec_deg : Declination Coordinates\n",
    "    * Unc_deg : Angular Uncertainity (Degrees)\n",
    "    * log10(Ereco) : the logarithm of the reconstructed muon energy\n",
    "    \n",
    "We can have a look at coordinate datas to see if they behave as a normal distribution. We have taken a look at Dec_deg column before so let us start with Ra_deg column.\n",
    "\n",
    "If we plot Poisson and Gaussian Distributions together:"
   ]
  },
  {
   "cell_type": "code",
   "execution_count": 11,
   "metadata": {},
   "outputs": [
    {
     "name": "stdout",
     "output_type": "stream",
     "text": [
      "mu:  77.33402707275805 sigma:  1.444088954233914\n"
     ]
    },
    {
     "data": {
      "image/png": "[encoded data removed]",
      "text/plain": [
       "<Figure size 432x288 with 1 Axes>"
      ]
     },
     "metadata": {
      "needs_background": "light"
     },
     "output_type": "display_data"
    }
   ],
   "source": [
    "Ra_deg_data = dataset['Ra_deg']\n",
    "\n",
    "mu = Ra_deg_data.mean()\n",
    "sigma = Ra_deg_data.std()\n",
    "print('mu: ', mu, 'sigma: ', sigma)\n",
    "\n",
    "p1 = stats.poisson(mu)\n",
    "n = 100\n",
    "x2 = np.linspace(0,n,n+1) \n",
    "pmf1 = np.array([p1.pmf(i) for i in x2])\n",
    "plt.plot(x2, pmf1, 'r')\n",
    "\n",
    "x1 = np.linspace(mu - np.pi*sigma, mu + np.pi*sigma, 100)\n",
    "plt.plot(x1, stats.norm.pdf(x1, mu, sigma))\n",
    "\n",
    "plt.show()"
   ]
  },
  {
   "cell_type": "markdown",
   "metadata": {},
   "source": [
    "We have a mean at around 77, which is why Gaussian is located at there. Also a small sigma reduces the width of this Gaussian plot.\n",
    "\n",
    "Poisson Distribution shows an increase close to Gaussian and behaves in a similar way. As expected, There is a zero possibility when far away from mean, while around the mean, there is a good possibility that an event may occur. \n",
    "\n",
    "We can have a look at angular uncertainity data (Unc_deg) to see it also behaves in the same way."
   ]
  },
  {
   "cell_type": "code",
   "execution_count": 14,
   "metadata": {},
   "outputs": [
    {
     "name": "stdout",
     "output_type": "stream",
     "text": [
      "mu:  1.0235702199661592 sigma:  0.7885022992946833\n"
     ]
    },
    {
     "data": {
      "image/png": "[encoded data removed]",
      "text/plain": [
       "<Figure size 432x288 with 1 Axes>"
      ]
     },
     "metadata": {
      "needs_background": "light"
     },
     "output_type": "display_data"
    }
   ],
   "source": [
    "Unc_deg_data = dataset['Unc_deg']\n",
    "\n",
    "mu = Unc_deg_data.mean()\n",
    "sigma = Unc_deg_data.std()\n",
    "print('mu: ', mu, 'sigma: ', sigma)\n",
    "\n",
    "p1 = stats.poisson(mu)\n",
    "n = 5\n",
    "x2 = np.linspace(0,n,n+1) \n",
    "pmf1 = np.array([p1.pmf(i) for i in x2])\n",
    "plt.plot(x2, pmf1, 'r')\n",
    "\n",
    "x1 = np.linspace(mu - np.pi*sigma, mu + np.pi*sigma, 100)\n",
    "plt.plot(x1, stats.norm.pdf(x1, mu, sigma))\n",
    "\n",
    "plt.show()"
   ]
  },
  {
   "cell_type": "markdown",
   "metadata": {},
   "source": [
    "Since this data is on angular uncertainity, it can be concluded that there is a half percent chance that we will have a 1 degree uncertainity in the measured angle of muon, based on this plot. Up to around 2 degrees uncertainity, we are still in range of 2 sigma, which would be expected. But, more than 2 degrees (or less than 0 degrees) would be more than 2 sigma, which may indicate that this specific point on our data can contain unnecessary information as it could just be an error of devices. "
   ]
  }
 ],
 "metadata": {
  "kernelspec": {
   "display_name": "Python 3",
   "language": "python",
   "name": "python3"
  },
  "language_info": {
   "codemirror_mode": {
    "name": "ipython",
    "version": 3
   },
   "file_extension": ".py",
   "mimetype": "text/x-python",
   "name": "python",
   "nbconvert_exporter": "python",
   "pygments_lexer": "ipython3",
   "version": "3.7.4"
  }
 },
 "nbformat": 4,
 "nbformat_minor": 4
}
