{
 "cells": [
  {
   "cell_type": "markdown",
   "metadata": {
    "Collapsed": "false"
   },
   "source": [
    "# Mean and Median\n",
    "\n",
    "## Mean\n",
    "\n",
    "The mean is the arithmetic average of a set of numbers, or distribution. It is the most commonly used measure of central tendency of a set of numbers.\n",
    "\n",
    "The mean is used for normal distributions.\n",
    "\n",
    "A mean is computed by adding up all the values and dividing that score by the number of values.\n",
    "\n",
    "## Median\n",
    "\n",
    "The median is described as the numeric value separating the higher half of a sample, a population, or a probability distribution, from the lower half.\n",
    "\n",
    "The median is generally used for skewed distributions.\n",
    "\n",
    "The Median is the number found at the exact middle of the set of values. A median can be computed by listing all numbers in ascending order and then locating the number in the centre of that distribution.\n",
    "\n",
    "\n",
    "## Mode:\n",
    "\n",
    "In statistics, the mode in a list of numbers refers to the integers that occur most frequently. Unlike the median and mean, the mode is about the frequency of occurrence. There can be more than one mode or no mode at all; it all depends on the data set itself."
   ]
  },
  {
   "cell_type": "markdown",
   "metadata": {
    "Collapsed": "false"
   },
   "source": [
    "## Calculating Mean, Median and Mode with Python\n",
    "\n",
    "### Mean:"
   ]
  },
  {
   "cell_type": "code",
   "execution_count": 1,
   "metadata": {
    "Collapsed": "false"
   },
   "outputs": [],
   "source": [
    "#imports\n",
    "import random as rand\n",
    "import pandas as pd\n",
    "import numpy as np"
   ]
  },
  {
   "cell_type": "markdown",
   "metadata": {
    "Collapsed": "false"
   },
   "source": [
    "Lets make a list of random numbers."
   ]
  },
  {
   "cell_type": "code",
   "execution_count": 2,
   "metadata": {
    "Collapsed": "false"
   },
   "outputs": [
    {
     "name": "stdout",
     "output_type": "stream",
     "text": [
      "[3, 7, 6, 10, 8, 0, 0, 7, 5, 2, 9, 4, 3, 7, 1, 5, 0, 10, 0, 5]\n"
     ]
    }
   ],
   "source": [
    "list1 = []\n",
    "for i in range(0, 20):\n",
    "    number = rand.randint(0, 10)\n",
    "    list1.append(number)\n",
    "\n",
    "print(list1)"
   ]
  },
  {
   "cell_type": "markdown",
   "metadata": {
    "Collapsed": "false"
   },
   "source": [
    "We can easily calculate mean with help of a small for loop."
   ]
  },
  {
   "cell_type": "code",
   "execution_count": 3,
   "metadata": {
    "Collapsed": "false"
   },
   "outputs": [
    {
     "name": "stdout",
     "output_type": "stream",
     "text": [
      "Mean by hand:  4.6\n"
     ]
    }
   ],
   "source": [
    "count = 0\n",
    "for i in range(0, len(list1)):\n",
    "    count = count + list1[i]\n",
    "mean_list1 = count / len(list1)\n",
    "print('Mean by hand: ', mean_list1)"
   ]
  },
  {
   "cell_type": "markdown",
   "metadata": {
    "Collapsed": "false"
   },
   "source": [
    "Though we can also make use of numpy library."
   ]
  },
  {
   "cell_type": "code",
   "execution_count": 4,
   "metadata": {
    "Collapsed": "false"
   },
   "outputs": [
    {
     "name": "stdout",
     "output_type": "stream",
     "text": [
      "Mean with numpy:  4.6\n"
     ]
    }
   ],
   "source": [
    "print('Mean with numpy: ', np.mean(list1))"
   ]
  },
  {
   "cell_type": "markdown",
   "metadata": {
    "Collapsed": "false"
   },
   "source": [
    "Or a pandas DataFrame also has a method to calculate mean."
   ]
  },
  {
   "cell_type": "code",
   "execution_count": 5,
   "metadata": {
    "Collapsed": "false"
   },
   "outputs": [
    {
     "name": "stdout",
     "output_type": "stream",
     "text": [
      "Mean with pandas:  0    4.6\n",
      "dtype: float64\n"
     ]
    }
   ],
   "source": [
    "list1df = pd.DataFrame(list1)\n",
    "print('Mean with pandas: ', list1df.mean())"
   ]
  },
  {
   "cell_type": "markdown",
   "metadata": {
    "Collapsed": "false"
   },
   "source": [
    "### Median:\n",
    "\n",
    "By hand:"
   ]
  },
  {
   "cell_type": "code",
   "execution_count": 6,
   "metadata": {
    "Collapsed": "false"
   },
   "outputs": [
    {
     "name": "stdout",
     "output_type": "stream",
     "text": [
      "Sorted List:  [0, 0, 0, 0, 1, 2, 3, 3, 4, 5, 5, 5, 6, 7, 7, 7, 8, 9, 10, 10]\n",
      "5.0\n"
     ]
    }
   ],
   "source": [
    "sorted_list1 = sorted(list1)\n",
    "print('Sorted List: ', sorted_list1)\n",
    "\n",
    "if len(sorted_list1)%2 == 0:\n",
    "    temp = sorted_list1[int(len(sorted_list1) / 2)] + sorted_list1[int(len(sorted_list1) / 2 - 1)]\n",
    "    median = temp / 2\n",
    "else:\n",
    "    median = sorted_list1[int(len(sorted_list1) /  2 - 0.5)]\n",
    "    \n",
    "print(median)"
   ]
  },
  {
   "cell_type": "markdown",
   "metadata": {
    "Collapsed": "false"
   },
   "source": [
    "Of course, it is easier to just calculate median using a computational library."
   ]
  },
  {
   "cell_type": "code",
   "execution_count": 7,
   "metadata": {
    "Collapsed": "false"
   },
   "outputs": [
    {
     "name": "stdout",
     "output_type": "stream",
     "text": [
      "5.0\n"
     ]
    }
   ],
   "source": [
    "print(np.median(list1))"
   ]
  },
  {
   "cell_type": "markdown",
   "metadata": {
    "Collapsed": "false"
   },
   "source": [
    "Notice that we have used the first list which has numbers in a random order, as opposed to having them sorted.\n",
    "\n",
    "In pandas, we can calculate median of DataFrame."
   ]
  },
  {
   "cell_type": "code",
   "execution_count": 8,
   "metadata": {
    "Collapsed": "false"
   },
   "outputs": [
    {
     "name": "stdout",
     "output_type": "stream",
     "text": [
      "0    5.0\n",
      "dtype: float64\n"
     ]
    }
   ],
   "source": [
    "print(list1df.median())"
   ]
  },
  {
   "cell_type": "markdown",
   "metadata": {
    "Collapsed": "false"
   },
   "source": [
    "Again, we have used list1df which has numbers in a random order.\n",
    "\n",
    "# Mode"
   ]
  },
  {
   "cell_type": "code",
   "execution_count": 9,
   "metadata": {
    "Collapsed": "false"
   },
   "outputs": [
    {
     "name": "stdout",
     "output_type": "stream",
     "text": [
      "   0\n",
      "0  0\n"
     ]
    }
   ],
   "source": [
    "print(list1df.mode())\n",
    "\n",
    "mode_list1 = list1df.mode()"
   ]
  },
  {
   "cell_type": "markdown",
   "metadata": {
    "Collapsed": "false"
   },
   "source": [
    "## Visualization\n",
    "\n",
    "Let us use matplotlib library to plot our list and show our mean, mode and median on it."
   ]
  },
  {
   "cell_type": "code",
   "execution_count": 11,
   "metadata": {
    "Collapsed": "false"
   },
   "outputs": [
    {
     "data": {
      "text/plain": [
       "<function matplotlib.pyplot.show(*args, **kw)>"
      ]
     },
     "execution_count": 11,
     "metadata": {},
     "output_type": "execute_result"
    },
    {
     "data": {
      "image/png": "[encoded data removed]",
      "text/plain": [
       "<Figure size 432x288 with 1 Axes>"
      ]
     },
     "metadata": {
      "needs_background": "light"
     },
     "output_type": "display_data"
    }
   ],
   "source": [
    "import matplotlib.pyplot as plt\n",
    "\n",
    "plt.scatter(range(len(list1)), list1)\n",
    "\n",
    "plt.plot(range(len(list1)), [mean_list1] * len(list1), label = 'Mean', linestyle = '--')\n",
    "plt.plot(range(len(list1)), [median] * len(list1), label = 'Median', linestyle = '--')\n",
    "plt.plot(range(len(list1)), [mode_list1] * len(list1), label = 'Mode', linestyle = '--')\n",
    "\n",
    "plt.legend(loc='upper right')\n",
    "\n",
    "plt.show"
   ]
  },
  {
   "cell_type": "markdown",
   "metadata": {
    "Collapsed": "false"
   },
   "source": [
    "Reference:\n",
    "\n",
    "https://www.diffen.com/difference/Mean_vs_Median"
   ]
  }
 ],
 "metadata": {
  "kernelspec": {
   "display_name": "Python 3",
   "language": "python",
   "name": "python3"
  },
  "language_info": {
   "codemirror_mode": {
    "name": "ipython",
    "version": 3
   },
   "file_extension": ".py",
   "mimetype": "text/x-python",
   "name": "python",
   "nbconvert_exporter": "python",
   "pygments_lexer": "ipython3",
   "version": "3.7.4"
  }
 },
 "nbformat": 4,
 "nbformat_minor": 4
}
