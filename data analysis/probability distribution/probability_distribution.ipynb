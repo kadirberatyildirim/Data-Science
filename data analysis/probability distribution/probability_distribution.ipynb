{
 "cells": [
  {
   "cell_type": "markdown",
   "metadata": {
    "Collapsed": "false"
   },
   "source": [
    "# Probability Distributions\n",
    "\n",
    "A discrete random variable X can take on a certain set of possible outcomes and each of those outcomes has a certain probability of occuring.\n",
    "\n",
    "Notation used for any specific outcome is x, while X represents a random variable in its general form.\n",
    "\n",
    "Consider a die. Each possible outcome (1, 2, ..., 6) has an equal possibility. So if it is thrown a billion times, mean of the outcomes will be 3.5 since each outcome will occur at the same rate. However, if the die is loaded and you roll a 1 more often than anything else, the average outcome from a billion rolls will be more closer to 1 than to 3.5.\n",
    "\n",
    "# Cumulative Probability Distributions\n",
    "\n",
    "The cumulative distribution function (CDF) of a real-valued random variable X, or just distribution function of X, evaluated at x, is the probability that X will take a value less than or equal to x.\n",
    "\n",
    "Consider a coin flip experiment. If we flip a coin two times, we might ask: What is the probability that the coin flips would result in one or fewer heads? The answer would be a cumulative probability. It would be the probability that the coin flip results in zero heads plus the probability that the coin flip results in one head. Thus, the cumulative probability would equal: \n",
    "\n",
    "$ P(X < 1) = P(X = 0) + P(X = 1) = 0.25 + 0.50 = 0.75 $\n",
    "\n",
    "| Number of heads | Probability | Cumulative Probability |\n",
    "| --- | --- | --- |\n",
    "| 0 | 0.25 | 0.25 |\n",
    "| 1 | 0.50 | 0.75 |\n",
    "| 2 | 0.25 | 1.00 |\n",
    "\n",
    "Like a probability distribution, a cumulative probability distribution can be represented by a table or an equation. In the table below, the cumulative probability refers to the probability than the random variable X is less than or equal to x. \n",
    "\n",
    "# Uniform Probability Distribution\n",
    "\n",
    "The simplest probability distribution occurs when all of the values of a random variable occur with equal probability. This probability distribution is called the uniform distribution. "
   ]
  }
 ],
 "metadata": {
  "kernelspec": {
   "display_name": "Python 3",
   "language": "python",
   "name": "python3"
  },
  "language_info": {
   "codemirror_mode": {
    "name": "ipython",
    "version": 3
   },
   "file_extension": ".py",
   "mimetype": "text/x-python",
   "name": "python",
   "nbconvert_exporter": "python",
   "pygments_lexer": "ipython3",
   "version": "3.7.4"
  }
 },
 "nbformat": 4,
 "nbformat_minor": 4
}
