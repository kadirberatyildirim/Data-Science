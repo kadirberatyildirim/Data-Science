{
 "cells": [
  {
   "cell_type": "markdown",
   "metadata": {
    "Collapsed": "false"
   },
   "source": [
    "# Variance and Standard Deviation\n",
    "\n",
    "## Notation\n",
    "\n",
    "Variance of a random variable is denoted by $ \\sigma² $ or $ \\sigma_{x}² $. Notation for standard deviation is $ \\sigma $ or $ \\sigma_{x} $.\n",
    "\n",
    "## Variance\n",
    "\n",
    "The variance of a random variable is roughly interpreted as the average squared distance from the mean for all the outcomes you would get in a long term, over all possible samples.\n",
    "\n",
    "The variance is the average of the squared differences from the mean. To figure out the variance, first calculate the difference between each point and the mean; then, square and average the results.\n",
    "\n",
    "Variance has a scale larger than the values in the given data set; not expressed in the same unit as the values themselves.\n",
    "\n",
    "Variance is expressed as a mathematical dispersion. Since it’s an arbitrary number relative to the original measurements of the data set, it is difficult to visualize and apply in a real-world sense. Finding the variance is usually just the final step before finding the standard deviation. Variance values are sometimes used in finance and statistical formulas. \n",
    "\n",
    "## Standard Deviation\n",
    "\n",
    "In statistics, the standard deviation is a measure of the amount of variation or dispersion of a set of values. A low standard deviation indicates that the values tend to be close to the mean (also called the expected value) of the set, while a high standard deviation indicates that the values are spread out over a wider range. \n",
    "\n",
    "The standard deviation of a random variable, statistical population, data set, or probability distribution is the square root of its variance.\n",
    "\n",
    "Standard deviation has a scale as values in the given data set; therefore, expressed in the same units.\n",
    "\n",
    "Standard deviation, which is expressed in the original units of the data set, is much more intuitive and closer to the values of the original data set. It is most often used to analyze demographics or population samples to gain a sense of what is **normal in the population**. "
   ]
  },
  {
   "cell_type": "markdown",
   "metadata": {
    "Collapsed": "false"
   },
   "source": [
    "## Example\n",
    "\n",
    "Assume we have some dandelions of 3, 4, 5, 4, 11 and 6 inches. If we calculate the standard deviation of this set with python:"
   ]
  },
  {
   "cell_type": "code",
   "execution_count": 2,
   "metadata": {
    "Collapsed": "false"
   },
   "outputs": [
    {
     "name": "stdout",
     "output_type": "stream",
     "text": [
      "Mean:  0    5.5\n",
      "dtype: float64\n",
      "Standard Deviation:  0    2.880972\n",
      "dtype: float64\n"
     ]
    }
   ],
   "source": [
    "import pandas as pd\n",
    "\n",
    "dataset = pd.DataFrame([3, 4, 5, 4, 11, 6])\n",
    "print('Mean: ', dataset.mean())\n",
    "print('Standard Deviation: ', dataset.std())"
   ]
  },
  {
   "cell_type": "markdown",
   "metadata": {
    "Collapsed": "false"
   },
   "source": [
    "The standard deviation is about 2.88 inches. That means that for the sample, any dandelion within 2.69 inches of the mean (5.5 inches) is ‘normal’. "
   ]
  },
  {
   "cell_type": "markdown",
   "metadata": {
    "Collapsed": "false"
   },
   "source": [
    "## Outliers\n",
    "\n",
    "![title](Bell-curve.png)\n",
    "\n",
    "In a normal distribution, about 68% of the population (or values) falls within 1 standard deviation (1σ) of the mean and about 94% fall within 2σ. Values that differ from the mean by 1.7σ or more are usually considered outliers. "
   ]
  }
 ],
 "metadata": {
  "kernelspec": {
   "display_name": "Python 3",
   "language": "python",
   "name": "python3"
  },
  "language_info": {
   "codemirror_mode": {
    "name": "ipython",
    "version": 3
   },
   "file_extension": ".py",
   "mimetype": "text/x-python",
   "name": "python",
   "nbconvert_exporter": "python",
   "pygments_lexer": "ipython3",
   "version": "3.7.4"
  }
 },
 "nbformat": 4,
 "nbformat_minor": 4
}
