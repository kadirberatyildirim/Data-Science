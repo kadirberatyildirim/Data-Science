{
 "cells": [
  {
   "cell_type": "code",
   "execution_count": 2,
   "metadata": {},
   "outputs": [
    {
     "name": "stdout",
     "output_type": "stream",
     "text": [
      "   Country Age Salary Purchased\n",
      "1   France  44  72000        No\n",
      "2    Spain  27  48000       Yes\n",
      "3  Germany  30  54000        No\n",
      "4    Spain  38  61000        No\n",
      "5  Germany  40     NA       Yes\n",
      "6   France  35  58000       Yes\n",
      "7    Spain  NA  52000        No\n",
      "8   France  48  79000       Yes\n",
      "9  Germany  50  83000        No\n",
      "10  France  37  67000       Yes\n"
     ]
    }
   ],
   "source": [
    "# Importing the dataset\n",
    "dataset = read.csv('Data.csv')\n",
    "\n",
    "print(dataset)"
   ]
  },
  {
   "cell_type": "code",
   "execution_count": 3,
   "metadata": {},
   "outputs": [
    {
     "name": "stdout",
     "output_type": "stream",
     "text": [
      "   Country      Age   Salary Purchased\n",
      "1   France 44.00000 72000.00        No\n",
      "2    Spain 27.00000 48000.00       Yes\n",
      "3  Germany 30.00000 54000.00        No\n",
      "4    Spain 38.00000 61000.00        No\n",
      "5  Germany 40.00000 63777.78       Yes\n",
      "6   France 35.00000 58000.00       Yes\n",
      "7    Spain 38.77778 52000.00        No\n",
      "8   France 48.00000 79000.00       Yes\n",
      "9  Germany 50.00000 83000.00        No\n",
      "10  France 37.00000 67000.00       Yes\n"
     ]
    }
   ],
   "source": [
    "# Taking care of missing data\n",
    "dataset$Age = ifelse(is.na(dataset$Age),\n",
    "                     ave(dataset$Age, FUN = function(x) mean(x, na.rm = TRUE)),\n",
    "                     dataset$Age)\n",
    "dataset$Salary = ifelse(is.na(dataset$Salary),\n",
    "                        ave(dataset$Salary, FUN = function(x) mean(x, na.rm = TRUE)),\n",
    "                        dataset$Salary)\n",
    "print(dataset)"
   ]
  },
  {
   "cell_type": "code",
   "execution_count": 4,
   "metadata": {},
   "outputs": [
    {
     "name": "stdout",
     "output_type": "stream",
     "text": [
      "   Country      Age   Salary Purchased\n",
      "1        1 44.00000 72000.00         0\n",
      "2        2 27.00000 48000.00         1\n",
      "3        3 30.00000 54000.00         0\n",
      "4        2 38.00000 61000.00         0\n",
      "5        3 40.00000 63777.78         1\n",
      "6        1 35.00000 58000.00         1\n",
      "7        2 38.77778 52000.00         0\n",
      "8        1 48.00000 79000.00         1\n",
      "9        3 50.00000 83000.00         0\n",
      "10       1 37.00000 67000.00         1\n"
     ]
    }
   ],
   "source": [
    "# Encoding categorical data\n",
    "dataset$Country = factor(dataset$Country,\n",
    "                         levels = c('France', 'Spain', 'Germany'),\n",
    "                         labels = c(1, 2, 3))\n",
    "dataset$Purchased = factor(dataset$Purchased,\n",
    "                           levels = c('No', 'Yes'),\n",
    "                           labels = c(0, 1))\n",
    "print(dataset)"
   ]
  }
 ],
 "metadata": {
  "kernelspec": {
   "display_name": "R",
   "language": "R",
   "name": "ir"
  },
  "language_info": {
   "codemirror_mode": "r",
   "file_extension": ".r",
   "mimetype": "text/x-r-source",
   "name": "R",
   "pygments_lexer": "r",
   "version": "3.6.1"
  }
 },
 "nbformat": 4,
 "nbformat_minor": 4
}
