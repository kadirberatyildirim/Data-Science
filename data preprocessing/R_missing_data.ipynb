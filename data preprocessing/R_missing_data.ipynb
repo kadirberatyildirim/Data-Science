{
 "cells": [
  {
   "cell_type": "code",
   "execution_count": 3,
   "metadata": {},
   "outputs": [],
   "source": [
    "# Data Preprocessing\n",
    "\n",
    "# Importing the dataset\n",
    "dataset = read.csv('Data.csv')\n"
   ]
  },
  {
   "cell_type": "code",
   "execution_count": 4,
   "metadata": {},
   "outputs": [
    {
     "name": "stdout",
     "output_type": "stream",
     "text": [
      "   Country Age Salary Purchased\n",
      "1   France  44  72000        No\n",
      "2    Spain  27  48000       Yes\n",
      "3  Germany  30  54000        No\n",
      "4    Spain  38  61000        No\n",
      "5  Germany  40     NA       Yes\n",
      "6   France  35  58000       Yes\n",
      "7    Spain  NA  52000        No\n",
      "8   France  48  79000       Yes\n",
      "9  Germany  50  83000        No\n",
      "10  France  37  67000       Yes\n"
     ]
    }
   ],
   "source": [
    "print(dataset)"
   ]
  },
  {
   "cell_type": "code",
   "execution_count": 5,
   "metadata": {},
   "outputs": [
    {
     "name": "stdout",
     "output_type": "stream",
     "text": [
      "   Country      Age   Salary Purchased\n",
      "1   France 44.00000 72000.00        No\n",
      "2    Spain 27.00000 48000.00       Yes\n",
      "3  Germany 30.00000 54000.00        No\n",
      "4    Spain 38.00000 61000.00        No\n",
      "5  Germany 40.00000 63777.78       Yes\n",
      "6   France 35.00000 58000.00       Yes\n",
      "7    Spain 38.77778 52000.00        No\n",
      "8   France 48.00000 79000.00       Yes\n",
      "9  Germany 50.00000 83000.00        No\n",
      "10  France 37.00000 67000.00       Yes\n"
     ]
    }
   ],
   "source": [
    "# Taking care of missing data\n",
    "dataset$Age = ifelse(is.na(dataset$Age),\n",
    "                     ave(dataset$Age, FUN = function(x) mean(x, na.rm = TRUE)),\n",
    "                     dataset$Age)\n",
    "dataset$Salary = ifelse(is.na(dataset$Salary),\n",
    "                        ave(dataset$Salary, FUN = function(x) mean(x, na.rm = TRUE)),\n",
    "                        dataset$Salary)\n",
    "print(dataset)"
   ]
  }
 ],
 "metadata": {
  "kernelspec": {
   "display_name": "R",
   "language": "R",
   "name": "ir"
  },
  "language_info": {
   "codemirror_mode": "r",
   "file_extension": ".r",
   "mimetype": "text/x-r-source",
   "name": "R",
   "pygments_lexer": "r",
   "version": "3.6.1"
  }
 },
 "nbformat": 4,
 "nbformat_minor": 4
}
