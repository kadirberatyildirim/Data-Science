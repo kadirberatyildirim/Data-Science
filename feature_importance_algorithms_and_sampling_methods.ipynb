{
 "cells": [
  {
   "cell_type": "markdown",
   "id": "38b80567",
   "metadata": {},
   "source": [
    "# Kadir Berat YILDIRIM\n",
    "\n",
    "## Deep Learning in Medical Imaging Homework 2"
   ]
  },
  {
   "cell_type": "code",
   "execution_count": 1,
   "id": "385e3b99",
   "metadata": {},
   "outputs": [],
   "source": [
    "import numpy as np\n",
    "import pandas as pd\n",
    "import matplotlib.pyplot as plt\n",
    "import seaborn as sns\n",
    "\n",
    "import warnings\n",
    "warnings.filterwarnings('ignore')"
   ]
  },
  {
   "cell_type": "markdown",
   "id": "4e75a625",
   "metadata": {},
   "source": [
    "# From Hw1"
   ]
  },
  {
   "cell_type": "code",
   "execution_count": 2,
   "id": "1edb06f4",
   "metadata": {},
   "outputs": [
    {
     "data": {
      "text/html": [
       "<div>\n",
       "<style scoped>\n",
       "    .dataframe tbody tr th:only-of-type {\n",
       "        vertical-align: middle;\n",
       "    }\n",
       "\n",
       "    .dataframe tbody tr th {\n",
       "        vertical-align: top;\n",
       "    }\n",
       "\n",
       "    .dataframe thead th {\n",
       "        text-align: right;\n",
       "    }\n",
       "</style>\n",
       "<table border=\"1\" class=\"dataframe\">\n",
       "  <thead>\n",
       "    <tr style=\"text-align: right;\">\n",
       "      <th></th>\n",
       "      <th>id</th>\n",
       "      <th>diagnosis</th>\n",
       "      <th>radius_mean</th>\n",
       "      <th>texture_mean</th>\n",
       "      <th>perimeter_mean</th>\n",
       "      <th>area_mean</th>\n",
       "      <th>smoothness_mean</th>\n",
       "      <th>compactness_mean</th>\n",
       "      <th>concavity_mean</th>\n",
       "      <th>concave points_mean</th>\n",
       "      <th>...</th>\n",
       "      <th>texture_worst</th>\n",
       "      <th>perimeter_worst</th>\n",
       "      <th>area_worst</th>\n",
       "      <th>smoothness_worst</th>\n",
       "      <th>compactness_worst</th>\n",
       "      <th>concavity_worst</th>\n",
       "      <th>concave points_worst</th>\n",
       "      <th>symmetry_worst</th>\n",
       "      <th>fractal_dimension_worst</th>\n",
       "      <th>Unnamed: 32</th>\n",
       "    </tr>\n",
       "  </thead>\n",
       "  <tbody>\n",
       "    <tr>\n",
       "      <th>0</th>\n",
       "      <td>842302</td>\n",
       "      <td>M</td>\n",
       "      <td>17.99</td>\n",
       "      <td>10.38</td>\n",
       "      <td>122.80</td>\n",
       "      <td>1001.0</td>\n",
       "      <td>0.11840</td>\n",
       "      <td>0.27760</td>\n",
       "      <td>0.3001</td>\n",
       "      <td>0.14710</td>\n",
       "      <td>...</td>\n",
       "      <td>17.33</td>\n",
       "      <td>184.60</td>\n",
       "      <td>2019.0</td>\n",
       "      <td>0.1622</td>\n",
       "      <td>0.6656</td>\n",
       "      <td>0.7119</td>\n",
       "      <td>0.2654</td>\n",
       "      <td>0.4601</td>\n",
       "      <td>0.11890</td>\n",
       "      <td>NaN</td>\n",
       "    </tr>\n",
       "    <tr>\n",
       "      <th>1</th>\n",
       "      <td>842517</td>\n",
       "      <td>M</td>\n",
       "      <td>20.57</td>\n",
       "      <td>17.77</td>\n",
       "      <td>132.90</td>\n",
       "      <td>1326.0</td>\n",
       "      <td>0.08474</td>\n",
       "      <td>0.07864</td>\n",
       "      <td>0.0869</td>\n",
       "      <td>0.07017</td>\n",
       "      <td>...</td>\n",
       "      <td>23.41</td>\n",
       "      <td>158.80</td>\n",
       "      <td>1956.0</td>\n",
       "      <td>0.1238</td>\n",
       "      <td>0.1866</td>\n",
       "      <td>0.2416</td>\n",
       "      <td>0.1860</td>\n",
       "      <td>0.2750</td>\n",
       "      <td>0.08902</td>\n",
       "      <td>NaN</td>\n",
       "    </tr>\n",
       "    <tr>\n",
       "      <th>2</th>\n",
       "      <td>84300903</td>\n",
       "      <td>M</td>\n",
       "      <td>19.69</td>\n",
       "      <td>21.25</td>\n",
       "      <td>130.00</td>\n",
       "      <td>1203.0</td>\n",
       "      <td>0.10960</td>\n",
       "      <td>0.15990</td>\n",
       "      <td>0.1974</td>\n",
       "      <td>0.12790</td>\n",
       "      <td>...</td>\n",
       "      <td>25.53</td>\n",
       "      <td>152.50</td>\n",
       "      <td>1709.0</td>\n",
       "      <td>0.1444</td>\n",
       "      <td>0.4245</td>\n",
       "      <td>0.4504</td>\n",
       "      <td>0.2430</td>\n",
       "      <td>0.3613</td>\n",
       "      <td>0.08758</td>\n",
       "      <td>NaN</td>\n",
       "    </tr>\n",
       "    <tr>\n",
       "      <th>3</th>\n",
       "      <td>84348301</td>\n",
       "      <td>M</td>\n",
       "      <td>11.42</td>\n",
       "      <td>20.38</td>\n",
       "      <td>77.58</td>\n",
       "      <td>386.1</td>\n",
       "      <td>0.14250</td>\n",
       "      <td>0.28390</td>\n",
       "      <td>0.2414</td>\n",
       "      <td>0.10520</td>\n",
       "      <td>...</td>\n",
       "      <td>26.50</td>\n",
       "      <td>98.87</td>\n",
       "      <td>567.7</td>\n",
       "      <td>0.2098</td>\n",
       "      <td>0.8663</td>\n",
       "      <td>0.6869</td>\n",
       "      <td>0.2575</td>\n",
       "      <td>0.6638</td>\n",
       "      <td>0.17300</td>\n",
       "      <td>NaN</td>\n",
       "    </tr>\n",
       "    <tr>\n",
       "      <th>4</th>\n",
       "      <td>84358402</td>\n",
       "      <td>M</td>\n",
       "      <td>20.29</td>\n",
       "      <td>14.34</td>\n",
       "      <td>135.10</td>\n",
       "      <td>1297.0</td>\n",
       "      <td>0.10030</td>\n",
       "      <td>0.13280</td>\n",
       "      <td>0.1980</td>\n",
       "      <td>0.10430</td>\n",
       "      <td>...</td>\n",
       "      <td>16.67</td>\n",
       "      <td>152.20</td>\n",
       "      <td>1575.0</td>\n",
       "      <td>0.1374</td>\n",
       "      <td>0.2050</td>\n",
       "      <td>0.4000</td>\n",
       "      <td>0.1625</td>\n",
       "      <td>0.2364</td>\n",
       "      <td>0.07678</td>\n",
       "      <td>NaN</td>\n",
       "    </tr>\n",
       "  </tbody>\n",
       "</table>\n",
       "<p>5 rows × 33 columns</p>\n",
       "</div>"
      ],
      "text/plain": [
       "         id diagnosis  radius_mean  texture_mean  perimeter_mean  area_mean  \\\n",
       "0    842302         M        17.99         10.38          122.80     1001.0   \n",
       "1    842517         M        20.57         17.77          132.90     1326.0   \n",
       "2  84300903         M        19.69         21.25          130.00     1203.0   \n",
       "3  84348301         M        11.42         20.38           77.58      386.1   \n",
       "4  84358402         M        20.29         14.34          135.10     1297.0   \n",
       "\n",
       "   smoothness_mean  compactness_mean  concavity_mean  concave points_mean  \\\n",
       "0          0.11840           0.27760          0.3001              0.14710   \n",
       "1          0.08474           0.07864          0.0869              0.07017   \n",
       "2          0.10960           0.15990          0.1974              0.12790   \n",
       "3          0.14250           0.28390          0.2414              0.10520   \n",
       "4          0.10030           0.13280          0.1980              0.10430   \n",
       "\n",
       "   ...  texture_worst  perimeter_worst  area_worst  smoothness_worst  \\\n",
       "0  ...          17.33           184.60      2019.0            0.1622   \n",
       "1  ...          23.41           158.80      1956.0            0.1238   \n",
       "2  ...          25.53           152.50      1709.0            0.1444   \n",
       "3  ...          26.50            98.87       567.7            0.2098   \n",
       "4  ...          16.67           152.20      1575.0            0.1374   \n",
       "\n",
       "   compactness_worst  concavity_worst  concave points_worst  symmetry_worst  \\\n",
       "0             0.6656           0.7119                0.2654          0.4601   \n",
       "1             0.1866           0.2416                0.1860          0.2750   \n",
       "2             0.4245           0.4504                0.2430          0.3613   \n",
       "3             0.8663           0.6869                0.2575          0.6638   \n",
       "4             0.2050           0.4000                0.1625          0.2364   \n",
       "\n",
       "   fractal_dimension_worst  Unnamed: 32  \n",
       "0                  0.11890          NaN  \n",
       "1                  0.08902          NaN  \n",
       "2                  0.08758          NaN  \n",
       "3                  0.17300          NaN  \n",
       "4                  0.07678          NaN  \n",
       "\n",
       "[5 rows x 33 columns]"
      ]
     },
     "execution_count": 2,
     "metadata": {},
     "output_type": "execute_result"
    }
   ],
   "source": [
    "df = pd.read_csv('data.csv')\n",
    "df.head()"
   ]
  },
  {
   "cell_type": "code",
   "execution_count": 3,
   "id": "1e2903f9",
   "metadata": {},
   "outputs": [],
   "source": [
    "df.drop('Unnamed: 32', axis = 1, inplace = True) # Get rid of faulty column"
   ]
  },
  {
   "cell_type": "code",
   "execution_count": 4,
   "id": "6f0f385d",
   "metadata": {},
   "outputs": [
    {
     "data": {
      "text/html": [
       "<div>\n",
       "<style scoped>\n",
       "    .dataframe tbody tr th:only-of-type {\n",
       "        vertical-align: middle;\n",
       "    }\n",
       "\n",
       "    .dataframe tbody tr th {\n",
       "        vertical-align: top;\n",
       "    }\n",
       "\n",
       "    .dataframe thead th {\n",
       "        text-align: right;\n",
       "    }\n",
       "</style>\n",
       "<table border=\"1\" class=\"dataframe\">\n",
       "  <thead>\n",
       "    <tr style=\"text-align: right;\">\n",
       "      <th></th>\n",
       "      <th>id</th>\n",
       "      <th>radius_mean</th>\n",
       "      <th>texture_mean</th>\n",
       "      <th>perimeter_mean</th>\n",
       "      <th>area_mean</th>\n",
       "      <th>smoothness_mean</th>\n",
       "      <th>compactness_mean</th>\n",
       "      <th>concavity_mean</th>\n",
       "      <th>concave points_mean</th>\n",
       "      <th>symmetry_mean</th>\n",
       "      <th>...</th>\n",
       "      <th>radius_worst</th>\n",
       "      <th>texture_worst</th>\n",
       "      <th>perimeter_worst</th>\n",
       "      <th>area_worst</th>\n",
       "      <th>smoothness_worst</th>\n",
       "      <th>compactness_worst</th>\n",
       "      <th>concavity_worst</th>\n",
       "      <th>concave points_worst</th>\n",
       "      <th>symmetry_worst</th>\n",
       "      <th>fractal_dimension_worst</th>\n",
       "    </tr>\n",
       "  </thead>\n",
       "  <tbody>\n",
       "    <tr>\n",
       "      <th>count</th>\n",
       "      <td>5.690000e+02</td>\n",
       "      <td>569.000000</td>\n",
       "      <td>569.000000</td>\n",
       "      <td>569.000000</td>\n",
       "      <td>569.000000</td>\n",
       "      <td>569.000000</td>\n",
       "      <td>569.000000</td>\n",
       "      <td>569.000000</td>\n",
       "      <td>569.000000</td>\n",
       "      <td>569.000000</td>\n",
       "      <td>...</td>\n",
       "      <td>569.000000</td>\n",
       "      <td>569.000000</td>\n",
       "      <td>569.000000</td>\n",
       "      <td>569.000000</td>\n",
       "      <td>569.000000</td>\n",
       "      <td>569.000000</td>\n",
       "      <td>569.000000</td>\n",
       "      <td>569.000000</td>\n",
       "      <td>569.000000</td>\n",
       "      <td>569.000000</td>\n",
       "    </tr>\n",
       "    <tr>\n",
       "      <th>mean</th>\n",
       "      <td>3.037183e+07</td>\n",
       "      <td>14.127292</td>\n",
       "      <td>19.289649</td>\n",
       "      <td>91.969033</td>\n",
       "      <td>654.889104</td>\n",
       "      <td>0.096360</td>\n",
       "      <td>0.104341</td>\n",
       "      <td>0.088799</td>\n",
       "      <td>0.048919</td>\n",
       "      <td>0.181162</td>\n",
       "      <td>...</td>\n",
       "      <td>16.269190</td>\n",
       "      <td>25.677223</td>\n",
       "      <td>107.261213</td>\n",
       "      <td>880.583128</td>\n",
       "      <td>0.132369</td>\n",
       "      <td>0.254265</td>\n",
       "      <td>0.272188</td>\n",
       "      <td>0.114606</td>\n",
       "      <td>0.290076</td>\n",
       "      <td>0.083946</td>\n",
       "    </tr>\n",
       "    <tr>\n",
       "      <th>std</th>\n",
       "      <td>1.250206e+08</td>\n",
       "      <td>3.524049</td>\n",
       "      <td>4.301036</td>\n",
       "      <td>24.298981</td>\n",
       "      <td>351.914129</td>\n",
       "      <td>0.014064</td>\n",
       "      <td>0.052813</td>\n",
       "      <td>0.079720</td>\n",
       "      <td>0.038803</td>\n",
       "      <td>0.027414</td>\n",
       "      <td>...</td>\n",
       "      <td>4.833242</td>\n",
       "      <td>6.146258</td>\n",
       "      <td>33.602542</td>\n",
       "      <td>569.356993</td>\n",
       "      <td>0.022832</td>\n",
       "      <td>0.157336</td>\n",
       "      <td>0.208624</td>\n",
       "      <td>0.065732</td>\n",
       "      <td>0.061867</td>\n",
       "      <td>0.018061</td>\n",
       "    </tr>\n",
       "    <tr>\n",
       "      <th>min</th>\n",
       "      <td>8.670000e+03</td>\n",
       "      <td>6.981000</td>\n",
       "      <td>9.710000</td>\n",
       "      <td>43.790000</td>\n",
       "      <td>143.500000</td>\n",
       "      <td>0.052630</td>\n",
       "      <td>0.019380</td>\n",
       "      <td>0.000000</td>\n",
       "      <td>0.000000</td>\n",
       "      <td>0.106000</td>\n",
       "      <td>...</td>\n",
       "      <td>7.930000</td>\n",
       "      <td>12.020000</td>\n",
       "      <td>50.410000</td>\n",
       "      <td>185.200000</td>\n",
       "      <td>0.071170</td>\n",
       "      <td>0.027290</td>\n",
       "      <td>0.000000</td>\n",
       "      <td>0.000000</td>\n",
       "      <td>0.156500</td>\n",
       "      <td>0.055040</td>\n",
       "    </tr>\n",
       "    <tr>\n",
       "      <th>25%</th>\n",
       "      <td>8.692180e+05</td>\n",
       "      <td>11.700000</td>\n",
       "      <td>16.170000</td>\n",
       "      <td>75.170000</td>\n",
       "      <td>420.300000</td>\n",
       "      <td>0.086370</td>\n",
       "      <td>0.064920</td>\n",
       "      <td>0.029560</td>\n",
       "      <td>0.020310</td>\n",
       "      <td>0.161900</td>\n",
       "      <td>...</td>\n",
       "      <td>13.010000</td>\n",
       "      <td>21.080000</td>\n",
       "      <td>84.110000</td>\n",
       "      <td>515.300000</td>\n",
       "      <td>0.116600</td>\n",
       "      <td>0.147200</td>\n",
       "      <td>0.114500</td>\n",
       "      <td>0.064930</td>\n",
       "      <td>0.250400</td>\n",
       "      <td>0.071460</td>\n",
       "    </tr>\n",
       "    <tr>\n",
       "      <th>50%</th>\n",
       "      <td>9.060240e+05</td>\n",
       "      <td>13.370000</td>\n",
       "      <td>18.840000</td>\n",
       "      <td>86.240000</td>\n",
       "      <td>551.100000</td>\n",
       "      <td>0.095870</td>\n",
       "      <td>0.092630</td>\n",
       "      <td>0.061540</td>\n",
       "      <td>0.033500</td>\n",
       "      <td>0.179200</td>\n",
       "      <td>...</td>\n",
       "      <td>14.970000</td>\n",
       "      <td>25.410000</td>\n",
       "      <td>97.660000</td>\n",
       "      <td>686.500000</td>\n",
       "      <td>0.131300</td>\n",
       "      <td>0.211900</td>\n",
       "      <td>0.226700</td>\n",
       "      <td>0.099930</td>\n",
       "      <td>0.282200</td>\n",
       "      <td>0.080040</td>\n",
       "    </tr>\n",
       "    <tr>\n",
       "      <th>75%</th>\n",
       "      <td>8.813129e+06</td>\n",
       "      <td>15.780000</td>\n",
       "      <td>21.800000</td>\n",
       "      <td>104.100000</td>\n",
       "      <td>782.700000</td>\n",
       "      <td>0.105300</td>\n",
       "      <td>0.130400</td>\n",
       "      <td>0.130700</td>\n",
       "      <td>0.074000</td>\n",
       "      <td>0.195700</td>\n",
       "      <td>...</td>\n",
       "      <td>18.790000</td>\n",
       "      <td>29.720000</td>\n",
       "      <td>125.400000</td>\n",
       "      <td>1084.000000</td>\n",
       "      <td>0.146000</td>\n",
       "      <td>0.339100</td>\n",
       "      <td>0.382900</td>\n",
       "      <td>0.161400</td>\n",
       "      <td>0.317900</td>\n",
       "      <td>0.092080</td>\n",
       "    </tr>\n",
       "    <tr>\n",
       "      <th>max</th>\n",
       "      <td>9.113205e+08</td>\n",
       "      <td>28.110000</td>\n",
       "      <td>39.280000</td>\n",
       "      <td>188.500000</td>\n",
       "      <td>2501.000000</td>\n",
       "      <td>0.163400</td>\n",
       "      <td>0.345400</td>\n",
       "      <td>0.426800</td>\n",
       "      <td>0.201200</td>\n",
       "      <td>0.304000</td>\n",
       "      <td>...</td>\n",
       "      <td>36.040000</td>\n",
       "      <td>49.540000</td>\n",
       "      <td>251.200000</td>\n",
       "      <td>4254.000000</td>\n",
       "      <td>0.222600</td>\n",
       "      <td>1.058000</td>\n",
       "      <td>1.252000</td>\n",
       "      <td>0.291000</td>\n",
       "      <td>0.663800</td>\n",
       "      <td>0.207500</td>\n",
       "    </tr>\n",
       "  </tbody>\n",
       "</table>\n",
       "<p>8 rows × 31 columns</p>\n",
       "</div>"
      ],
      "text/plain": [
       "                 id  radius_mean  texture_mean  perimeter_mean    area_mean  \\\n",
       "count  5.690000e+02   569.000000    569.000000      569.000000   569.000000   \n",
       "mean   3.037183e+07    14.127292     19.289649       91.969033   654.889104   \n",
       "std    1.250206e+08     3.524049      4.301036       24.298981   351.914129   \n",
       "min    8.670000e+03     6.981000      9.710000       43.790000   143.500000   \n",
       "25%    8.692180e+05    11.700000     16.170000       75.170000   420.300000   \n",
       "50%    9.060240e+05    13.370000     18.840000       86.240000   551.100000   \n",
       "75%    8.813129e+06    15.780000     21.800000      104.100000   782.700000   \n",
       "max    9.113205e+08    28.110000     39.280000      188.500000  2501.000000   \n",
       "\n",
       "       smoothness_mean  compactness_mean  concavity_mean  concave points_mean  \\\n",
       "count       569.000000        569.000000      569.000000           569.000000   \n",
       "mean          0.096360          0.104341        0.088799             0.048919   \n",
       "std           0.014064          0.052813        0.079720             0.038803   \n",
       "min           0.052630          0.019380        0.000000             0.000000   \n",
       "25%           0.086370          0.064920        0.029560             0.020310   \n",
       "50%           0.095870          0.092630        0.061540             0.033500   \n",
       "75%           0.105300          0.130400        0.130700             0.074000   \n",
       "max           0.163400          0.345400        0.426800             0.201200   \n",
       "\n",
       "       symmetry_mean  ...  radius_worst  texture_worst  perimeter_worst  \\\n",
       "count     569.000000  ...    569.000000     569.000000       569.000000   \n",
       "mean        0.181162  ...     16.269190      25.677223       107.261213   \n",
       "std         0.027414  ...      4.833242       6.146258        33.602542   \n",
       "min         0.106000  ...      7.930000      12.020000        50.410000   \n",
       "25%         0.161900  ...     13.010000      21.080000        84.110000   \n",
       "50%         0.179200  ...     14.970000      25.410000        97.660000   \n",
       "75%         0.195700  ...     18.790000      29.720000       125.400000   \n",
       "max         0.304000  ...     36.040000      49.540000       251.200000   \n",
       "\n",
       "        area_worst  smoothness_worst  compactness_worst  concavity_worst  \\\n",
       "count   569.000000        569.000000         569.000000       569.000000   \n",
       "mean    880.583128          0.132369           0.254265         0.272188   \n",
       "std     569.356993          0.022832           0.157336         0.208624   \n",
       "min     185.200000          0.071170           0.027290         0.000000   \n",
       "25%     515.300000          0.116600           0.147200         0.114500   \n",
       "50%     686.500000          0.131300           0.211900         0.226700   \n",
       "75%    1084.000000          0.146000           0.339100         0.382900   \n",
       "max    4254.000000          0.222600           1.058000         1.252000   \n",
       "\n",
       "       concave points_worst  symmetry_worst  fractal_dimension_worst  \n",
       "count            569.000000      569.000000               569.000000  \n",
       "mean               0.114606        0.290076                 0.083946  \n",
       "std                0.065732        0.061867                 0.018061  \n",
       "min                0.000000        0.156500                 0.055040  \n",
       "25%                0.064930        0.250400                 0.071460  \n",
       "50%                0.099930        0.282200                 0.080040  \n",
       "75%                0.161400        0.317900                 0.092080  \n",
       "max                0.291000        0.663800                 0.207500  \n",
       "\n",
       "[8 rows x 31 columns]"
      ]
     },
     "execution_count": 4,
     "metadata": {},
     "output_type": "execute_result"
    }
   ],
   "source": [
    "df.describe()"
   ]
  },
  {
   "cell_type": "code",
   "execution_count": 5,
   "id": "61c20f32",
   "metadata": {},
   "outputs": [],
   "source": [
    "y = df.diagnosis.to_numpy()\n",
    "X = df.iloc[:, 2:].to_numpy()"
   ]
  },
  {
   "cell_type": "code",
   "execution_count": 6,
   "id": "a44cdd76",
   "metadata": {},
   "outputs": [],
   "source": [
    "from sklearn.preprocessing import MinMaxScaler\n",
    "\n",
    "scaler = MinMaxScaler()"
   ]
  },
  {
   "cell_type": "code",
   "execution_count": 7,
   "id": "0689ffed",
   "metadata": {},
   "outputs": [],
   "source": [
    "from sklearn.preprocessing import MinMaxScaler\n",
    "\n",
    "def scale(X_train, X_test, verbose = False):\n",
    "    scaler = MinMaxScaler()\n",
    "    X_train_scaled = scaler.fit_transform(X_train)\n",
    "    X_test_scaled = scaler.transform(X_test)\n",
    "    if verbose:\n",
    "        print('X Train max value: ', X_train_scaled.max(), '\\nX Test max value: ', X_test_scaled.max())\n",
    "        print('X Train min value: ', X_train_scaled.min(), '\\nX Test min value: ', X_test_scaled.min())\n",
    "    return X_train_scaled, X_test_scaled"
   ]
  },
  {
   "cell_type": "code",
   "execution_count": 8,
   "id": "1b098859",
   "metadata": {},
   "outputs": [],
   "source": [
    "from sklearn.preprocessing import OneHotEncoder\n",
    "\n",
    "def onehot(y_train, y_test):\n",
    "    ohe = OneHotEncoder()\n",
    "    train = ohe.fit_transform(y_train.reshape(-1, 1)).toarray()\n",
    "    test = ohe.transform(y_test.reshape(-1, 1)).toarray()\n",
    "    return train, test, ohe"
   ]
  },
  {
   "cell_type": "code",
   "execution_count": 9,
   "id": "17fad4fa",
   "metadata": {},
   "outputs": [],
   "source": [
    "from sklearn.metrics import accuracy_score, precision_score, recall_score, f1_score, roc_auc_score\n",
    "\n",
    "def metrics(preds, y_test, ohe, verbose = False):\n",
    "    # Only roc auc uses onehot encoded form, for other metrics, use string form\n",
    "    # So I inverse transform here, since I will give onehot encoded form here\n",
    "    inv_preds = ohe.inverse_transform(preds)\n",
    "    inv_y_test = ohe.inverse_transform(y_test)\n",
    "    \n",
    "    acc = accuracy_score(inv_preds, inv_y_test)\n",
    "    precision = precision_score(inv_preds, inv_y_test, pos_label = 'B')\n",
    "    recall = recall_score(inv_preds, inv_y_test, pos_label = 'B')\n",
    "    f1 = f1_score(inv_preds, inv_y_test, pos_label = 'B')\n",
    "    \n",
    "    ras = roc_auc_score(y_test, preds)\n",
    "    \n",
    "    if verbose:\n",
    "        print('Accuracy: ', acc, \\\n",
    "             '\\nPrecision: ', precision, \\\n",
    "             '\\nRecall: ', recall, \\\n",
    "             '\\nF1 Score: ', f1, \\\n",
    "             '\\nRoc Auc Score: ', ras)\n",
    "    return [acc, precision, recall, f1, ras]"
   ]
  },
  {
   "cell_type": "code",
   "execution_count": 36,
   "id": "aaa3efcd",
   "metadata": {},
   "outputs": [],
   "source": [
    "from sklearn.svm import SVC\n",
    "from sklearn.model_selection import RepeatedStratifiedKFold\n",
    "\n",
    "def classify(X, y, verbose = False):\n",
    "    kf = RepeatedStratifiedKFold(n_splits = 100)\n",
    "    kf.get_n_splits(X, y)\n",
    "\n",
    "    scores = []\n",
    "    for i, (train_index, test_index) in enumerate(kf.split(X, y)):\n",
    "        # Preprocess\n",
    "        X_train_scaled, X_test_scaled = scale(X[train_index], X[test_index])\n",
    "        y_train, y_test, ohe = onehot(y[train_index], y[test_index])\n",
    "\n",
    "        clf = SVC()\n",
    "        clf.fit(X_train_scaled, y[train_index])\n",
    "        preds = clf.predict(X_test_scaled)\n",
    "        scores.append(metrics(ohe.transform(preds.reshape(-1, 1)).toarray(), y_test, ohe))\n",
    "    \n",
    "    if verbose:\n",
    "        to_print = zip(['Accuracy: ', 'Precision: ', 'Recall: ', 'F1 Score: ', 'Roc Auc: '], \\\n",
    "                       np.array(scores).mean(axis = 0))\n",
    "        print(*[(i, round(j, 4)) for i, j in to_print])\n",
    "    return np.array(scores).mean(axis = 0)"
   ]
  },
  {
   "cell_type": "markdown",
   "id": "47b45cf0",
   "metadata": {},
   "source": [
    "# Without Feature Selection"
   ]
  },
  {
   "cell_type": "code",
   "execution_count": 33,
   "id": "dc704f39",
   "metadata": {},
   "outputs": [],
   "source": [
    "scaler = MinMaxScaler()\n",
    "X_scaled = scaler.fit_transform(X)"
   ]
  },
  {
   "cell_type": "code",
   "execution_count": 34,
   "id": "71d15be7",
   "metadata": {},
   "outputs": [
    {
     "name": "stdout",
     "output_type": "stream",
     "text": [
      "[0.9756     0.98666667 0.97996667 0.98094048 0.97191667]\n"
     ]
    }
   ],
   "source": [
    "print(classify(X_scaled, y))"
   ]
  },
  {
   "cell_type": "markdown",
   "id": "186c859e",
   "metadata": {},
   "source": [
    "# 1)\n",
    "\n",
    "# Pearson Correlation"
   ]
  },
  {
   "cell_type": "code",
   "execution_count": 39,
   "id": "323b8ef6",
   "metadata": {},
   "outputs": [
    {
     "name": "stdout",
     "output_type": "stream",
     "text": [
      "[ 0.73002851  0.4151853   0.74263553  0.70898384  0.35855997  0.59653368\n",
      "  0.69635971  0.77661384  0.33049855 -0.0128376   0.56713382 -0.00830333\n",
      "  0.5561407   0.54823594 -0.06701601  0.29299924  0.25372977  0.40804233\n",
      " -0.00652176  0.07797242  0.77645378  0.45690282  0.78291414  0.73382503\n",
      "  0.42146486  0.59099824  0.65961021  0.79356602  0.41629431  0.32387219]\n"
     ]
    }
   ],
   "source": [
    "from sklearn.feature_selection import r_regression\n",
    "from sklearn import preprocessing\n",
    "\n",
    "le = preprocessing.LabelEncoder()\n",
    "y_le = le.fit_transform(y)\n",
    "\n",
    "correlations = r_regression(X_scaled, y_le)\n",
    "\n",
    "print(correlations)"
   ]
  },
  {
   "cell_type": "code",
   "execution_count": 53,
   "id": "f04f1a50",
   "metadata": {},
   "outputs": [
    {
     "data": {
      "text/plain": [
       "array([ 2, 20,  7, 22, 27])"
      ]
     },
     "execution_count": 53,
     "metadata": {},
     "output_type": "execute_result"
    }
   ],
   "source": [
    "# By index, most correlated 5 columns are\n",
    "np.argsort(abs(correlations))[-5:]"
   ]
  },
  {
   "cell_type": "code",
   "execution_count": 52,
   "id": "af11a55a",
   "metadata": {},
   "outputs": [
    {
     "name": "stdout",
     "output_type": "stream",
     "text": [
      "('Accuracy: ', 0.9474) ('Precision: ', 0.9767) ('Recall: ', 0.9522) ('F1 Score: ', 0.9599) ('Roc Auc: ', 0.9369)\n"
     ]
    },
    {
     "data": {
      "text/plain": [
       "array([0.9474    , 0.97666667, 0.95221667, 0.95988016, 0.93691667])"
      ]
     },
     "execution_count": 52,
     "metadata": {},
     "output_type": "execute_result"
    }
   ],
   "source": [
    "X_pearson = X_scaled[:, np.argsort(abs(correlations))[-5:]] # Taking 5 most correlated features\n",
    "\n",
    "classify(X_pearson, y, verbose = True)"
   ]
  },
  {
   "cell_type": "markdown",
   "id": "ab14d4f8",
   "metadata": {},
   "source": [
    "# Recursive Feature Elimination\n",
    "\n",
    "I use a for loop here to try out different n_features_to_select parameter."
   ]
  },
  {
   "cell_type": "code",
   "execution_count": 35,
   "id": "7f09aa2a",
   "metadata": {},
   "outputs": [
    {
     "name": "stdout",
     "output_type": "stream",
     "text": [
      "n: 5\n",
      "('Accuracy: ', 0.97) ('Precision: ', 0.98) ('Recall: ', 0.98) ('F1 Score: ', 0.98) ('Roc Auc: ', 0.97)\n",
      "n: 6\n",
      "('Accuracy: ', 0.97) ('Precision: ', 0.97) ('Recall: ', 0.98) ('F1 Score: ', 0.98) ('Roc Auc: ', 0.97)\n",
      "n: 7\n",
      "('Accuracy: ', 0.98) ('Precision: ', 0.99) ('Recall: ', 0.98) ('F1 Score: ', 0.98) ('Roc Auc: ', 0.97)\n",
      "n: 8\n",
      "('Accuracy: ', 0.97) ('Precision: ', 0.98) ('Recall: ', 0.98) ('F1 Score: ', 0.98) ('Roc Auc: ', 0.97)\n",
      "n: 9\n",
      "('Accuracy: ', 0.97) ('Precision: ', 0.99) ('Recall: ', 0.97) ('F1 Score: ', 0.98) ('Roc Auc: ', 0.97)\n",
      "n: 10\n",
      "('Accuracy: ', 0.97) ('Precision: ', 0.99) ('Recall: ', 0.98) ('F1 Score: ', 0.98) ('Roc Auc: ', 0.97)\n",
      "n: 11\n",
      "('Accuracy: ', 0.97) ('Precision: ', 0.99) ('Recall: ', 0.98) ('F1 Score: ', 0.98) ('Roc Auc: ', 0.97)\n",
      "n: 12\n",
      "('Accuracy: ', 0.98) ('Precision: ', 0.99) ('Recall: ', 0.98) ('F1 Score: ', 0.98) ('Roc Auc: ', 0.97)\n",
      "n: 13\n",
      "('Accuracy: ', 0.98) ('Precision: ', 0.99) ('Recall: ', 0.98) ('F1 Score: ', 0.98) ('Roc Auc: ', 0.97)\n",
      "n: 14\n",
      "('Accuracy: ', 0.98) ('Precision: ', 0.99) ('Recall: ', 0.98) ('F1 Score: ', 0.98) ('Roc Auc: ', 0.97)\n"
     ]
    }
   ],
   "source": [
    "from sklearn.feature_selection import RFE\n",
    "from sklearn.svm import SVC\n",
    "\n",
    "for n in range(5, 15):\n",
    "    clf = SVC(kernel=\"linear\")\n",
    "    clf.fit(X_scaled, y)\n",
    "\n",
    "    selector = RFE(clf, n_features_to_select=n, step=1)\n",
    "    selector = selector.fit(X_scaled, y)\n",
    "    \n",
    "    important = selector.support_\n",
    "    X_reducted = X_scaled[:,important]\n",
    "    print('n: {}'.format(n))\n",
    "    classify(X_reducted, y, verbose = True)"
   ]
  },
  {
   "cell_type": "code",
   "execution_count": 13,
   "id": "7ec76807",
   "metadata": {},
   "outputs": [
    {
     "data": {
      "text/plain": [
       "array([ True, False, False, False,  True,  True,  True,  True,  True,\n",
       "       False, False,  True,  True, False, False, False, False, False,\n",
       "       False, False,  True, False, False, False,  True,  True,  True,\n",
       "        True,  True, False])"
      ]
     },
     "execution_count": 13,
     "metadata": {},
     "output_type": "execute_result"
    }
   ],
   "source": [
    "selector.support_"
   ]
  },
  {
   "cell_type": "code",
   "execution_count": 14,
   "id": "ad48bcaa",
   "metadata": {},
   "outputs": [
    {
     "data": {
      "text/plain": [
       "array([ 1,  8,  3, 17,  1,  1,  1,  1,  1, 14, 12,  1,  1,  9, 10,  6,  5,\n",
       "        7, 15, 13,  1,  2, 11, 16,  1,  1,  1,  1,  1,  4])"
      ]
     },
     "execution_count": 14,
     "metadata": {},
     "output_type": "execute_result"
    }
   ],
   "source": [
    "selector.ranking_"
   ]
  },
  {
   "cell_type": "markdown",
   "id": "a437f80b",
   "metadata": {},
   "source": [
    "# Random Forest\n",
    "\n",
    "Using the random forest feature importances, we can visualize importance of features.\n",
    "\n",
    "There is no need to use scaled dataset in forest algorithms, so I ll be using the non-scaled input array X."
   ]
  },
  {
   "cell_type": "code",
   "execution_count": 15,
   "id": "f3cb7b15",
   "metadata": {},
   "outputs": [
    {
     "data": {
      "image/png": "[encoded data removed]",
      "text/plain": [
       "<Figure size 640x480 with 1 Axes>"
      ]
     },
     "metadata": {},
     "output_type": "display_data"
    }
   ],
   "source": [
    "from sklearn.ensemble import RandomForestClassifier\n",
    "\n",
    "forest = RandomForestClassifier()\n",
    "forest.fit(X, y)\n",
    "\n",
    "importances = forest.feature_importances_\n",
    "forest_importances = pd.Series(importances)\n",
    "\n",
    "fig, ax = plt.subplots()\n",
    "forest_importances.plot.bar(ax=ax)\n",
    "ax.set_title(\"Feature importances using MDI\")\n",
    "ax.set_ylabel(\"Mean decrease in impurity\")\n",
    "fig.tight_layout()"
   ]
  },
  {
   "cell_type": "code",
   "execution_count": 55,
   "id": "413551e4",
   "metadata": {},
   "outputs": [
    {
     "name": "stdout",
     "output_type": "stream",
     "text": [
      "('Accuracy: ', 0.948) ('Precision: ', 0.9731) ('Recall: ', 0.9558) ('F1 Score: ', 0.9593) ('Roc Auc: ', 0.9386)\n"
     ]
    },
    {
     "data": {
      "text/plain": [
       "array([0.94796667, 0.97308333, 0.9558    , 0.95932698, 0.938625  ])"
      ]
     },
     "execution_count": 55,
     "metadata": {},
     "output_type": "execute_result"
    }
   ],
   "source": [
    "X_forest = X[:, [7, 20, 22, 23, 27]]\n",
    "\n",
    "classify(X_forest, y, verbose = True)"
   ]
  },
  {
   "cell_type": "markdown",
   "id": "935e4626",
   "metadata": {},
   "source": [
    "# 2)\n",
    "\n",
    "### Value Counts of Classes"
   ]
  },
  {
   "cell_type": "code",
   "execution_count": 16,
   "id": "ff6830ad",
   "metadata": {},
   "outputs": [
    {
     "data": {
      "text/plain": [
       "B    357\n",
       "M    212\n",
       "Name: diagnosis, dtype: int64"
      ]
     },
     "execution_count": 16,
     "metadata": {},
     "output_type": "execute_result"
    }
   ],
   "source": [
    "df.diagnosis.value_counts()"
   ]
  },
  {
   "cell_type": "markdown",
   "id": "b3e8c81c",
   "metadata": {},
   "source": [
    "# Random Undersampling\n",
    "\n",
    "The imblearn library has under and oversampling methods implemented. \n",
    "\n",
    "Using the RandomUnderSampler method, we can see that the class with more samples is reduced to the number of samples that the lower one has."
   ]
  },
  {
   "cell_type": "code",
   "execution_count": 17,
   "id": "9953e329",
   "metadata": {},
   "outputs": [
    {
     "name": "stdout",
     "output_type": "stream",
     "text": [
      "Resampled dataset shape Counter({'B': 212, 'M': 212})\n"
     ]
    }
   ],
   "source": [
    "from imblearn.under_sampling import RandomUnderSampler\n",
    "from collections import Counter\n",
    "\n",
    "rus = RandomUnderSampler()\n",
    "X_res, y_res = rus.fit_resample(X_scaled, y)\n",
    "print('Resampled dataset shape %s' % Counter(y_res))"
   ]
  },
  {
   "cell_type": "code",
   "execution_count": 18,
   "id": "8e868b78",
   "metadata": {},
   "outputs": [
    {
     "name": "stdout",
     "output_type": "stream",
     "text": [
      "('Accuracy: ', 0.97) ('Precision: ', 0.98) ('Recall: ', 0.98) ('F1 Score: ', 0.97) ('Roc Auc: ', 0.97)\n"
     ]
    },
    {
     "data": {
      "text/plain": [
       "array([0.97115   , 0.97516667, 0.97658333, 0.97004286, 0.97083333])"
      ]
     },
     "execution_count": 18,
     "metadata": {},
     "output_type": "execute_result"
    }
   ],
   "source": [
    "classify(X_res, y_res, verbose = True)"
   ]
  },
  {
   "cell_type": "markdown",
   "id": "1e4cba6b",
   "metadata": {},
   "source": [
    "# Random Oversampling\n",
    "\n",
    "From the same library, we can use RandomOverSampler method, and as can be seen, lower sample size class has now equal samples to the higher sample sized class. "
   ]
  },
  {
   "cell_type": "code",
   "execution_count": 19,
   "id": "7fc46a82",
   "metadata": {},
   "outputs": [
    {
     "name": "stdout",
     "output_type": "stream",
     "text": [
      "Resampled dataset shape Counter({'M': 357, 'B': 357})\n"
     ]
    }
   ],
   "source": [
    "from imblearn.over_sampling import RandomOverSampler\n",
    "\n",
    "ros = RandomOverSampler()\n",
    "X_res, y_res = ros.fit_resample(X_scaled, y)\n",
    "print('Resampled dataset shape %s' % Counter(y_res))"
   ]
  },
  {
   "cell_type": "code",
   "execution_count": 20,
   "id": "ca34faef",
   "metadata": {},
   "outputs": [
    {
     "name": "stdout",
     "output_type": "stream",
     "text": [
      "('Accuracy: ', 0.97) ('Precision: ', 0.98) ('Recall: ', 0.97) ('F1 Score: ', 0.97) ('Roc Auc: ', 0.97)\n"
     ]
    },
    {
     "data": {
      "text/plain": [
       "array([0.97228571, 0.97758333, 0.9729    , 0.97165714, 0.97245833])"
      ]
     },
     "execution_count": 20,
     "metadata": {},
     "output_type": "execute_result"
    }
   ],
   "source": [
    "classify(X_res, y_res, verbose = True)"
   ]
  },
  {
   "cell_type": "markdown",
   "id": "249c6f8a",
   "metadata": {},
   "source": [
    "# SMOTE\n",
    "\n",
    "From the same library, we can use SMOTE to oversample the lower class again."
   ]
  },
  {
   "cell_type": "code",
   "execution_count": 21,
   "id": "738de4cd",
   "metadata": {},
   "outputs": [
    {
     "name": "stdout",
     "output_type": "stream",
     "text": [
      "Resampled dataset shape Counter({'M': 357, 'B': 357})\n"
     ]
    }
   ],
   "source": [
    "from imblearn.over_sampling import SMOTE\n",
    "\n",
    "sm = SMOTE()\n",
    "X_res, y_res = sm.fit_resample(X_scaled, y)\n",
    "print('Resampled dataset shape %s' % Counter(y_res))"
   ]
  },
  {
   "cell_type": "code",
   "execution_count": 22,
   "id": "3a83e051",
   "metadata": {},
   "outputs": [
    {
     "name": "stdout",
     "output_type": "stream",
     "text": [
      "('Accuracy: ', 0.97) ('Precision: ', 0.97) ('Recall: ', 0.97) ('F1 Score: ', 0.97) ('Roc Auc: ', 0.97)\n"
     ]
    },
    {
     "data": {
      "text/plain": [
       "array([0.97094643, 0.97383333, 0.97466667, 0.97038095, 0.97095833])"
      ]
     },
     "execution_count": 22,
     "metadata": {},
     "output_type": "execute_result"
    }
   ],
   "source": [
    "classify(X_res, y_res, verbose = True)"
   ]
  },
  {
   "cell_type": "markdown",
   "id": "a7b49052",
   "metadata": {},
   "source": [
    "# ADASYN\n",
    "\n",
    "Also ADASYN is present in this library."
   ]
  },
  {
   "cell_type": "code",
   "execution_count": 23,
   "id": "cf06a379",
   "metadata": {},
   "outputs": [
    {
     "name": "stdout",
     "output_type": "stream",
     "text": [
      "Resampled dataset shape Counter({'M': 358, 'B': 357})\n"
     ]
    }
   ],
   "source": [
    "from imblearn.over_sampling import ADASYN\n",
    "\n",
    "ada = ADASYN()\n",
    "X_res, y_res = ada.fit_resample(X_scaled, y)\n",
    "print('Resampled dataset shape %s' % Counter(y_res))"
   ]
  },
  {
   "cell_type": "code",
   "execution_count": 24,
   "id": "b8a6e9e7",
   "metadata": {},
   "outputs": [
    {
     "name": "stdout",
     "output_type": "stream",
     "text": [
      "('Accuracy: ', 0.96) ('Precision: ', 0.97) ('Recall: ', 0.96) ('F1 Score: ', 0.96) ('Roc Auc: ', 0.96)\n"
     ]
    },
    {
     "data": {
      "text/plain": [
       "array([0.96233929, 0.9695    , 0.96288333, 0.96180952, 0.96283333])"
      ]
     },
     "execution_count": 24,
     "metadata": {},
     "output_type": "execute_result"
    }
   ],
   "source": [
    "classify(X_res, y_res, verbose = True)"
   ]
  },
  {
   "cell_type": "markdown",
   "id": "671b5ec1",
   "metadata": {},
   "source": [
    "# A_SUWO\n",
    "\n",
    "This method is present in a library called smote_variants that can be installed using pip."
   ]
  },
  {
   "cell_type": "code",
   "execution_count": 25,
   "id": "79fd9752",
   "metadata": {},
   "outputs": [
    {
     "data": {
      "text/plain": [
       "smote_variants.oversampling._a_suwo.A_SUWO"
      ]
     },
     "execution_count": 25,
     "metadata": {},
     "output_type": "execute_result"
    }
   ],
   "source": [
    "import smote_variants as sv\n",
    "\n",
    "sv.A_SUWO"
   ]
  },
  {
   "cell_type": "code",
   "execution_count": 26,
   "id": "8d16b8db",
   "metadata": {},
   "outputs": [
    {
     "name": "stderr",
     "output_type": "stream",
     "text": [
      "2023-03-19 19:08:53,337:INFO:A_SUWO: Running sampling via ('A_SUWO', \"{'proportion': 1.0, 'n_neighbors': 5, 'nn_params': {}, 'n_clus_maj': 7, 'c_thres': 0.8, 'n_jobs': 1, 'ss_params': {'n_dim': 2, 'simplex_sampling': 'random', 'within_simplex_sampling': 'random', 'gaussian_component': {}}, 'random_state': None, 'class_name': 'A_SUWO'}\")\n",
      "2023-03-19 19:08:53,339:INFO:NearestNeighborsWithMetricTensor: NN fitting with metric minkowski\n",
      "2023-03-19 19:08:53,340:INFO:NearestNeighborsWithMetricTensor: kneighbors query minkowski\n",
      "2023-03-19 19:08:53,391:INFO:NearestNeighborsWithMetricTensor: NN fitting with metric minkowski\n",
      "2023-03-19 19:08:53,392:INFO:NearestNeighborsWithMetricTensor: kneighbors query minkowski\n",
      "2023-03-19 19:08:53,519:INFO:NearestNeighborsWithMetricTensor: NN fitting with metric minkowski\n",
      "2023-03-19 19:08:53,520:INFO:NearestNeighborsWithMetricTensor: kneighbors query minkowski\n",
      "2023-03-19 19:08:53,549:INFO:NearestNeighborsWithMetricTensor: NN fitting with metric minkowski\n",
      "2023-03-19 19:08:53,550:INFO:NearestNeighborsWithMetricTensor: kneighbors query minkowski\n",
      "2023-03-19 19:08:53,563:INFO:NearestNeighborsWithMetricTensor: NN fitting with metric minkowski\n",
      "2023-03-19 19:08:53,564:INFO:NearestNeighborsWithMetricTensor: kneighbors query minkowski\n",
      "2023-03-19 19:08:53,573:INFO:NearestNeighborsWithMetricTensor: NN fitting with metric minkowski\n",
      "2023-03-19 19:08:53,574:INFO:NearestNeighborsWithMetricTensor: kneighbors query minkowski\n",
      "2023-03-19 19:08:53,586:INFO:NearestNeighborsWithMetricTensor: NN fitting with metric minkowski\n",
      "2023-03-19 19:08:53,587:INFO:NearestNeighborsWithMetricTensor: kneighbors query minkowski\n",
      "2023-03-19 19:08:53,600:INFO:NearestNeighborsWithMetricTensor: NN fitting with metric minkowski\n",
      "2023-03-19 19:08:53,601:INFO:NearestNeighborsWithMetricTensor: kneighbors query minkowski\n",
      "2023-03-19 19:08:53,614:INFO:NearestNeighborsWithMetricTensor: NN fitting with metric minkowski\n",
      "2023-03-19 19:08:53,614:INFO:NearestNeighborsWithMetricTensor: kneighbors query minkowski\n",
      "2023-03-19 19:08:53,627:INFO:NearestNeighborsWithMetricTensor: NN fitting with metric minkowski\n",
      "2023-03-19 19:08:53,628:INFO:NearestNeighborsWithMetricTensor: kneighbors query minkowski\n",
      "2023-03-19 19:08:53,641:INFO:NearestNeighborsWithMetricTensor: NN fitting with metric minkowski\n",
      "2023-03-19 19:08:53,642:INFO:NearestNeighborsWithMetricTensor: kneighbors query minkowski\n",
      "2023-03-19 19:08:53,654:INFO:NearestNeighborsWithMetricTensor: NN fitting with metric minkowski\n",
      "2023-03-19 19:08:53,655:INFO:NearestNeighborsWithMetricTensor: kneighbors query minkowski\n",
      "2023-03-19 19:08:53,667:INFO:NearestNeighborsWithMetricTensor: NN fitting with metric minkowski\n",
      "2023-03-19 19:08:53,668:INFO:NearestNeighborsWithMetricTensor: kneighbors query minkowski\n",
      "2023-03-19 19:08:53,681:INFO:NearestNeighborsWithMetricTensor: NN fitting with metric minkowski\n",
      "2023-03-19 19:08:53,682:INFO:NearestNeighborsWithMetricTensor: kneighbors query minkowski\n",
      "2023-03-19 19:08:53,689:INFO:NearestNeighborsWithMetricTensor: NN fitting with metric minkowski\n",
      "2023-03-19 19:08:53,691:INFO:NearestNeighborsWithMetricTensor: kneighbors query minkowski\n",
      "2023-03-19 19:08:53,701:INFO:NearestNeighborsWithMetricTensor: NN fitting with metric minkowski\n",
      "2023-03-19 19:08:53,702:INFO:NearestNeighborsWithMetricTensor: kneighbors query minkowski\n",
      "2023-03-19 19:08:53,708:INFO:NearestNeighborsWithMetricTensor: NN fitting with metric minkowski\n",
      "2023-03-19 19:08:53,709:INFO:NearestNeighborsWithMetricTensor: kneighbors query minkowski\n",
      "2023-03-19 19:08:53,714:INFO:NearestNeighborsWithMetricTensor: NN fitting with metric minkowski\n",
      "2023-03-19 19:08:53,716:INFO:NearestNeighborsWithMetricTensor: kneighbors query minkowski\n",
      "2023-03-19 19:08:53,721:INFO:NearestNeighborsWithMetricTensor: NN fitting with metric minkowski\n",
      "2023-03-19 19:08:53,723:INFO:NearestNeighborsWithMetricTensor: kneighbors query minkowski\n",
      "2023-03-19 19:08:53,728:INFO:NearestNeighborsWithMetricTensor: NN fitting with metric minkowski\n",
      "2023-03-19 19:08:53,730:INFO:NearestNeighborsWithMetricTensor: kneighbors query minkowski\n",
      "2023-03-19 19:08:53,735:INFO:NearestNeighborsWithMetricTensor: NN fitting with metric minkowski\n",
      "2023-03-19 19:08:53,737:INFO:NearestNeighborsWithMetricTensor: kneighbors query minkowski\n",
      "2023-03-19 19:08:53,741:INFO:NearestNeighborsWithMetricTensor: NN fitting with metric minkowski\n",
      "2023-03-19 19:08:53,743:INFO:NearestNeighborsWithMetricTensor: kneighbors query minkowski\n",
      "2023-03-19 19:08:53,747:INFO:NearestNeighborsWithMetricTensor: NN fitting with metric minkowski\n",
      "2023-03-19 19:08:53,748:INFO:NearestNeighborsWithMetricTensor: kneighbors query minkowski\n",
      "2023-03-19 19:08:53,752:INFO:NearestNeighborsWithMetricTensor: NN fitting with metric minkowski\n",
      "2023-03-19 19:08:53,753:INFO:NearestNeighborsWithMetricTensor: kneighbors query minkowski\n",
      "2023-03-19 19:08:53,757:INFO:NearestNeighborsWithMetricTensor: NN fitting with metric minkowski\n",
      "2023-03-19 19:08:53,758:INFO:NearestNeighborsWithMetricTensor: kneighbors query minkowski\n",
      "2023-03-19 19:08:53,766:INFO:A_SUWO: simplex sampling with n_dim 2\n",
      "2023-03-19 19:08:53,767:INFO:A_SUWO: The simplex order was updated from 2 to 1\n",
      "2023-03-19 19:08:53,768:INFO:A_SUWO: simplex sampling with n_dim 1\n",
      "2023-03-19 19:08:53,769:INFO:A_SUWO: simplex sampling with n_dim 2\n",
      "2023-03-19 19:08:53,771:INFO:A_SUWO: simplex sampling with n_dim 2\n",
      "2023-03-19 19:08:53,772:INFO:A_SUWO: The simplex order was updated from 2 to 1\n",
      "2023-03-19 19:08:53,773:INFO:A_SUWO: simplex sampling with n_dim 1\n",
      "2023-03-19 19:08:53,774:INFO:A_SUWO: The simplex order was updated from 2 to 1\n",
      "2023-03-19 19:08:53,775:INFO:A_SUWO: simplex sampling with n_dim 1\n",
      "2023-03-19 19:08:53,776:INFO:A_SUWO: The simplex order was updated from 2 to 1\n",
      "2023-03-19 19:08:53,777:INFO:A_SUWO: simplex sampling with n_dim 1\n",
      "2023-03-19 19:08:53,779:INFO:A_SUWO: The simplex order was updated from 2 to 1\n",
      "2023-03-19 19:08:53,780:INFO:A_SUWO: simplex sampling with n_dim 1\n",
      "2023-03-19 19:08:53,781:INFO:A_SUWO: simplex sampling with n_dim 2\n",
      "2023-03-19 19:08:53,783:INFO:A_SUWO: simplex sampling with n_dim 2\n",
      "2023-03-19 19:08:53,784:INFO:A_SUWO: The simplex order was updated from 2 to 1\n",
      "2023-03-19 19:08:53,785:INFO:A_SUWO: simplex sampling with n_dim 1\n",
      "2023-03-19 19:08:53,787:INFO:A_SUWO: The simplex order was updated from 2 to 1\n",
      "2023-03-19 19:08:53,787:INFO:A_SUWO: simplex sampling with n_dim 1\n",
      "2023-03-19 19:08:53,788:INFO:A_SUWO: The simplex order was updated from 2 to 1\n",
      "2023-03-19 19:08:53,789:INFO:A_SUWO: simplex sampling with n_dim 1\n",
      "2023-03-19 19:08:53,790:INFO:A_SUWO: simplex sampling with n_dim 2\n",
      "2023-03-19 19:08:53,792:INFO:A_SUWO: The simplex order was updated from 2 to 1\n",
      "2023-03-19 19:08:53,793:INFO:A_SUWO: simplex sampling with n_dim 1\n",
      "2023-03-19 19:08:53,793:INFO:A_SUWO: simplex sampling with n_dim 2\n",
      "2023-03-19 19:08:53,794:INFO:A_SUWO: The simplex order was updated from 2 to 1\n",
      "2023-03-19 19:08:53,795:INFO:A_SUWO: simplex sampling with n_dim 1\n",
      "2023-03-19 19:08:53,796:INFO:A_SUWO: The simplex order was updated from 2 to 1\n",
      "2023-03-19 19:08:53,797:INFO:A_SUWO: simplex sampling with n_dim 1\n",
      "2023-03-19 19:08:53,799:INFO:A_SUWO: The simplex order was updated from 2 to 1\n",
      "2023-03-19 19:08:53,801:INFO:A_SUWO: simplex sampling with n_dim 1\n",
      "2023-03-19 19:08:53,801:INFO:A_SUWO: The simplex order was updated from 2 to 1\n",
      "2023-03-19 19:08:53,802:INFO:A_SUWO: simplex sampling with n_dim 1\n",
      "2023-03-19 19:08:53,803:INFO:A_SUWO: The simplex order was updated from 2 to 1\n",
      "2023-03-19 19:08:53,804:INFO:A_SUWO: simplex sampling with n_dim 1\n"
     ]
    }
   ],
   "source": [
    "oversampler= sv.A_SUWO()\n",
    "X_samp, y_samp= oversampler.sample(X_scaled, y)"
   ]
  },
  {
   "cell_type": "code",
   "execution_count": 27,
   "id": "286556e8",
   "metadata": {},
   "outputs": [
    {
     "name": "stdout",
     "output_type": "stream",
     "text": [
      "('Accuracy: ', 0.97) ('Precision: ', 0.97) ('Recall: ', 0.98) ('F1 Score: ', 0.97) ('Roc Auc: ', 0.97)\n"
     ]
    },
    {
     "data": {
      "text/plain": [
       "array([0.97003571, 0.96916667, 0.97631667, 0.96881667, 0.9705    ])"
      ]
     },
     "execution_count": 27,
     "metadata": {},
     "output_type": "execute_result"
    }
   ],
   "source": [
    "classify(X_samp, y_samp, verbose = True)"
   ]
  },
  {
   "cell_type": "code",
   "execution_count": null,
   "id": "5e79c79e",
   "metadata": {},
   "outputs": [],
   "source": []
  }
 ],
 "metadata": {
  "kernelspec": {
   "display_name": "Python 3 (ipykernel)",
   "language": "python",
   "name": "python3"
  },
  "language_info": {
   "codemirror_mode": {
    "name": "ipython",
    "version": 3
   },
   "file_extension": ".py",
   "mimetype": "text/x-python",
   "name": "python",
   "nbconvert_exporter": "python",
   "pygments_lexer": "ipython3",
   "version": "3.10.9"
  }
 },
 "nbformat": 4,
 "nbformat_minor": 5
}
